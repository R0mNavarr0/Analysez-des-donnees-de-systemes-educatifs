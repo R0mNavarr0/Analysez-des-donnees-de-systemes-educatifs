{
 "cells": [
  {
   "cell_type": "code",
   "execution_count": 73,
   "id": "0b78ef68",
   "metadata": {},
   "outputs": [],
   "source": [
    "#Importation des librairies\n",
    "import pandas as pd\n",
    "import os\n",
    "import numpy as np\n",
    "import matplotlib.pyplot as plt\n",
    "import seaborn as sns"
   ]
  },
  {
   "cell_type": "code",
   "execution_count": 74,
   "id": "39a25947",
   "metadata": {},
   "outputs": [],
   "source": [
    "#Chargement des fichiers de données\n",
    "df_country = pd.read_csv('./data/EdStatsCountry.csv')\n",
    "df_country_series = pd.read_csv('./data/EdStatsCountry-Series.csv')\n",
    "df_data = pd.read_csv('./data/EdStatsData.csv')\n",
    "df_footnote = pd.read_csv('./data/EdStatsFootNote.csv')\n",
    "df_series = pd.read_csv('./data/EdStatsSeries.csv')"
   ]
  },
  {
   "cell_type": "markdown",
   "id": "ff53d7d3",
   "metadata": {},
   "source": [
    "# Exploration des fichiers de données"
   ]
  },
  {
   "cell_type": "markdown",
   "id": "206601ff",
   "metadata": {},
   "source": [
    "### Exploration du fichier \"EdStatsCountry\""
   ]
  },
  {
   "cell_type": "code",
   "execution_count": 75,
   "id": "b37456ed",
   "metadata": {},
   "outputs": [
    {
     "data": {
      "application/vnd.microsoft.datawrangler.viewer.v0+json": {
       "columns": [
        {
         "name": "index",
         "rawType": "int64",
         "type": "integer"
        },
        {
         "name": "Country Code",
         "rawType": "object",
         "type": "string"
        },
        {
         "name": "Short Name",
         "rawType": "object",
         "type": "string"
        },
        {
         "name": "Table Name",
         "rawType": "object",
         "type": "string"
        },
        {
         "name": "Long Name",
         "rawType": "object",
         "type": "string"
        },
        {
         "name": "2-alpha code",
         "rawType": "object",
         "type": "string"
        },
        {
         "name": "Currency Unit",
         "rawType": "object",
         "type": "string"
        },
        {
         "name": "Special Notes",
         "rawType": "object",
         "type": "unknown"
        },
        {
         "name": "Region",
         "rawType": "object",
         "type": "string"
        },
        {
         "name": "Income Group",
         "rawType": "object",
         "type": "string"
        },
        {
         "name": "WB-2 code",
         "rawType": "object",
         "type": "string"
        },
        {
         "name": "National accounts base year",
         "rawType": "object",
         "type": "string"
        },
        {
         "name": "National accounts reference year",
         "rawType": "float64",
         "type": "float"
        },
        {
         "name": "SNA price valuation",
         "rawType": "object",
         "type": "unknown"
        },
        {
         "name": "Lending category",
         "rawType": "object",
         "type": "unknown"
        },
        {
         "name": "Other groups",
         "rawType": "object",
         "type": "unknown"
        },
        {
         "name": "System of National Accounts",
         "rawType": "object",
         "type": "string"
        },
        {
         "name": "Alternative conversion factor",
         "rawType": "object",
         "type": "unknown"
        },
        {
         "name": "PPP survey year",
         "rawType": "object",
         "type": "unknown"
        },
        {
         "name": "Balance of Payments Manual in use",
         "rawType": "object",
         "type": "unknown"
        },
        {
         "name": "External debt Reporting status",
         "rawType": "object",
         "type": "unknown"
        },
        {
         "name": "System of trade",
         "rawType": "object",
         "type": "string"
        },
        {
         "name": "Government Accounting concept",
         "rawType": "object",
         "type": "unknown"
        },
        {
         "name": "IMF data dissemination standard",
         "rawType": "object",
         "type": "unknown"
        },
        {
         "name": "Latest population census",
         "rawType": "object",
         "type": "string"
        },
        {
         "name": "Latest household survey",
         "rawType": "object",
         "type": "unknown"
        },
        {
         "name": "Source of most recent Income and expenditure data",
         "rawType": "object",
         "type": "unknown"
        },
        {
         "name": "Vital registration complete",
         "rawType": "object",
         "type": "unknown"
        },
        {
         "name": "Latest agricultural census",
         "rawType": "object",
         "type": "unknown"
        },
        {
         "name": "Latest industrial data",
         "rawType": "float64",
         "type": "float"
        },
        {
         "name": "Latest trade data",
         "rawType": "float64",
         "type": "float"
        },
        {
         "name": "Latest water withdrawal data",
         "rawType": "object",
         "type": "unknown"
        },
        {
         "name": "Unnamed: 31",
         "rawType": "float64",
         "type": "float"
        }
       ],
       "ref": "ebcd5503-bfe3-45c7-96f6-92b1097f981e",
       "rows": [
        [
         "0",
         "ABW",
         "Aruba",
         "Aruba",
         "Aruba",
         "AW",
         "Aruban florin",
         "SNA data for 2000-2011 are updated from official government statistics; 1994-1999 from UN databases. Base year has changed from 1995 to 2000.",
         "Latin America & Caribbean",
         "High income: nonOECD",
         "AW",
         "2000",
         null,
         "Value added at basic prices (VAB)",
         null,
         null,
         "Country uses the 1993 System of National Accounts methodology.",
         null,
         null,
         "IMF Balance of Payments Manual, 6th edition.",
         null,
         "Special trade system",
         null,
         null,
         "2010",
         null,
         null,
         "Yes",
         null,
         null,
         "2012.0",
         null,
         null
        ],
        [
         "1",
         "AFG",
         "Afghanistan",
         "Afghanistan",
         "Islamic State of Afghanistan",
         "AF",
         "Afghan afghani",
         "Fiscal year end: March 20; reporting period for national accounts data: FY (from 2013 are CY). National accounts data are sourced from the IMF and differ from the Central Statistics Organization numbers due to exclusion of the opium economy.",
         "South Asia",
         "Low income",
         "AF",
         "2002/03",
         null,
         "Value added at basic prices (VAB)",
         "IDA",
         "HIPC",
         "Country uses the 1993 System of National Accounts methodology.",
         null,
         null,
         null,
         "Actual",
         "General trade system",
         "Consolidated central government",
         "General Data Dissemination System (GDDS)",
         "1979",
         "Multiple Indicator Cluster Survey (MICS), 2010/11",
         "Integrated household survey (IHS), 2008",
         null,
         "2013/14",
         null,
         "2012.0",
         "2000",
         null
        ],
        [
         "2",
         "AGO",
         "Angola",
         "Angola",
         "People's Republic of Angola",
         "AO",
         "Angolan kwanza",
         "April 2013 database update: Based on IMF data, national accounts data were revised for 2000 onward; the base year changed to 2002.",
         "Sub-Saharan Africa",
         "Upper middle income",
         "AO",
         "2002",
         null,
         "Value added at producer prices (VAP)",
         "IBRD",
         null,
         "Country uses the 1993 System of National Accounts methodology.",
         "1991–96",
         "2005",
         "IMF Balance of Payments Manual, 6th edition.",
         "Actual",
         "Special trade system",
         "Budgetary central government",
         "General Data Dissemination System (GDDS)",
         "1970",
         "Malaria Indicator Survey (MIS), 2011",
         "Integrated household survey (IHS), 2008",
         null,
         "2015",
         null,
         null,
         "2005",
         null
        ],
        [
         "3",
         "ALB",
         "Albania",
         "Albania",
         "Republic of Albania",
         "AL",
         "Albanian lek",
         null,
         "Europe & Central Asia",
         "Upper middle income",
         "AL",
         "Original chained constant price data are rescaled.",
         "1996.0",
         "Value added at basic prices (VAB)",
         "IBRD",
         null,
         "Country uses the 1993 System of National Accounts methodology.",
         null,
         "Rolling",
         "IMF Balance of Payments Manual, 6th edition.",
         "Actual",
         "General trade system",
         "Budgetary central government",
         "General Data Dissemination System (GDDS)",
         "2011",
         "Demographic and Health Survey (DHS), 2008/09",
         "Living Standards Measurement Study Survey (LSMS), 2012",
         "Yes",
         "2012",
         "2010.0",
         "2012.0",
         "2006",
         null
        ],
        [
         "4",
         "AND",
         "Andorra",
         "Andorra",
         "Principality of Andorra",
         "AD",
         "Euro",
         null,
         "Europe & Central Asia",
         "High income: nonOECD",
         "AD",
         "1990",
         null,
         null,
         null,
         null,
         "Country uses the 1968 System of National Accounts methodology.",
         null,
         null,
         null,
         null,
         "Special trade system",
         null,
         null,
         "2011. Population figures compiled from administrative registers.",
         null,
         null,
         "Yes",
         null,
         null,
         "2006.0",
         null,
         null
        ]
       ],
       "shape": {
        "columns": 32,
        "rows": 5
       }
      },
      "text/html": [
       "<div>\n",
       "<style scoped>\n",
       "    .dataframe tbody tr th:only-of-type {\n",
       "        vertical-align: middle;\n",
       "    }\n",
       "\n",
       "    .dataframe tbody tr th {\n",
       "        vertical-align: top;\n",
       "    }\n",
       "\n",
       "    .dataframe thead th {\n",
       "        text-align: right;\n",
       "    }\n",
       "</style>\n",
       "<table border=\"1\" class=\"dataframe\">\n",
       "  <thead>\n",
       "    <tr style=\"text-align: right;\">\n",
       "      <th></th>\n",
       "      <th>Country Code</th>\n",
       "      <th>Short Name</th>\n",
       "      <th>Table Name</th>\n",
       "      <th>Long Name</th>\n",
       "      <th>2-alpha code</th>\n",
       "      <th>Currency Unit</th>\n",
       "      <th>Special Notes</th>\n",
       "      <th>Region</th>\n",
       "      <th>Income Group</th>\n",
       "      <th>WB-2 code</th>\n",
       "      <th>...</th>\n",
       "      <th>IMF data dissemination standard</th>\n",
       "      <th>Latest population census</th>\n",
       "      <th>Latest household survey</th>\n",
       "      <th>Source of most recent Income and expenditure data</th>\n",
       "      <th>Vital registration complete</th>\n",
       "      <th>Latest agricultural census</th>\n",
       "      <th>Latest industrial data</th>\n",
       "      <th>Latest trade data</th>\n",
       "      <th>Latest water withdrawal data</th>\n",
       "      <th>Unnamed: 31</th>\n",
       "    </tr>\n",
       "  </thead>\n",
       "  <tbody>\n",
       "    <tr>\n",
       "      <th>0</th>\n",
       "      <td>ABW</td>\n",
       "      <td>Aruba</td>\n",
       "      <td>Aruba</td>\n",
       "      <td>Aruba</td>\n",
       "      <td>AW</td>\n",
       "      <td>Aruban florin</td>\n",
       "      <td>SNA data for 2000-2011 are updated from offici...</td>\n",
       "      <td>Latin America &amp; Caribbean</td>\n",
       "      <td>High income: nonOECD</td>\n",
       "      <td>AW</td>\n",
       "      <td>...</td>\n",
       "      <td>NaN</td>\n",
       "      <td>2010</td>\n",
       "      <td>NaN</td>\n",
       "      <td>NaN</td>\n",
       "      <td>Yes</td>\n",
       "      <td>NaN</td>\n",
       "      <td>NaN</td>\n",
       "      <td>2012.0</td>\n",
       "      <td>NaN</td>\n",
       "      <td>NaN</td>\n",
       "    </tr>\n",
       "    <tr>\n",
       "      <th>1</th>\n",
       "      <td>AFG</td>\n",
       "      <td>Afghanistan</td>\n",
       "      <td>Afghanistan</td>\n",
       "      <td>Islamic State of Afghanistan</td>\n",
       "      <td>AF</td>\n",
       "      <td>Afghan afghani</td>\n",
       "      <td>Fiscal year end: March 20; reporting period fo...</td>\n",
       "      <td>South Asia</td>\n",
       "      <td>Low income</td>\n",
       "      <td>AF</td>\n",
       "      <td>...</td>\n",
       "      <td>General Data Dissemination System (GDDS)</td>\n",
       "      <td>1979</td>\n",
       "      <td>Multiple Indicator Cluster Survey (MICS), 2010/11</td>\n",
       "      <td>Integrated household survey (IHS), 2008</td>\n",
       "      <td>NaN</td>\n",
       "      <td>2013/14</td>\n",
       "      <td>NaN</td>\n",
       "      <td>2012.0</td>\n",
       "      <td>2000</td>\n",
       "      <td>NaN</td>\n",
       "    </tr>\n",
       "    <tr>\n",
       "      <th>2</th>\n",
       "      <td>AGO</td>\n",
       "      <td>Angola</td>\n",
       "      <td>Angola</td>\n",
       "      <td>People's Republic of Angola</td>\n",
       "      <td>AO</td>\n",
       "      <td>Angolan kwanza</td>\n",
       "      <td>April 2013 database update: Based on IMF data,...</td>\n",
       "      <td>Sub-Saharan Africa</td>\n",
       "      <td>Upper middle income</td>\n",
       "      <td>AO</td>\n",
       "      <td>...</td>\n",
       "      <td>General Data Dissemination System (GDDS)</td>\n",
       "      <td>1970</td>\n",
       "      <td>Malaria Indicator Survey (MIS), 2011</td>\n",
       "      <td>Integrated household survey (IHS), 2008</td>\n",
       "      <td>NaN</td>\n",
       "      <td>2015</td>\n",
       "      <td>NaN</td>\n",
       "      <td>NaN</td>\n",
       "      <td>2005</td>\n",
       "      <td>NaN</td>\n",
       "    </tr>\n",
       "    <tr>\n",
       "      <th>3</th>\n",
       "      <td>ALB</td>\n",
       "      <td>Albania</td>\n",
       "      <td>Albania</td>\n",
       "      <td>Republic of Albania</td>\n",
       "      <td>AL</td>\n",
       "      <td>Albanian lek</td>\n",
       "      <td>NaN</td>\n",
       "      <td>Europe &amp; Central Asia</td>\n",
       "      <td>Upper middle income</td>\n",
       "      <td>AL</td>\n",
       "      <td>...</td>\n",
       "      <td>General Data Dissemination System (GDDS)</td>\n",
       "      <td>2011</td>\n",
       "      <td>Demographic and Health Survey (DHS), 2008/09</td>\n",
       "      <td>Living Standards Measurement Study Survey (LSM...</td>\n",
       "      <td>Yes</td>\n",
       "      <td>2012</td>\n",
       "      <td>2010.0</td>\n",
       "      <td>2012.0</td>\n",
       "      <td>2006</td>\n",
       "      <td>NaN</td>\n",
       "    </tr>\n",
       "    <tr>\n",
       "      <th>4</th>\n",
       "      <td>AND</td>\n",
       "      <td>Andorra</td>\n",
       "      <td>Andorra</td>\n",
       "      <td>Principality of Andorra</td>\n",
       "      <td>AD</td>\n",
       "      <td>Euro</td>\n",
       "      <td>NaN</td>\n",
       "      <td>Europe &amp; Central Asia</td>\n",
       "      <td>High income: nonOECD</td>\n",
       "      <td>AD</td>\n",
       "      <td>...</td>\n",
       "      <td>NaN</td>\n",
       "      <td>2011. Population figures compiled from adminis...</td>\n",
       "      <td>NaN</td>\n",
       "      <td>NaN</td>\n",
       "      <td>Yes</td>\n",
       "      <td>NaN</td>\n",
       "      <td>NaN</td>\n",
       "      <td>2006.0</td>\n",
       "      <td>NaN</td>\n",
       "      <td>NaN</td>\n",
       "    </tr>\n",
       "  </tbody>\n",
       "</table>\n",
       "<p>5 rows × 32 columns</p>\n",
       "</div>"
      ],
      "text/plain": [
       "  Country Code   Short Name   Table Name                     Long Name  \\\n",
       "0          ABW        Aruba        Aruba                         Aruba   \n",
       "1          AFG  Afghanistan  Afghanistan  Islamic State of Afghanistan   \n",
       "2          AGO       Angola       Angola   People's Republic of Angola   \n",
       "3          ALB      Albania      Albania           Republic of Albania   \n",
       "4          AND      Andorra      Andorra       Principality of Andorra   \n",
       "\n",
       "  2-alpha code   Currency Unit  \\\n",
       "0           AW   Aruban florin   \n",
       "1           AF  Afghan afghani   \n",
       "2           AO  Angolan kwanza   \n",
       "3           AL    Albanian lek   \n",
       "4           AD            Euro   \n",
       "\n",
       "                                       Special Notes  \\\n",
       "0  SNA data for 2000-2011 are updated from offici...   \n",
       "1  Fiscal year end: March 20; reporting period fo...   \n",
       "2  April 2013 database update: Based on IMF data,...   \n",
       "3                                                NaN   \n",
       "4                                                NaN   \n",
       "\n",
       "                      Region          Income Group WB-2 code  ...  \\\n",
       "0  Latin America & Caribbean  High income: nonOECD        AW  ...   \n",
       "1                 South Asia            Low income        AF  ...   \n",
       "2         Sub-Saharan Africa   Upper middle income        AO  ...   \n",
       "3      Europe & Central Asia   Upper middle income        AL  ...   \n",
       "4      Europe & Central Asia  High income: nonOECD        AD  ...   \n",
       "\n",
       "            IMF data dissemination standard  \\\n",
       "0                                       NaN   \n",
       "1  General Data Dissemination System (GDDS)   \n",
       "2  General Data Dissemination System (GDDS)   \n",
       "3  General Data Dissemination System (GDDS)   \n",
       "4                                       NaN   \n",
       "\n",
       "                            Latest population census  \\\n",
       "0                                               2010   \n",
       "1                                               1979   \n",
       "2                                               1970   \n",
       "3                                               2011   \n",
       "4  2011. Population figures compiled from adminis...   \n",
       "\n",
       "                             Latest household survey  \\\n",
       "0                                                NaN   \n",
       "1  Multiple Indicator Cluster Survey (MICS), 2010/11   \n",
       "2               Malaria Indicator Survey (MIS), 2011   \n",
       "3       Demographic and Health Survey (DHS), 2008/09   \n",
       "4                                                NaN   \n",
       "\n",
       "   Source of most recent Income and expenditure data  \\\n",
       "0                                                NaN   \n",
       "1            Integrated household survey (IHS), 2008   \n",
       "2            Integrated household survey (IHS), 2008   \n",
       "3  Living Standards Measurement Study Survey (LSM...   \n",
       "4                                                NaN   \n",
       "\n",
       "  Vital registration complete Latest agricultural census  \\\n",
       "0                         Yes                        NaN   \n",
       "1                         NaN                    2013/14   \n",
       "2                         NaN                       2015   \n",
       "3                         Yes                       2012   \n",
       "4                         Yes                        NaN   \n",
       "\n",
       "  Latest industrial data Latest trade data Latest water withdrawal data  \\\n",
       "0                    NaN            2012.0                          NaN   \n",
       "1                    NaN            2012.0                         2000   \n",
       "2                    NaN               NaN                         2005   \n",
       "3                 2010.0            2012.0                         2006   \n",
       "4                    NaN            2006.0                          NaN   \n",
       "\n",
       "  Unnamed: 31  \n",
       "0         NaN  \n",
       "1         NaN  \n",
       "2         NaN  \n",
       "3         NaN  \n",
       "4         NaN  \n",
       "\n",
       "[5 rows x 32 columns]"
      ]
     },
     "execution_count": 75,
     "metadata": {},
     "output_type": "execute_result"
    }
   ],
   "source": [
    "df_country.head(5)"
   ]
  },
  {
   "cell_type": "code",
   "execution_count": 76,
   "id": "f29e6020",
   "metadata": {},
   "outputs": [
    {
     "name": "stdout",
     "output_type": "stream",
     "text": [
      "<class 'pandas.core.frame.DataFrame'>\n",
      "RangeIndex: 241 entries, 0 to 240\n",
      "Data columns (total 32 columns):\n",
      " #   Column                                             Non-Null Count  Dtype  \n",
      "---  ------                                             --------------  -----  \n",
      " 0   Country Code                                       241 non-null    object \n",
      " 1   Short Name                                         241 non-null    object \n",
      " 2   Table Name                                         241 non-null    object \n",
      " 3   Long Name                                          241 non-null    object \n",
      " 4   2-alpha code                                       238 non-null    object \n",
      " 5   Currency Unit                                      215 non-null    object \n",
      " 6   Special Notes                                      145 non-null    object \n",
      " 7   Region                                             214 non-null    object \n",
      " 8   Income Group                                       214 non-null    object \n",
      " 9   WB-2 code                                          240 non-null    object \n",
      " 10  National accounts base year                        205 non-null    object \n",
      " 11  National accounts reference year                   32 non-null     float64\n",
      " 12  SNA price valuation                                197 non-null    object \n",
      " 13  Lending category                                   144 non-null    object \n",
      " 14  Other groups                                       58 non-null     object \n",
      " 15  System of National Accounts                        215 non-null    object \n",
      " 16  Alternative conversion factor                      47 non-null     object \n",
      " 17  PPP survey year                                    145 non-null    object \n",
      " 18  Balance of Payments Manual in use                  181 non-null    object \n",
      " 19  External debt Reporting status                     124 non-null    object \n",
      " 20  System of trade                                    200 non-null    object \n",
      " 21  Government Accounting concept                      161 non-null    object \n",
      " 22  IMF data dissemination standard                    181 non-null    object \n",
      " 23  Latest population census                           213 non-null    object \n",
      " 24  Latest household survey                            141 non-null    object \n",
      " 25  Source of most recent Income and expenditure data  160 non-null    object \n",
      " 26  Vital registration complete                        111 non-null    object \n",
      " 27  Latest agricultural census                         142 non-null    object \n",
      " 28  Latest industrial data                             107 non-null    float64\n",
      " 29  Latest trade data                                  185 non-null    float64\n",
      " 30  Latest water withdrawal data                       179 non-null    object \n",
      " 31  Unnamed: 31                                        0 non-null      float64\n",
      "dtypes: float64(4), object(28)\n",
      "memory usage: 60.4+ KB\n"
     ]
    }
   ],
   "source": [
    "df_country.info()"
   ]
  },
  {
   "cell_type": "markdown",
   "id": "caa922b3",
   "metadata": {},
   "source": [
    "Le fichier \"EdStatsCountry\" est composé de **241 lignes** et **32 colonnes**.\n",
    "\n",
    "Chaque ligne du fichier **\"EdStatsCountry\"** contient :\n",
    "- un pays avec son nom sous différents formats (court, long)\n",
    "- des informations géographiques (région du monde)\n",
    "- des indications sur la monnaie ayant court dans le pays\n",
    "- les années de références pour le calcul d'indice des prix\n",
    "- des informations sur les systèmes et modalités de comptabilité nationale utilisés dans le pays\n",
    "- des informations sur les dates des derniers rescencement de population\n",
    "- les dernières enquêtes menées dans le pays ainsi que leur date\n",
    "\n",
    "Le fichier contient des colonnes en format **\"float64\"** alors qu'elles contient des dates, nous allons changer ce format pour qu'elles soient sous format **\"object\"**."
   ]
  },
  {
   "cell_type": "code",
   "execution_count": 77,
   "id": "30d84407",
   "metadata": {},
   "outputs": [],
   "source": [
    "df_country = df_country.astype({col: 'object' for col in df_country.select_dtypes(include=['float64']).columns})"
   ]
  },
  {
   "cell_type": "code",
   "execution_count": 78,
   "id": "6ff52e09",
   "metadata": {},
   "outputs": [
    {
     "name": "stdout",
     "output_type": "stream",
     "text": [
      "Country Code                                           0.0\n",
      "Short Name                                             0.0\n",
      "Table Name                                             0.0\n",
      "Long Name                                              0.0\n",
      "2-alpha code                                           1.0\n",
      "Currency Unit                                         11.0\n",
      "Special Notes                                         40.0\n",
      "Region                                                11.0\n",
      "Income Group                                          11.0\n",
      "WB-2 code                                              0.0\n",
      "National accounts base year                           15.0\n",
      "National accounts reference year                      87.0\n",
      "SNA price valuation                                   18.0\n",
      "Lending category                                      40.0\n",
      "Other groups                                          76.0\n",
      "System of National Accounts                           11.0\n",
      "Alternative conversion factor                         80.0\n",
      "PPP survey year                                       40.0\n",
      "Balance of Payments Manual in use                     25.0\n",
      "External debt Reporting status                        49.0\n",
      "System of trade                                       17.0\n",
      "Government Accounting concept                         33.0\n",
      "IMF data dissemination standard                       25.0\n",
      "Latest population census                              12.0\n",
      "Latest household survey                               41.0\n",
      "Source of most recent Income and expenditure data     34.0\n",
      "Vital registration complete                           54.0\n",
      "Latest agricultural census                            41.0\n",
      "Latest industrial data                                56.0\n",
      "Latest trade data                                     23.0\n",
      "Latest water withdrawal data                          26.0\n",
      "Unnamed: 31                                          100.0\n",
      "dtype: float64\n",
      "Dans le fichier, 28 colonnes contiennent des valeurs nulles\n"
     ]
    }
   ],
   "source": [
    "#Proportion de valeurs manquantes par colonne\n",
    "print(df_country.isnull().sum().divide(len(df_country)).round(2)*100)\n",
    "\n",
    "#Nombre de colonnes contenant des valeurs nulles dans le fichier\n",
    "print(f\"Dans le fichier, {df_country.isnull().any().sum()} colonnes contiennent des valeurs nulles\")"
   ]
  },
  {
   "cell_type": "markdown",
   "id": "a53dbe6a",
   "metadata": {},
   "source": [
    "Dans le fichier, **28 colonnes contiennent des valeurs nulles** dans des proportions variables.\n",
    "\n",
    "Certains colonnes présentent une proportion de valeurs nulles **supérieur à 50%** comme les colonnes :\n",
    "- \"National accounts reference year\"\n",
    "- \"Other groups\"\n",
    "- \"Alternative conversion factor\"\n",
    "- \"Vital registration complete\"\n",
    "- \"Latest industrial data\"\n",
    "\n",
    "La colonne \"Unnamed: 31\", est elle, entièrement vide.\n",
    "\n",
    "Nous allons supprimer ces colonnes car elles ne seront pas utilisable."
   ]
  },
  {
   "cell_type": "code",
   "execution_count": 79,
   "id": "8a4a4be0",
   "metadata": {},
   "outputs": [],
   "source": [
    "#Supression des colonnes inutisables\n",
    "df_country = df_country.drop(columns=['National accounts reference year',\n",
    "                                      'Other groups','Alternative conversion factor',\n",
    "                                      'Vital registration complete',\n",
    "                                      'Latest industrial data',\n",
    "                                      'Unnamed: 31'])"
   ]
  },
  {
   "cell_type": "code",
   "execution_count": 80,
   "id": "99db51b1",
   "metadata": {},
   "outputs": [
    {
     "name": "stdout",
     "output_type": "stream",
     "text": [
      "Le fichier contient 0 ligne en doublon\n",
      "Le fichier contient 0 pays en doublon\n"
     ]
    }
   ],
   "source": [
    "#Nombre de doublons dans le fichier\n",
    "print(f\"Le fichier contient {df_country.duplicated().sum()} ligne en doublon\")\n",
    "print(f\"Le fichier contient {df_country['Short Name'].duplicated().sum()} pays en doublon\")"
   ]
  },
  {
   "cell_type": "code",
   "execution_count": 81,
   "id": "2b3005b3",
   "metadata": {},
   "outputs": [],
   "source": [
    "# Stocker toutes les proportions dans un dictionnaire\n",
    "frequence_mod_country = {}\n",
    "\n",
    "for colonne in df_country.columns:\n",
    "    frequence_mod_country[colonne] = df_country[colonne].value_counts(normalize=True, dropna=False).round(3)*100"
   ]
  },
  {
   "cell_type": "markdown",
   "id": "a71a960b",
   "metadata": {},
   "source": [
    "Nous avons stocker dans un dictionnaire les fréquences des modalités de chaque colonne, nous pouvons maintenant consulter ces fréquences pour chaque colonne."
   ]
  },
  {
   "cell_type": "code",
   "execution_count": 82,
   "id": "ea023426",
   "metadata": {},
   "outputs": [
    {
     "data": {
      "application/vnd.microsoft.datawrangler.viewer.v0+json": {
       "columns": [
        {
         "name": "Short Name",
         "rawType": "object",
         "type": "string"
        },
        {
         "name": "proportion",
         "rawType": "float64",
         "type": "float"
        }
       ],
       "ref": "241ed4da-a65d-49f8-b3cf-720410edd767",
       "rows": [
        [
         "Aruba",
         "0.4"
        ],
        [
         "Afghanistan",
         "0.4"
        ],
        [
         "Angola",
         "0.4"
        ],
        [
         "Albania",
         "0.4"
        ],
        [
         "Andorra",
         "0.4"
        ],
        [
         "Arab World",
         "0.4"
        ],
        [
         "United Arab Emirates",
         "0.4"
        ],
        [
         "Argentina",
         "0.4"
        ],
        [
         "Armenia",
         "0.4"
        ],
        [
         "American Samoa",
         "0.4"
        ],
        [
         "Antigua and Barbuda",
         "0.4"
        ],
        [
         "Australia",
         "0.4"
        ],
        [
         "Austria",
         "0.4"
        ],
        [
         "Azerbaijan",
         "0.4"
        ],
        [
         "Burundi",
         "0.4"
        ],
        [
         "Belgium",
         "0.4"
        ],
        [
         "Benin",
         "0.4"
        ],
        [
         "Burkina Faso",
         "0.4"
        ],
        [
         "Bangladesh",
         "0.4"
        ],
        [
         "Bulgaria",
         "0.4"
        ],
        [
         "Bahrain",
         "0.4"
        ],
        [
         "The Bahamas",
         "0.4"
        ],
        [
         "Bosnia and Herzegovina",
         "0.4"
        ],
        [
         "Belarus",
         "0.4"
        ],
        [
         "Belize",
         "0.4"
        ],
        [
         "Bermuda",
         "0.4"
        ],
        [
         "Bolivia",
         "0.4"
        ],
        [
         "Brazil",
         "0.4"
        ],
        [
         "Barbados",
         "0.4"
        ],
        [
         "Brunei",
         "0.4"
        ],
        [
         "Bhutan",
         "0.4"
        ],
        [
         "Botswana",
         "0.4"
        ],
        [
         "Central African Republic",
         "0.4"
        ],
        [
         "Canada",
         "0.4"
        ],
        [
         "Switzerland",
         "0.4"
        ],
        [
         "Channel Islands",
         "0.4"
        ],
        [
         "Chile",
         "0.4"
        ],
        [
         "China",
         "0.4"
        ],
        [
         "Côte d'Ivoire",
         "0.4"
        ],
        [
         "Cameroon",
         "0.4"
        ],
        [
         "Dem. Rep. Congo",
         "0.4"
        ],
        [
         "Congo",
         "0.4"
        ],
        [
         "Colombia",
         "0.4"
        ],
        [
         "Comoros",
         "0.4"
        ],
        [
         "Cabo Verde",
         "0.4"
        ],
        [
         "Costa Rica",
         "0.4"
        ],
        [
         "Cuba",
         "0.4"
        ],
        [
         "Curaçao",
         "0.4"
        ],
        [
         "Cayman Islands",
         "0.4"
        ],
        [
         "Cyprus",
         "0.4"
        ]
       ],
       "shape": {
        "columns": 1,
        "rows": 241
       }
      },
      "text/plain": [
       "Short Name\n",
       "Aruba           0.4\n",
       "Afghanistan     0.4\n",
       "Angola          0.4\n",
       "Albania         0.4\n",
       "Andorra         0.4\n",
       "               ... \n",
       "Kosovo          0.4\n",
       "Yemen           0.4\n",
       "South Africa    0.4\n",
       "Zambia          0.4\n",
       "Zimbabwe        0.4\n",
       "Name: proportion, Length: 241, dtype: float64"
      ]
     },
     "execution_count": 82,
     "metadata": {},
     "output_type": "execute_result"
    }
   ],
   "source": [
    "frequence_mod_country.get(\"Short Name\")"
   ]
  },
  {
   "cell_type": "code",
   "execution_count": 83,
   "id": "0e3683ef",
   "metadata": {},
   "outputs": [
    {
     "data": {
      "text/plain": [
       "array(['Aruba', 'Afghanistan', 'Angola', 'Albania', 'Andorra',\n",
       "       'Arab World', 'United Arab Emirates', 'Argentina', 'Armenia',\n",
       "       'American Samoa', 'Antigua and Barbuda', 'Australia', 'Austria',\n",
       "       'Azerbaijan', 'Burundi', 'Belgium', 'Benin', 'Burkina Faso',\n",
       "       'Bangladesh', 'Bulgaria', 'Bahrain', 'The Bahamas',\n",
       "       'Bosnia and Herzegovina', 'Belarus', 'Belize', 'Bermuda',\n",
       "       'Bolivia', 'Brazil', 'Barbados', 'Brunei', 'Bhutan', 'Botswana',\n",
       "       'Central African Republic', 'Canada', 'Switzerland',\n",
       "       'Channel Islands', 'Chile', 'China', \"Côte d'Ivoire\", 'Cameroon',\n",
       "       'Dem. Rep. Congo', 'Congo', 'Colombia', 'Comoros', 'Cabo Verde',\n",
       "       'Costa Rica', 'Cuba', 'Curaçao', 'Cayman Islands', 'Cyprus',\n",
       "       'Czech Republic', 'Germany', 'Djibouti', 'Dominica', 'Denmark',\n",
       "       'Dominican Republic', 'Algeria',\n",
       "       'East Asia & Pacific (developing only)',\n",
       "       'East Asia & Pacific (all income levels)',\n",
       "       'Europe & Central Asia (developing only)',\n",
       "       'Europe & Central Asia (all income levels)', 'Ecuador', 'Egypt',\n",
       "       'Euro area', 'Eritrea', 'Spain', 'Estonia', 'Ethiopia',\n",
       "       'European Union', 'Finland', 'Fiji', 'France', 'Faeroe Islands',\n",
       "       'Micronesia', 'Gabon', 'United Kingdom', 'Georgia', 'Ghana',\n",
       "       'Gibraltar', 'Guinea', 'The Gambia', 'Guinea-Bissau',\n",
       "       'Equatorial Guinea', 'Greece', 'Grenada', 'Greenland', 'Guatemala',\n",
       "       'Guam', 'Guyana', 'High income', 'Hong Kong SAR, China',\n",
       "       'Honduras', 'Heavily indebted poor countries (HIPC)', 'Croatia',\n",
       "       'Haiti', 'Hungary', 'Indonesia', 'Isle of Man', 'India', 'Ireland',\n",
       "       'Iran', 'Iraq', 'Iceland', 'Israel', 'Italy', 'Jamaica', 'Jordan',\n",
       "       'Japan', 'Kazakhstan', 'Kenya', 'Kyrgyz Republic', 'Cambodia',\n",
       "       'Kiribati', 'St. Kitts and Nevis', 'Korea', 'Kuwait',\n",
       "       'Latin America & Caribbean (developing only)', 'Lao PDR',\n",
       "       'Lebanon', 'Liberia', 'Libya', 'St. Lucia',\n",
       "       'Latin America & Caribbean (all income levels)',\n",
       "       'Least developed countries: UN classification', 'Low income',\n",
       "       'Liechtenstein', 'Sri Lanka', 'Lower middle income',\n",
       "       'Low & middle income', 'Lesotho', 'Lithuania', 'Luxembourg',\n",
       "       'Latvia', 'Macao SAR, China', 'St. Martin (French part)',\n",
       "       'Morocco', 'Monaco', 'Moldova', 'Madagascar', 'Maldives',\n",
       "       'Middle East & North Africa (all income levels)', 'Mexico',\n",
       "       'Marshall Islands', 'Middle income', 'Macedonia', 'Mali', 'Malta',\n",
       "       'Myanmar', 'Middle East & North Africa (developing only)',\n",
       "       'Montenegro', 'Mongolia', 'Northern Mariana Islands', 'Mozambique',\n",
       "       'Mauritania', 'Mauritius', 'Malawi', 'Malaysia', 'North America',\n",
       "       'Namibia', 'New Caledonia', 'Niger', 'Nigeria', 'Nicaragua',\n",
       "       'Netherlands', 'Norway', 'Nepal', 'Nauru', 'New Zealand',\n",
       "       'OECD members', 'Oman', 'Pakistan', 'Panama', 'Peru',\n",
       "       'Philippines', 'Palau', 'Papua New Guinea', 'Poland',\n",
       "       'Puerto Rico', \"Dem. People's Rep. Korea\", 'Portugal', 'Paraguay',\n",
       "       'West Bank and Gaza', 'French Polynesia', 'Qatar', 'Romania',\n",
       "       'Russia', 'Rwanda', 'South Asia', 'Saudi Arabia', 'Sudan',\n",
       "       'Senegal', 'Singapore', 'Solomon Islands', 'Sierra Leone',\n",
       "       'El Salvador', 'San Marino', 'Somalia', 'Serbia',\n",
       "       'Sub-Saharan Africa (developing only)', 'South Sudan',\n",
       "       'Sub-Saharan Africa (all income levels)', 'São Tomé and Principe',\n",
       "       'Suriname', 'Slovak Republic', 'Slovenia', 'Sweden', 'Swaziland',\n",
       "       'Sint Maarten (Dutch part)', 'Seychelles', 'Syrian Arab Republic',\n",
       "       'Turks and Caicos Islands', 'Chad', 'Togo', 'Thailand',\n",
       "       'Tajikistan', 'Turkmenistan', 'Timor-Leste', 'Tonga',\n",
       "       'Trinidad and Tobago', 'Tunisia', 'Turkey', 'Tuvalu', 'Tanzania',\n",
       "       'Uganda', 'Ukraine', 'Upper middle income', 'Uruguay',\n",
       "       'United States', 'Uzbekistan', 'St. Vincent and the Grenadines',\n",
       "       'Venezuela', 'Virgin Islands', 'Vietnam', 'Vanuatu', 'World',\n",
       "       'Samoa', 'Kosovo', 'Yemen', 'South Africa', 'Zambia', 'Zimbabwe'],\n",
       "      dtype=object)"
      ]
     },
     "execution_count": 83,
     "metadata": {},
     "output_type": "execute_result"
    }
   ],
   "source": [
    "df_country['Short Name'].unique()"
   ]
  },
  {
   "cell_type": "markdown",
   "id": "682960b4",
   "metadata": {},
   "source": [
    "Dans le fichier on trouve, dans la colonne correspondant aux noms des pays, certaines lignes qui ne sont pas des pays mais des groupements de pays ou des régions du monde comme **\"East Asia & Pacific\"**\n",
    "\n",
    "Les \"vrais\" pays ont une monnaie ayant cours qui est renseignée, afin de garder seulement les \"vrais\" pays, nous allons récupérer les \"vrais\" pays pour les mettre dans une liste puis filtrer le fichier de données sur la base de cette liste."
   ]
  },
  {
   "cell_type": "code",
   "execution_count": 84,
   "id": "16f73bcf",
   "metadata": {},
   "outputs": [],
   "source": [
    "Liste_Vrais_Pays = df_country[df_country['Currency Unit'].isna()==False]['Table Name'].unique()"
   ]
  },
  {
   "cell_type": "code",
   "execution_count": 85,
   "id": "56730d50",
   "metadata": {},
   "outputs": [],
   "source": [
    "df_country = df_country[df_country['Table Name'].isin(Liste_Vrais_Pays)==True]"
   ]
  },
  {
   "cell_type": "markdown",
   "id": "4964f5f7",
   "metadata": {},
   "source": [
    "### Exploration du fichier \"EdStatsCountry-Series\""
   ]
  },
  {
   "cell_type": "code",
   "execution_count": 86,
   "id": "37a89afc",
   "metadata": {},
   "outputs": [
    {
     "data": {
      "application/vnd.microsoft.datawrangler.viewer.v0+json": {
       "columns": [
        {
         "name": "index",
         "rawType": "int64",
         "type": "integer"
        },
        {
         "name": "CountryCode",
         "rawType": "object",
         "type": "string"
        },
        {
         "name": "SeriesCode",
         "rawType": "object",
         "type": "string"
        },
        {
         "name": "DESCRIPTION",
         "rawType": "object",
         "type": "string"
        },
        {
         "name": "Unnamed: 3",
         "rawType": "float64",
         "type": "float"
        }
       ],
       "ref": "a1cd67db-3ced-42f3-96df-397fdf0ec40c",
       "rows": [
        [
         "0",
         "ABW",
         "SP.POP.TOTL",
         "Data sources : United Nations World Population Prospects",
         null
        ],
        [
         "1",
         "ABW",
         "SP.POP.GROW",
         "Data sources: United Nations World Population Prospects",
         null
        ],
        [
         "2",
         "AFG",
         "SP.POP.GROW",
         "Data sources: United Nations World Population Prospects",
         null
        ],
        [
         "3",
         "AFG",
         "NY.GDP.PCAP.PP.CD",
         "Estimates are based on regression.",
         null
        ],
        [
         "4",
         "AFG",
         "SP.POP.TOTL",
         "Data sources : United Nations World Population Prospects",
         null
        ]
       ],
       "shape": {
        "columns": 4,
        "rows": 5
       }
      },
      "text/html": [
       "<div>\n",
       "<style scoped>\n",
       "    .dataframe tbody tr th:only-of-type {\n",
       "        vertical-align: middle;\n",
       "    }\n",
       "\n",
       "    .dataframe tbody tr th {\n",
       "        vertical-align: top;\n",
       "    }\n",
       "\n",
       "    .dataframe thead th {\n",
       "        text-align: right;\n",
       "    }\n",
       "</style>\n",
       "<table border=\"1\" class=\"dataframe\">\n",
       "  <thead>\n",
       "    <tr style=\"text-align: right;\">\n",
       "      <th></th>\n",
       "      <th>CountryCode</th>\n",
       "      <th>SeriesCode</th>\n",
       "      <th>DESCRIPTION</th>\n",
       "      <th>Unnamed: 3</th>\n",
       "    </tr>\n",
       "  </thead>\n",
       "  <tbody>\n",
       "    <tr>\n",
       "      <th>0</th>\n",
       "      <td>ABW</td>\n",
       "      <td>SP.POP.TOTL</td>\n",
       "      <td>Data sources : United Nations World Population...</td>\n",
       "      <td>NaN</td>\n",
       "    </tr>\n",
       "    <tr>\n",
       "      <th>1</th>\n",
       "      <td>ABW</td>\n",
       "      <td>SP.POP.GROW</td>\n",
       "      <td>Data sources: United Nations World Population ...</td>\n",
       "      <td>NaN</td>\n",
       "    </tr>\n",
       "    <tr>\n",
       "      <th>2</th>\n",
       "      <td>AFG</td>\n",
       "      <td>SP.POP.GROW</td>\n",
       "      <td>Data sources: United Nations World Population ...</td>\n",
       "      <td>NaN</td>\n",
       "    </tr>\n",
       "    <tr>\n",
       "      <th>3</th>\n",
       "      <td>AFG</td>\n",
       "      <td>NY.GDP.PCAP.PP.CD</td>\n",
       "      <td>Estimates are based on regression.</td>\n",
       "      <td>NaN</td>\n",
       "    </tr>\n",
       "    <tr>\n",
       "      <th>4</th>\n",
       "      <td>AFG</td>\n",
       "      <td>SP.POP.TOTL</td>\n",
       "      <td>Data sources : United Nations World Population...</td>\n",
       "      <td>NaN</td>\n",
       "    </tr>\n",
       "  </tbody>\n",
       "</table>\n",
       "</div>"
      ],
      "text/plain": [
       "  CountryCode         SeriesCode  \\\n",
       "0         ABW        SP.POP.TOTL   \n",
       "1         ABW        SP.POP.GROW   \n",
       "2         AFG        SP.POP.GROW   \n",
       "3         AFG  NY.GDP.PCAP.PP.CD   \n",
       "4         AFG        SP.POP.TOTL   \n",
       "\n",
       "                                         DESCRIPTION  Unnamed: 3  \n",
       "0  Data sources : United Nations World Population...         NaN  \n",
       "1  Data sources: United Nations World Population ...         NaN  \n",
       "2  Data sources: United Nations World Population ...         NaN  \n",
       "3                 Estimates are based on regression.         NaN  \n",
       "4  Data sources : United Nations World Population...         NaN  "
      ]
     },
     "execution_count": 86,
     "metadata": {},
     "output_type": "execute_result"
    }
   ],
   "source": [
    "df_country_series.head(5)"
   ]
  },
  {
   "cell_type": "code",
   "execution_count": 87,
   "id": "33686a8a",
   "metadata": {},
   "outputs": [
    {
     "name": "stdout",
     "output_type": "stream",
     "text": [
      "<class 'pandas.core.frame.DataFrame'>\n",
      "RangeIndex: 613 entries, 0 to 612\n",
      "Data columns (total 4 columns):\n",
      " #   Column       Non-Null Count  Dtype  \n",
      "---  ------       --------------  -----  \n",
      " 0   CountryCode  613 non-null    object \n",
      " 1   SeriesCode   613 non-null    object \n",
      " 2   DESCRIPTION  613 non-null    object \n",
      " 3   Unnamed: 3   0 non-null      float64\n",
      "dtypes: float64(1), object(3)\n",
      "memory usage: 19.3+ KB\n"
     ]
    }
   ],
   "source": [
    "df_country_series.info()"
   ]
  },
  {
   "cell_type": "markdown",
   "id": "9535633b",
   "metadata": {},
   "source": [
    "Le fichier **\"EdStatsCountry-Series\"** contient **613 lignes** et **4 colonnes**\n",
    "\n",
    "Chaque ligne du fichier contient :\n",
    "- Le code du pays\n",
    "- Les indicateurs disponibles pour chaque pays\n",
    "- Une description des données contenant notamment la source"
   ]
  },
  {
   "cell_type": "code",
   "execution_count": 88,
   "id": "0afea25a",
   "metadata": {},
   "outputs": [
    {
     "name": "stdout",
     "output_type": "stream",
     "text": [
      "CountryCode      0.0\n",
      "SeriesCode       0.0\n",
      "DESCRIPTION      0.0\n",
      "Unnamed: 3     100.0\n",
      "dtype: float64\n",
      "Dans le fichier, 1 colonnes contiennent des valeurs nulles\n"
     ]
    }
   ],
   "source": [
    "#Proportion de valeurs manquantes par colonne\n",
    "print(df_country_series.isnull().sum().divide(len(df_country_series)).round(2)*100)\n",
    "\n",
    "#Nombre de colonnes contenant des valeurs nulles dans le fichier\n",
    "print(f\"Dans le fichier, {df_country_series.isnull().any().sum()} colonnes contiennent des valeurs nulles\")"
   ]
  },
  {
   "cell_type": "markdown",
   "id": "4f0324a7",
   "metadata": {},
   "source": [
    "La colonne \"Unnamed: 3\" est complétement vide, nous allons donc la supprimer"
   ]
  },
  {
   "cell_type": "code",
   "execution_count": 89,
   "id": "a1aa95a2",
   "metadata": {},
   "outputs": [],
   "source": [
    "df_country_series = df_country_series.drop(columns='Unnamed: 3')"
   ]
  },
  {
   "cell_type": "code",
   "execution_count": 90,
   "id": "5b011300",
   "metadata": {},
   "outputs": [
    {
     "name": "stdout",
     "output_type": "stream",
     "text": [
      "Le fichier contient 0 ligne en doublon\n",
      "Le fichier contient 402 pays en doublon\n"
     ]
    }
   ],
   "source": [
    "#Nombre de doublons dans le fichier\n",
    "print(f\"Le fichier contient {df_country_series.duplicated().sum()} ligne en doublon\")\n",
    "print(f\"Le fichier contient {df_country_series['CountryCode'].duplicated().sum()} pays en doublon\")"
   ]
  },
  {
   "cell_type": "markdown",
   "id": "5fcf1da4",
   "metadata": {},
   "source": [
    "Le fichier ne contient pas de ligne en doublon, toutefois, on remarque qu'il existe plusieurs lignes pour un pays donnée."
   ]
  },
  {
   "cell_type": "markdown",
   "id": "c2f2c785",
   "metadata": {},
   "source": [
    "Nous stockons dans un dictionnaire les fréquences des modalités de chaque colonne afin de pouvoir les consulter si besoin."
   ]
  },
  {
   "cell_type": "code",
   "execution_count": 91,
   "id": "31ea25ef",
   "metadata": {},
   "outputs": [],
   "source": [
    "# Stocker toutes les proportions dans un dictionnaire\n",
    "frequence_mod_country_series = {}\n",
    "\n",
    "for colonne in df_country_series.columns:\n",
    "    frequence_mod_country_series[colonne] = df_country_series[colonne].value_counts(normalize=True, dropna=False).round(3)*100"
   ]
  },
  {
   "cell_type": "markdown",
   "id": "5d617c49",
   "metadata": {},
   "source": [
    "### Exploration du fichier \"EdStatsData\""
   ]
  },
  {
   "cell_type": "code",
   "execution_count": 92,
   "id": "fde4c67c",
   "metadata": {},
   "outputs": [
    {
     "data": {
      "application/vnd.microsoft.datawrangler.viewer.v0+json": {
       "columns": [
        {
         "name": "index",
         "rawType": "int64",
         "type": "integer"
        },
        {
         "name": "Country Name",
         "rawType": "object",
         "type": "string"
        },
        {
         "name": "Country Code",
         "rawType": "object",
         "type": "string"
        },
        {
         "name": "Indicator Name",
         "rawType": "object",
         "type": "string"
        },
        {
         "name": "Indicator Code",
         "rawType": "object",
         "type": "string"
        },
        {
         "name": "1970",
         "rawType": "float64",
         "type": "float"
        },
        {
         "name": "1971",
         "rawType": "float64",
         "type": "float"
        },
        {
         "name": "1972",
         "rawType": "float64",
         "type": "float"
        },
        {
         "name": "1973",
         "rawType": "float64",
         "type": "float"
        },
        {
         "name": "1974",
         "rawType": "float64",
         "type": "float"
        },
        {
         "name": "1975",
         "rawType": "float64",
         "type": "float"
        },
        {
         "name": "1976",
         "rawType": "float64",
         "type": "float"
        },
        {
         "name": "1977",
         "rawType": "float64",
         "type": "float"
        },
        {
         "name": "1978",
         "rawType": "float64",
         "type": "float"
        },
        {
         "name": "1979",
         "rawType": "float64",
         "type": "float"
        },
        {
         "name": "1980",
         "rawType": "float64",
         "type": "float"
        },
        {
         "name": "1981",
         "rawType": "float64",
         "type": "float"
        },
        {
         "name": "1982",
         "rawType": "float64",
         "type": "float"
        },
        {
         "name": "1983",
         "rawType": "float64",
         "type": "float"
        },
        {
         "name": "1984",
         "rawType": "float64",
         "type": "float"
        },
        {
         "name": "1985",
         "rawType": "float64",
         "type": "float"
        },
        {
         "name": "1986",
         "rawType": "float64",
         "type": "float"
        },
        {
         "name": "1987",
         "rawType": "float64",
         "type": "float"
        },
        {
         "name": "1988",
         "rawType": "float64",
         "type": "float"
        },
        {
         "name": "1989",
         "rawType": "float64",
         "type": "float"
        },
        {
         "name": "1990",
         "rawType": "float64",
         "type": "float"
        },
        {
         "name": "1991",
         "rawType": "float64",
         "type": "float"
        },
        {
         "name": "1992",
         "rawType": "float64",
         "type": "float"
        },
        {
         "name": "1993",
         "rawType": "float64",
         "type": "float"
        },
        {
         "name": "1994",
         "rawType": "float64",
         "type": "float"
        },
        {
         "name": "1995",
         "rawType": "float64",
         "type": "float"
        },
        {
         "name": "1996",
         "rawType": "float64",
         "type": "float"
        },
        {
         "name": "1997",
         "rawType": "float64",
         "type": "float"
        },
        {
         "name": "1998",
         "rawType": "float64",
         "type": "float"
        },
        {
         "name": "1999",
         "rawType": "float64",
         "type": "float"
        },
        {
         "name": "2000",
         "rawType": "float64",
         "type": "float"
        },
        {
         "name": "2001",
         "rawType": "float64",
         "type": "float"
        },
        {
         "name": "2002",
         "rawType": "float64",
         "type": "float"
        },
        {
         "name": "2003",
         "rawType": "float64",
         "type": "float"
        },
        {
         "name": "2004",
         "rawType": "float64",
         "type": "float"
        },
        {
         "name": "2005",
         "rawType": "float64",
         "type": "float"
        },
        {
         "name": "2006",
         "rawType": "float64",
         "type": "float"
        },
        {
         "name": "2007",
         "rawType": "float64",
         "type": "float"
        },
        {
         "name": "2008",
         "rawType": "float64",
         "type": "float"
        },
        {
         "name": "2009",
         "rawType": "float64",
         "type": "float"
        },
        {
         "name": "2010",
         "rawType": "float64",
         "type": "float"
        },
        {
         "name": "2011",
         "rawType": "float64",
         "type": "float"
        },
        {
         "name": "2012",
         "rawType": "float64",
         "type": "float"
        },
        {
         "name": "2013",
         "rawType": "float64",
         "type": "float"
        },
        {
         "name": "2014",
         "rawType": "float64",
         "type": "float"
        },
        {
         "name": "2015",
         "rawType": "float64",
         "type": "float"
        },
        {
         "name": "2016",
         "rawType": "float64",
         "type": "float"
        },
        {
         "name": "2017",
         "rawType": "float64",
         "type": "float"
        },
        {
         "name": "2020",
         "rawType": "float64",
         "type": "float"
        },
        {
         "name": "2025",
         "rawType": "float64",
         "type": "float"
        },
        {
         "name": "2030",
         "rawType": "float64",
         "type": "float"
        },
        {
         "name": "2035",
         "rawType": "float64",
         "type": "float"
        },
        {
         "name": "2040",
         "rawType": "float64",
         "type": "float"
        },
        {
         "name": "2045",
         "rawType": "float64",
         "type": "float"
        },
        {
         "name": "2050",
         "rawType": "float64",
         "type": "float"
        },
        {
         "name": "2055",
         "rawType": "float64",
         "type": "float"
        },
        {
         "name": "2060",
         "rawType": "float64",
         "type": "float"
        },
        {
         "name": "2065",
         "rawType": "float64",
         "type": "float"
        },
        {
         "name": "2070",
         "rawType": "float64",
         "type": "float"
        },
        {
         "name": "2075",
         "rawType": "float64",
         "type": "float"
        },
        {
         "name": "2080",
         "rawType": "float64",
         "type": "float"
        },
        {
         "name": "2085",
         "rawType": "float64",
         "type": "float"
        },
        {
         "name": "2090",
         "rawType": "float64",
         "type": "float"
        },
        {
         "name": "2095",
         "rawType": "float64",
         "type": "float"
        },
        {
         "name": "2100",
         "rawType": "float64",
         "type": "float"
        },
        {
         "name": "Unnamed: 69",
         "rawType": "float64",
         "type": "float"
        }
       ],
       "ref": "75d4eb93-e7d2-488a-ba66-25d1892969c1",
       "rows": [
        [
         "0",
         "Arab World",
         "ARB",
         "Adjusted net enrolment rate, lower secondary, both sexes (%)",
         "UIS.NERA.2",
         null,
         null,
         null,
         null,
         null,
         null,
         null,
         null,
         null,
         null,
         null,
         null,
         null,
         null,
         null,
         null,
         null,
         null,
         null,
         null,
         null,
         null,
         null,
         null,
         null,
         null,
         null,
         null,
         null,
         null,
         null,
         null,
         null,
         null,
         null,
         null,
         null,
         null,
         null,
         null,
         null,
         null,
         null,
         null,
         null,
         null,
         null,
         null,
         null,
         null,
         null,
         null,
         null,
         null,
         null,
         null,
         null,
         null,
         null,
         null,
         null,
         null,
         null,
         null,
         null,
         null
        ],
        [
         "1",
         "Arab World",
         "ARB",
         "Adjusted net enrolment rate, lower secondary, female (%)",
         "UIS.NERA.2.F",
         null,
         null,
         null,
         null,
         null,
         null,
         null,
         null,
         null,
         null,
         null,
         null,
         null,
         null,
         null,
         null,
         null,
         null,
         null,
         null,
         null,
         null,
         null,
         null,
         null,
         null,
         null,
         null,
         null,
         null,
         null,
         null,
         null,
         null,
         null,
         null,
         null,
         null,
         null,
         null,
         null,
         null,
         null,
         null,
         null,
         null,
         null,
         null,
         null,
         null,
         null,
         null,
         null,
         null,
         null,
         null,
         null,
         null,
         null,
         null,
         null,
         null,
         null,
         null,
         null,
         null
        ],
        [
         "2",
         "Arab World",
         "ARB",
         "Adjusted net enrolment rate, lower secondary, gender parity index (GPI)",
         "UIS.NERA.2.GPI",
         null,
         null,
         null,
         null,
         null,
         null,
         null,
         null,
         null,
         null,
         null,
         null,
         null,
         null,
         null,
         null,
         null,
         null,
         null,
         null,
         null,
         null,
         null,
         null,
         null,
         null,
         null,
         null,
         null,
         null,
         null,
         null,
         null,
         null,
         null,
         null,
         null,
         null,
         null,
         null,
         null,
         null,
         null,
         null,
         null,
         null,
         null,
         null,
         null,
         null,
         null,
         null,
         null,
         null,
         null,
         null,
         null,
         null,
         null,
         null,
         null,
         null,
         null,
         null,
         null,
         null
        ],
        [
         "3",
         "Arab World",
         "ARB",
         "Adjusted net enrolment rate, lower secondary, male (%)",
         "UIS.NERA.2.M",
         null,
         null,
         null,
         null,
         null,
         null,
         null,
         null,
         null,
         null,
         null,
         null,
         null,
         null,
         null,
         null,
         null,
         null,
         null,
         null,
         null,
         null,
         null,
         null,
         null,
         null,
         null,
         null,
         null,
         null,
         null,
         null,
         null,
         null,
         null,
         null,
         null,
         null,
         null,
         null,
         null,
         null,
         null,
         null,
         null,
         null,
         null,
         null,
         null,
         null,
         null,
         null,
         null,
         null,
         null,
         null,
         null,
         null,
         null,
         null,
         null,
         null,
         null,
         null,
         null,
         null
        ],
        [
         "4",
         "Arab World",
         "ARB",
         "Adjusted net enrolment rate, primary, both sexes (%)",
         "SE.PRM.TENR",
         "54.8221206665039",
         "54.8941383361816",
         "56.2094383239746",
         "57.2671089172363",
         "57.991138458252",
         "59.3655395507813",
         "60.9999618530273",
         "61.922679901123",
         "62.6934204101563",
         "64.383186340332",
         "65.6177673339844",
         "66.0851516723633",
         "66.6081390380859",
         "67.2904510498047",
         "68.5100936889648",
         "69.0332107543945",
         "69.9449081420898",
         "71.0418701171875",
         "71.6937789916992",
         "71.6990966796875",
         "71.9958190917969",
         "72.6028366088867",
         "70.0327224731445",
         "70.4648208618164",
         "72.6456832885742",
         "71.8117599487305",
         "73.9035110473633",
         "74.4252014160156",
         "75.1108169555664",
         "76.2543182373047",
         "77.2456817626953",
         "78.8005218505859",
         "80.051399230957",
         "80.8053894042969",
         "81.607063293457",
         "82.4894866943359",
         "82.6855087280273",
         "83.2803421020508",
         "84.0118713378906",
         "84.1959609985352",
         "85.2119979858398",
         "85.2451400756836",
         "86.1016693115234",
         "85.5119400024414",
         "85.3201522827148",
         null,
         null,
         null,
         null,
         null,
         null,
         null,
         null,
         null,
         null,
         null,
         null,
         null,
         null,
         null,
         null,
         null,
         null,
         null,
         null,
         null
        ]
       ],
       "shape": {
        "columns": 70,
        "rows": 5
       }
      },
      "text/html": [
       "<div>\n",
       "<style scoped>\n",
       "    .dataframe tbody tr th:only-of-type {\n",
       "        vertical-align: middle;\n",
       "    }\n",
       "\n",
       "    .dataframe tbody tr th {\n",
       "        vertical-align: top;\n",
       "    }\n",
       "\n",
       "    .dataframe thead th {\n",
       "        text-align: right;\n",
       "    }\n",
       "</style>\n",
       "<table border=\"1\" class=\"dataframe\">\n",
       "  <thead>\n",
       "    <tr style=\"text-align: right;\">\n",
       "      <th></th>\n",
       "      <th>Country Name</th>\n",
       "      <th>Country Code</th>\n",
       "      <th>Indicator Name</th>\n",
       "      <th>Indicator Code</th>\n",
       "      <th>1970</th>\n",
       "      <th>1971</th>\n",
       "      <th>1972</th>\n",
       "      <th>1973</th>\n",
       "      <th>1974</th>\n",
       "      <th>1975</th>\n",
       "      <th>...</th>\n",
       "      <th>2060</th>\n",
       "      <th>2065</th>\n",
       "      <th>2070</th>\n",
       "      <th>2075</th>\n",
       "      <th>2080</th>\n",
       "      <th>2085</th>\n",
       "      <th>2090</th>\n",
       "      <th>2095</th>\n",
       "      <th>2100</th>\n",
       "      <th>Unnamed: 69</th>\n",
       "    </tr>\n",
       "  </thead>\n",
       "  <tbody>\n",
       "    <tr>\n",
       "      <th>0</th>\n",
       "      <td>Arab World</td>\n",
       "      <td>ARB</td>\n",
       "      <td>Adjusted net enrolment rate, lower secondary, ...</td>\n",
       "      <td>UIS.NERA.2</td>\n",
       "      <td>NaN</td>\n",
       "      <td>NaN</td>\n",
       "      <td>NaN</td>\n",
       "      <td>NaN</td>\n",
       "      <td>NaN</td>\n",
       "      <td>NaN</td>\n",
       "      <td>...</td>\n",
       "      <td>NaN</td>\n",
       "      <td>NaN</td>\n",
       "      <td>NaN</td>\n",
       "      <td>NaN</td>\n",
       "      <td>NaN</td>\n",
       "      <td>NaN</td>\n",
       "      <td>NaN</td>\n",
       "      <td>NaN</td>\n",
       "      <td>NaN</td>\n",
       "      <td>NaN</td>\n",
       "    </tr>\n",
       "    <tr>\n",
       "      <th>1</th>\n",
       "      <td>Arab World</td>\n",
       "      <td>ARB</td>\n",
       "      <td>Adjusted net enrolment rate, lower secondary, ...</td>\n",
       "      <td>UIS.NERA.2.F</td>\n",
       "      <td>NaN</td>\n",
       "      <td>NaN</td>\n",
       "      <td>NaN</td>\n",
       "      <td>NaN</td>\n",
       "      <td>NaN</td>\n",
       "      <td>NaN</td>\n",
       "      <td>...</td>\n",
       "      <td>NaN</td>\n",
       "      <td>NaN</td>\n",
       "      <td>NaN</td>\n",
       "      <td>NaN</td>\n",
       "      <td>NaN</td>\n",
       "      <td>NaN</td>\n",
       "      <td>NaN</td>\n",
       "      <td>NaN</td>\n",
       "      <td>NaN</td>\n",
       "      <td>NaN</td>\n",
       "    </tr>\n",
       "    <tr>\n",
       "      <th>2</th>\n",
       "      <td>Arab World</td>\n",
       "      <td>ARB</td>\n",
       "      <td>Adjusted net enrolment rate, lower secondary, ...</td>\n",
       "      <td>UIS.NERA.2.GPI</td>\n",
       "      <td>NaN</td>\n",
       "      <td>NaN</td>\n",
       "      <td>NaN</td>\n",
       "      <td>NaN</td>\n",
       "      <td>NaN</td>\n",
       "      <td>NaN</td>\n",
       "      <td>...</td>\n",
       "      <td>NaN</td>\n",
       "      <td>NaN</td>\n",
       "      <td>NaN</td>\n",
       "      <td>NaN</td>\n",
       "      <td>NaN</td>\n",
       "      <td>NaN</td>\n",
       "      <td>NaN</td>\n",
       "      <td>NaN</td>\n",
       "      <td>NaN</td>\n",
       "      <td>NaN</td>\n",
       "    </tr>\n",
       "    <tr>\n",
       "      <th>3</th>\n",
       "      <td>Arab World</td>\n",
       "      <td>ARB</td>\n",
       "      <td>Adjusted net enrolment rate, lower secondary, ...</td>\n",
       "      <td>UIS.NERA.2.M</td>\n",
       "      <td>NaN</td>\n",
       "      <td>NaN</td>\n",
       "      <td>NaN</td>\n",
       "      <td>NaN</td>\n",
       "      <td>NaN</td>\n",
       "      <td>NaN</td>\n",
       "      <td>...</td>\n",
       "      <td>NaN</td>\n",
       "      <td>NaN</td>\n",
       "      <td>NaN</td>\n",
       "      <td>NaN</td>\n",
       "      <td>NaN</td>\n",
       "      <td>NaN</td>\n",
       "      <td>NaN</td>\n",
       "      <td>NaN</td>\n",
       "      <td>NaN</td>\n",
       "      <td>NaN</td>\n",
       "    </tr>\n",
       "    <tr>\n",
       "      <th>4</th>\n",
       "      <td>Arab World</td>\n",
       "      <td>ARB</td>\n",
       "      <td>Adjusted net enrolment rate, primary, both sex...</td>\n",
       "      <td>SE.PRM.TENR</td>\n",
       "      <td>54.822121</td>\n",
       "      <td>54.894138</td>\n",
       "      <td>56.209438</td>\n",
       "      <td>57.267109</td>\n",
       "      <td>57.991138</td>\n",
       "      <td>59.36554</td>\n",
       "      <td>...</td>\n",
       "      <td>NaN</td>\n",
       "      <td>NaN</td>\n",
       "      <td>NaN</td>\n",
       "      <td>NaN</td>\n",
       "      <td>NaN</td>\n",
       "      <td>NaN</td>\n",
       "      <td>NaN</td>\n",
       "      <td>NaN</td>\n",
       "      <td>NaN</td>\n",
       "      <td>NaN</td>\n",
       "    </tr>\n",
       "  </tbody>\n",
       "</table>\n",
       "<p>5 rows × 70 columns</p>\n",
       "</div>"
      ],
      "text/plain": [
       "  Country Name Country Code  \\\n",
       "0   Arab World          ARB   \n",
       "1   Arab World          ARB   \n",
       "2   Arab World          ARB   \n",
       "3   Arab World          ARB   \n",
       "4   Arab World          ARB   \n",
       "\n",
       "                                      Indicator Name  Indicator Code  \\\n",
       "0  Adjusted net enrolment rate, lower secondary, ...      UIS.NERA.2   \n",
       "1  Adjusted net enrolment rate, lower secondary, ...    UIS.NERA.2.F   \n",
       "2  Adjusted net enrolment rate, lower secondary, ...  UIS.NERA.2.GPI   \n",
       "3  Adjusted net enrolment rate, lower secondary, ...    UIS.NERA.2.M   \n",
       "4  Adjusted net enrolment rate, primary, both sex...     SE.PRM.TENR   \n",
       "\n",
       "        1970       1971       1972       1973       1974      1975  ...  2060  \\\n",
       "0        NaN        NaN        NaN        NaN        NaN       NaN  ...   NaN   \n",
       "1        NaN        NaN        NaN        NaN        NaN       NaN  ...   NaN   \n",
       "2        NaN        NaN        NaN        NaN        NaN       NaN  ...   NaN   \n",
       "3        NaN        NaN        NaN        NaN        NaN       NaN  ...   NaN   \n",
       "4  54.822121  54.894138  56.209438  57.267109  57.991138  59.36554  ...   NaN   \n",
       "\n",
       "   2065  2070  2075  2080  2085  2090  2095  2100  Unnamed: 69  \n",
       "0   NaN   NaN   NaN   NaN   NaN   NaN   NaN   NaN          NaN  \n",
       "1   NaN   NaN   NaN   NaN   NaN   NaN   NaN   NaN          NaN  \n",
       "2   NaN   NaN   NaN   NaN   NaN   NaN   NaN   NaN          NaN  \n",
       "3   NaN   NaN   NaN   NaN   NaN   NaN   NaN   NaN          NaN  \n",
       "4   NaN   NaN   NaN   NaN   NaN   NaN   NaN   NaN          NaN  \n",
       "\n",
       "[5 rows x 70 columns]"
      ]
     },
     "execution_count": 92,
     "metadata": {},
     "output_type": "execute_result"
    }
   ],
   "source": [
    "df_data.head(5)"
   ]
  },
  {
   "cell_type": "code",
   "execution_count": 93,
   "id": "19fa242f",
   "metadata": {},
   "outputs": [
    {
     "name": "stdout",
     "output_type": "stream",
     "text": [
      "<class 'pandas.core.frame.DataFrame'>\n",
      "RangeIndex: 886930 entries, 0 to 886929\n",
      "Data columns (total 70 columns):\n",
      " #   Column          Non-Null Count   Dtype  \n",
      "---  ------          --------------   -----  \n",
      " 0   Country Name    886930 non-null  object \n",
      " 1   Country Code    886930 non-null  object \n",
      " 2   Indicator Name  886930 non-null  object \n",
      " 3   Indicator Code  886930 non-null  object \n",
      " 4   1970            72288 non-null   float64\n",
      " 5   1971            35537 non-null   float64\n",
      " 6   1972            35619 non-null   float64\n",
      " 7   1973            35545 non-null   float64\n",
      " 8   1974            35730 non-null   float64\n",
      " 9   1975            87306 non-null   float64\n",
      " 10  1976            37483 non-null   float64\n",
      " 11  1977            37574 non-null   float64\n",
      " 12  1978            37576 non-null   float64\n",
      " 13  1979            36809 non-null   float64\n",
      " 14  1980            89122 non-null   float64\n",
      " 15  1981            38777 non-null   float64\n",
      " 16  1982            37511 non-null   float64\n",
      " 17  1983            38460 non-null   float64\n",
      " 18  1984            38606 non-null   float64\n",
      " 19  1985            90296 non-null   float64\n",
      " 20  1986            39372 non-null   float64\n",
      " 21  1987            38641 non-null   float64\n",
      " 22  1988            38552 non-null   float64\n",
      " 23  1989            37540 non-null   float64\n",
      " 24  1990            124405 non-null  float64\n",
      " 25  1991            74437 non-null   float64\n",
      " 26  1992            75543 non-null   float64\n",
      " 27  1993            75793 non-null   float64\n",
      " 28  1994            77462 non-null   float64\n",
      " 29  1995            131361 non-null  float64\n",
      " 30  1996            76807 non-null   float64\n",
      " 31  1997            73453 non-null   float64\n",
      " 32  1998            84914 non-null   float64\n",
      " 33  1999            118839 non-null  float64\n",
      " 34  2000            176676 non-null  float64\n",
      " 35  2001            123509 non-null  float64\n",
      " 36  2002            124205 non-null  float64\n",
      " 37  2003            130363 non-null  float64\n",
      " 38  2004            128814 non-null  float64\n",
      " 39  2005            184108 non-null  float64\n",
      " 40  2006            140312 non-null  float64\n",
      " 41  2007            137272 non-null  float64\n",
      " 42  2008            134387 non-null  float64\n",
      " 43  2009            142108 non-null  float64\n",
      " 44  2010            242442 non-null  float64\n",
      " 45  2011            146012 non-null  float64\n",
      " 46  2012            147264 non-null  float64\n",
      " 47  2013            137509 non-null  float64\n",
      " 48  2014            113789 non-null  float64\n",
      " 49  2015            131058 non-null  float64\n",
      " 50  2016            16460 non-null   float64\n",
      " 51  2017            143 non-null     float64\n",
      " 52  2020            51436 non-null   float64\n",
      " 53  2025            51436 non-null   float64\n",
      " 54  2030            51436 non-null   float64\n",
      " 55  2035            51436 non-null   float64\n",
      " 56  2040            51436 non-null   float64\n",
      " 57  2045            51436 non-null   float64\n",
      " 58  2050            51436 non-null   float64\n",
      " 59  2055            51436 non-null   float64\n",
      " 60  2060            51436 non-null   float64\n",
      " 61  2065            51436 non-null   float64\n",
      " 62  2070            51436 non-null   float64\n",
      " 63  2075            51436 non-null   float64\n",
      " 64  2080            51436 non-null   float64\n",
      " 65  2085            51436 non-null   float64\n",
      " 66  2090            51436 non-null   float64\n",
      " 67  2095            51436 non-null   float64\n",
      " 68  2100            51436 non-null   float64\n",
      " 69  Unnamed: 69     0 non-null       float64\n",
      "dtypes: float64(66), object(4)\n",
      "memory usage: 473.7+ MB\n"
     ]
    }
   ],
   "source": [
    "df_data.info()"
   ]
  },
  {
   "cell_type": "markdown",
   "id": "6eefe47d",
   "metadata": {},
   "source": [
    "Le fichier \"EdStatsData\" contient **886 930 lignes** et **70 colonnes**.\n",
    "\n",
    "Chaque ligne représente un indicateur relatifs à l'éducation pour un pays donné et contient les valeurs de cette indicateur pour une période de temps allant de 1970 à 2100.\n",
    "Les indicateurs ont des valeurs pour des années futures, ceux-ci correspondent à des projections réalisées pour ces indicateurs."
   ]
  },
  {
   "cell_type": "code",
   "execution_count": 94,
   "id": "5734706c",
   "metadata": {},
   "outputs": [
    {
     "name": "stdout",
     "output_type": "stream",
     "text": [
      "Dans le fichier, 66 colonnes contiennent des valeurs nulles\n"
     ]
    }
   ],
   "source": [
    "#Nombre de colonnes contenant des valeurs nulles dans le fichier\n",
    "print(f\"Dans le fichier, {df_data.isnull().any().sum()} colonnes contiennent des valeurs nulles\")"
   ]
  },
  {
   "cell_type": "markdown",
   "id": "02df143c",
   "metadata": {},
   "source": [
    "Nous avons **66 colonnes sur 70** qui contiennent des **valeurs manquantes**. Nous allons observer dans quelles proportions ces valeurs manquantes existent pour chaque colonne."
   ]
  },
  {
   "cell_type": "code",
   "execution_count": 95,
   "id": "e9515a84",
   "metadata": {},
   "outputs": [
    {
     "data": {
      "image/png": "[encoded data removed]",
      "text/plain": [
       "<Figure size 700x500 with 1 Axes>"
      ]
     },
     "metadata": {},
     "output_type": "display_data"
    }
   ],
   "source": [
    "#On stock le dataframe contenant les proportions de valeurs manquantes dans chaque colonne\n",
    "df_na = df_data.isnull().sum().divide(len(df_data)).round(2)*100\n",
    "\n",
    "plt.figure(figsize=(7, 5))\n",
    "sns.barplot(data=df_na.reset_index(), \n",
    "            x='index', y=0,\n",
    "            orient='v', color='royalblue')\n",
    "plt.xlabel(\"Colonnes\")\n",
    "plt.ylabel('Valeurs manquantes (%)')\n",
    "plt.title('Proportion de valeurs manquantes par colonne')\n",
    "plt.xticks([])\n",
    "plt.tight_layout()\n",
    "plt.show()"
   ]
  },
  {
   "cell_type": "markdown",
   "id": "e5c63b03",
   "metadata": {},
   "source": [
    "Pour les 66 colonnes concernées par la présence de valeurs manquantes, on observe que la plupart de ces colonnes contiennent plus de 80% de valeurs manquantes.\n",
    "Nous allons supprimer seulement les colonnes qui sont complétement vide."
   ]
  },
  {
   "cell_type": "code",
   "execution_count": 96,
   "id": "4de3a428",
   "metadata": {},
   "outputs": [
    {
     "data": {
      "application/vnd.microsoft.datawrangler.viewer.v0+json": {
       "columns": [
        {
         "name": "index",
         "rawType": "object",
         "type": "string"
        },
        {
         "name": "0",
         "rawType": "bool",
         "type": "boolean"
        }
       ],
       "ref": "91791505-aca8-4184-8ede-a3f2146b657d",
       "rows": [
        [
         "Unnamed: 69",
         "True"
        ]
       ],
       "shape": {
        "columns": 1,
        "rows": 1
       }
      },
      "text/plain": [
       "Unnamed: 69    True\n",
       "dtype: bool"
      ]
     },
     "execution_count": 96,
     "metadata": {},
     "output_type": "execute_result"
    }
   ],
   "source": [
    "df_data.isna().all()[df_data.isna().all()==True]"
   ]
  },
  {
   "cell_type": "markdown",
   "id": "927f8584",
   "metadata": {},
   "source": [
    "Seule la colonne \"Unnamed: 69\" est complétement vide, nous allons donc la supprimer."
   ]
  },
  {
   "cell_type": "code",
   "execution_count": 97,
   "id": "5b983a00",
   "metadata": {},
   "outputs": [],
   "source": [
    "df_data = df_data.drop(columns='Unnamed: 69')"
   ]
  },
  {
   "cell_type": "code",
   "execution_count": 98,
   "id": "727a977f",
   "metadata": {},
   "outputs": [
    {
     "name": "stdout",
     "output_type": "stream",
     "text": [
      "Le fichier contient 0 ligne en doublon\n",
      "Le fichier contient 886688 pays en doublon\n"
     ]
    }
   ],
   "source": [
    "#Nombre de doublons dans le fichier\n",
    "print(f\"Le fichier contient {df_data.duplicated().sum()} ligne en doublon\")\n",
    "print(f\"Le fichier contient {df_data['Country Code'].duplicated().sum()} pays en doublon\")"
   ]
  },
  {
   "cell_type": "markdown",
   "id": "06fc7efa",
   "metadata": {},
   "source": [
    "Le fichier ne contient pas de ligne en doublon, toutefois, on observe qu'il existe plusieurs lignes pour un seul et même pays, ceci s'explique par le fait que plusieurs indicateurs sont renseignés pour un seul pays."
   ]
  },
  {
   "cell_type": "markdown",
   "id": "67786337",
   "metadata": {},
   "source": [
    "### Exploration du fichier \"EdStatsFootNote\""
   ]
  },
  {
   "cell_type": "code",
   "execution_count": 99,
   "id": "04f9bbc2",
   "metadata": {},
   "outputs": [
    {
     "data": {
      "application/vnd.microsoft.datawrangler.viewer.v0+json": {
       "columns": [
        {
         "name": "index",
         "rawType": "int64",
         "type": "integer"
        },
        {
         "name": "CountryCode",
         "rawType": "object",
         "type": "string"
        },
        {
         "name": "SeriesCode",
         "rawType": "object",
         "type": "string"
        },
        {
         "name": "Year",
         "rawType": "object",
         "type": "string"
        },
        {
         "name": "DESCRIPTION",
         "rawType": "object",
         "type": "string"
        },
        {
         "name": "Unnamed: 4",
         "rawType": "float64",
         "type": "float"
        }
       ],
       "ref": "3ef6650f-698c-493a-bc86-ed79b37c22cf",
       "rows": [
        [
         "0",
         "ABW",
         "SE.PRE.ENRL.FE",
         "YR2001",
         "Country estimation.",
         null
        ],
        [
         "1",
         "ABW",
         "SE.TER.TCHR.FE",
         "YR2005",
         "Country estimation.",
         null
        ],
        [
         "2",
         "ABW",
         "SE.PRE.TCHR.FE",
         "YR2000",
         "Country estimation.",
         null
        ],
        [
         "3",
         "ABW",
         "SE.SEC.ENRL.GC",
         "YR2004",
         "Country estimation.",
         null
        ],
        [
         "4",
         "ABW",
         "SE.PRE.TCHR",
         "YR2006",
         "Country estimation.",
         null
        ]
       ],
       "shape": {
        "columns": 5,
        "rows": 5
       }
      },
      "text/html": [
       "<div>\n",
       "<style scoped>\n",
       "    .dataframe tbody tr th:only-of-type {\n",
       "        vertical-align: middle;\n",
       "    }\n",
       "\n",
       "    .dataframe tbody tr th {\n",
       "        vertical-align: top;\n",
       "    }\n",
       "\n",
       "    .dataframe thead th {\n",
       "        text-align: right;\n",
       "    }\n",
       "</style>\n",
       "<table border=\"1\" class=\"dataframe\">\n",
       "  <thead>\n",
       "    <tr style=\"text-align: right;\">\n",
       "      <th></th>\n",
       "      <th>CountryCode</th>\n",
       "      <th>SeriesCode</th>\n",
       "      <th>Year</th>\n",
       "      <th>DESCRIPTION</th>\n",
       "      <th>Unnamed: 4</th>\n",
       "    </tr>\n",
       "  </thead>\n",
       "  <tbody>\n",
       "    <tr>\n",
       "      <th>0</th>\n",
       "      <td>ABW</td>\n",
       "      <td>SE.PRE.ENRL.FE</td>\n",
       "      <td>YR2001</td>\n",
       "      <td>Country estimation.</td>\n",
       "      <td>NaN</td>\n",
       "    </tr>\n",
       "    <tr>\n",
       "      <th>1</th>\n",
       "      <td>ABW</td>\n",
       "      <td>SE.TER.TCHR.FE</td>\n",
       "      <td>YR2005</td>\n",
       "      <td>Country estimation.</td>\n",
       "      <td>NaN</td>\n",
       "    </tr>\n",
       "    <tr>\n",
       "      <th>2</th>\n",
       "      <td>ABW</td>\n",
       "      <td>SE.PRE.TCHR.FE</td>\n",
       "      <td>YR2000</td>\n",
       "      <td>Country estimation.</td>\n",
       "      <td>NaN</td>\n",
       "    </tr>\n",
       "    <tr>\n",
       "      <th>3</th>\n",
       "      <td>ABW</td>\n",
       "      <td>SE.SEC.ENRL.GC</td>\n",
       "      <td>YR2004</td>\n",
       "      <td>Country estimation.</td>\n",
       "      <td>NaN</td>\n",
       "    </tr>\n",
       "    <tr>\n",
       "      <th>4</th>\n",
       "      <td>ABW</td>\n",
       "      <td>SE.PRE.TCHR</td>\n",
       "      <td>YR2006</td>\n",
       "      <td>Country estimation.</td>\n",
       "      <td>NaN</td>\n",
       "    </tr>\n",
       "  </tbody>\n",
       "</table>\n",
       "</div>"
      ],
      "text/plain": [
       "  CountryCode      SeriesCode    Year          DESCRIPTION  Unnamed: 4\n",
       "0         ABW  SE.PRE.ENRL.FE  YR2001  Country estimation.         NaN\n",
       "1         ABW  SE.TER.TCHR.FE  YR2005  Country estimation.         NaN\n",
       "2         ABW  SE.PRE.TCHR.FE  YR2000  Country estimation.         NaN\n",
       "3         ABW  SE.SEC.ENRL.GC  YR2004  Country estimation.         NaN\n",
       "4         ABW     SE.PRE.TCHR  YR2006  Country estimation.         NaN"
      ]
     },
     "execution_count": 99,
     "metadata": {},
     "output_type": "execute_result"
    }
   ],
   "source": [
    "df_footnote.head(5)"
   ]
  },
  {
   "cell_type": "code",
   "execution_count": 100,
   "id": "05d20d37",
   "metadata": {},
   "outputs": [
    {
     "name": "stdout",
     "output_type": "stream",
     "text": [
      "<class 'pandas.core.frame.DataFrame'>\n",
      "RangeIndex: 643638 entries, 0 to 643637\n",
      "Data columns (total 5 columns):\n",
      " #   Column       Non-Null Count   Dtype  \n",
      "---  ------       --------------   -----  \n",
      " 0   CountryCode  643638 non-null  object \n",
      " 1   SeriesCode   643638 non-null  object \n",
      " 2   Year         643638 non-null  object \n",
      " 3   DESCRIPTION  643638 non-null  object \n",
      " 4   Unnamed: 4   0 non-null       float64\n",
      "dtypes: float64(1), object(4)\n",
      "memory usage: 24.6+ MB\n"
     ]
    }
   ],
   "source": [
    "df_footnote.info()"
   ]
  },
  {
   "cell_type": "markdown",
   "id": "e62c4694",
   "metadata": {},
   "source": [
    "Le fichier contient **643 638 lignes** et **5 colonnes**.\n",
    "\n",
    "Chaque ligne contient des informations sur les indicateurs disponibles pour chaque pays et pour plusieurs années, ainsi que la source de ces indicateurs."
   ]
  },
  {
   "cell_type": "code",
   "execution_count": 101,
   "id": "24efbb58",
   "metadata": {},
   "outputs": [
    {
     "name": "stdout",
     "output_type": "stream",
     "text": [
      "CountryCode      0.0\n",
      "SeriesCode       0.0\n",
      "Year             0.0\n",
      "DESCRIPTION      0.0\n",
      "Unnamed: 4     100.0\n",
      "dtype: float64\n",
      "Dans le fichier, 1 colonnes contiennent des valeurs nulles\n"
     ]
    }
   ],
   "source": [
    "#Proportion de valeurs manquantes par colonne\n",
    "print(df_footnote.isnull().sum().divide(len(df_footnote)).round(2)*100)\n",
    "\n",
    "#Nombre de colonnes contenant des valeurs nulles dans le fichier\n",
    "print(f\"Dans le fichier, {df_footnote.isnull().any().sum()} colonnes contiennent des valeurs nulles\")"
   ]
  },
  {
   "cell_type": "markdown",
   "id": "f46bdb4c",
   "metadata": {},
   "source": [
    "Seule la colonne \"Unnamed: 4\" contient des valeurs manquantes, elle est même complétement vide, nous allons donc la supprimer."
   ]
  },
  {
   "cell_type": "code",
   "execution_count": 102,
   "id": "91368059",
   "metadata": {},
   "outputs": [],
   "source": [
    "df_footnote = df_footnote.drop(columns='Unnamed: 4')"
   ]
  },
  {
   "cell_type": "code",
   "execution_count": 103,
   "id": "a6fe3b44",
   "metadata": {},
   "outputs": [
    {
     "name": "stdout",
     "output_type": "stream",
     "text": [
      "Le fichier contient 0 ligne en doublon\n",
      "Le fichier contient 643399 pays en doublon\n"
     ]
    }
   ],
   "source": [
    "#Nombre de doublons dans le fichier\n",
    "print(f\"Le fichier contient {df_footnote.duplicated().sum()} ligne en doublon\")\n",
    "print(f\"Le fichier contient {df_footnote['CountryCode'].duplicated().sum()} pays en doublon\")"
   ]
  },
  {
   "cell_type": "markdown",
   "id": "16b64517",
   "metadata": {},
   "source": [
    "Le fichier ne contient pas de ligne en doublon."
   ]
  },
  {
   "cell_type": "markdown",
   "id": "d79925fd",
   "metadata": {},
   "source": [
    "### Exploration du fichier \"EdStatsSeries\""
   ]
  },
  {
   "cell_type": "code",
   "execution_count": 104,
   "id": "feff9c2a",
   "metadata": {},
   "outputs": [
    {
     "data": {
      "application/vnd.microsoft.datawrangler.viewer.v0+json": {
       "columns": [
        {
         "name": "index",
         "rawType": "int64",
         "type": "integer"
        },
        {
         "name": "Series Code",
         "rawType": "object",
         "type": "string"
        },
        {
         "name": "Topic",
         "rawType": "object",
         "type": "string"
        },
        {
         "name": "Indicator Name",
         "rawType": "object",
         "type": "string"
        },
        {
         "name": "Short definition",
         "rawType": "object",
         "type": "string"
        },
        {
         "name": "Long definition",
         "rawType": "object",
         "type": "string"
        },
        {
         "name": "Unit of measure",
         "rawType": "float64",
         "type": "float"
        },
        {
         "name": "Periodicity",
         "rawType": "object",
         "type": "unknown"
        },
        {
         "name": "Base Period",
         "rawType": "object",
         "type": "unknown"
        },
        {
         "name": "Other notes",
         "rawType": "object",
         "type": "unknown"
        },
        {
         "name": "Aggregation method",
         "rawType": "object",
         "type": "unknown"
        },
        {
         "name": "Limitations and exceptions",
         "rawType": "object",
         "type": "unknown"
        },
        {
         "name": "Notes from original source",
         "rawType": "float64",
         "type": "float"
        },
        {
         "name": "General comments",
         "rawType": "object",
         "type": "unknown"
        },
        {
         "name": "Source",
         "rawType": "object",
         "type": "string"
        },
        {
         "name": "Statistical concept and methodology",
         "rawType": "object",
         "type": "unknown"
        },
        {
         "name": "Development relevance",
         "rawType": "object",
         "type": "unknown"
        },
        {
         "name": "Related source links",
         "rawType": "object",
         "type": "unknown"
        },
        {
         "name": "Other web links",
         "rawType": "float64",
         "type": "float"
        },
        {
         "name": "Related indicators",
         "rawType": "float64",
         "type": "float"
        },
        {
         "name": "License Type",
         "rawType": "float64",
         "type": "float"
        },
        {
         "name": "Unnamed: 20",
         "rawType": "float64",
         "type": "float"
        }
       ],
       "ref": "a88e316f-3df8-409b-8862-a7aefae3eb2c",
       "rows": [
        [
         "0",
         "BAR.NOED.1519.FE.ZS",
         "Attainment",
         "Barro-Lee: Percentage of female population age 15-19 with no education",
         "Percentage of female population age 15-19 with no education",
         "Percentage of female population age 15-19 with no education",
         null,
         null,
         null,
         null,
         null,
         null,
         null,
         null,
         "Robert J. Barro and Jong-Wha Lee: http://www.barrolee.com/",
         null,
         null,
         null,
         null,
         null,
         null,
         null
        ],
        [
         "1",
         "BAR.NOED.1519.ZS",
         "Attainment",
         "Barro-Lee: Percentage of population age 15-19 with no education",
         "Percentage of population age 15-19 with no education",
         "Percentage of population age 15-19 with no education",
         null,
         null,
         null,
         null,
         null,
         null,
         null,
         null,
         "Robert J. Barro and Jong-Wha Lee: http://www.barrolee.com/",
         null,
         null,
         null,
         null,
         null,
         null,
         null
        ],
        [
         "2",
         "BAR.NOED.15UP.FE.ZS",
         "Attainment",
         "Barro-Lee: Percentage of female population age 15+ with no education",
         "Percentage of female population age 15+ with no education",
         "Percentage of female population age 15+ with no education",
         null,
         null,
         null,
         null,
         null,
         null,
         null,
         null,
         "Robert J. Barro and Jong-Wha Lee: http://www.barrolee.com/",
         null,
         null,
         null,
         null,
         null,
         null,
         null
        ],
        [
         "3",
         "BAR.NOED.15UP.ZS",
         "Attainment",
         "Barro-Lee: Percentage of population age 15+ with no education",
         "Percentage of population age 15+ with no education",
         "Percentage of population age 15+ with no education",
         null,
         null,
         null,
         null,
         null,
         null,
         null,
         null,
         "Robert J. Barro and Jong-Wha Lee: http://www.barrolee.com/",
         null,
         null,
         null,
         null,
         null,
         null,
         null
        ],
        [
         "4",
         "BAR.NOED.2024.FE.ZS",
         "Attainment",
         "Barro-Lee: Percentage of female population age 20-24 with no education",
         "Percentage of female population age 20-24 with no education",
         "Percentage of female population age 20-24 with no education",
         null,
         null,
         null,
         null,
         null,
         null,
         null,
         null,
         "Robert J. Barro and Jong-Wha Lee: http://www.barrolee.com/",
         null,
         null,
         null,
         null,
         null,
         null,
         null
        ]
       ],
       "shape": {
        "columns": 21,
        "rows": 5
       }
      },
      "text/html": [
       "<div>\n",
       "<style scoped>\n",
       "    .dataframe tbody tr th:only-of-type {\n",
       "        vertical-align: middle;\n",
       "    }\n",
       "\n",
       "    .dataframe tbody tr th {\n",
       "        vertical-align: top;\n",
       "    }\n",
       "\n",
       "    .dataframe thead th {\n",
       "        text-align: right;\n",
       "    }\n",
       "</style>\n",
       "<table border=\"1\" class=\"dataframe\">\n",
       "  <thead>\n",
       "    <tr style=\"text-align: right;\">\n",
       "      <th></th>\n",
       "      <th>Series Code</th>\n",
       "      <th>Topic</th>\n",
       "      <th>Indicator Name</th>\n",
       "      <th>Short definition</th>\n",
       "      <th>Long definition</th>\n",
       "      <th>Unit of measure</th>\n",
       "      <th>Periodicity</th>\n",
       "      <th>Base Period</th>\n",
       "      <th>Other notes</th>\n",
       "      <th>Aggregation method</th>\n",
       "      <th>...</th>\n",
       "      <th>Notes from original source</th>\n",
       "      <th>General comments</th>\n",
       "      <th>Source</th>\n",
       "      <th>Statistical concept and methodology</th>\n",
       "      <th>Development relevance</th>\n",
       "      <th>Related source links</th>\n",
       "      <th>Other web links</th>\n",
       "      <th>Related indicators</th>\n",
       "      <th>License Type</th>\n",
       "      <th>Unnamed: 20</th>\n",
       "    </tr>\n",
       "  </thead>\n",
       "  <tbody>\n",
       "    <tr>\n",
       "      <th>0</th>\n",
       "      <td>BAR.NOED.1519.FE.ZS</td>\n",
       "      <td>Attainment</td>\n",
       "      <td>Barro-Lee: Percentage of female population age...</td>\n",
       "      <td>Percentage of female population age 15-19 with...</td>\n",
       "      <td>Percentage of female population age 15-19 with...</td>\n",
       "      <td>NaN</td>\n",
       "      <td>NaN</td>\n",
       "      <td>NaN</td>\n",
       "      <td>NaN</td>\n",
       "      <td>NaN</td>\n",
       "      <td>...</td>\n",
       "      <td>NaN</td>\n",
       "      <td>NaN</td>\n",
       "      <td>Robert J. Barro and Jong-Wha Lee: http://www.b...</td>\n",
       "      <td>NaN</td>\n",
       "      <td>NaN</td>\n",
       "      <td>NaN</td>\n",
       "      <td>NaN</td>\n",
       "      <td>NaN</td>\n",
       "      <td>NaN</td>\n",
       "      <td>NaN</td>\n",
       "    </tr>\n",
       "    <tr>\n",
       "      <th>1</th>\n",
       "      <td>BAR.NOED.1519.ZS</td>\n",
       "      <td>Attainment</td>\n",
       "      <td>Barro-Lee: Percentage of population age 15-19 ...</td>\n",
       "      <td>Percentage of population age 15-19 with no edu...</td>\n",
       "      <td>Percentage of population age 15-19 with no edu...</td>\n",
       "      <td>NaN</td>\n",
       "      <td>NaN</td>\n",
       "      <td>NaN</td>\n",
       "      <td>NaN</td>\n",
       "      <td>NaN</td>\n",
       "      <td>...</td>\n",
       "      <td>NaN</td>\n",
       "      <td>NaN</td>\n",
       "      <td>Robert J. Barro and Jong-Wha Lee: http://www.b...</td>\n",
       "      <td>NaN</td>\n",
       "      <td>NaN</td>\n",
       "      <td>NaN</td>\n",
       "      <td>NaN</td>\n",
       "      <td>NaN</td>\n",
       "      <td>NaN</td>\n",
       "      <td>NaN</td>\n",
       "    </tr>\n",
       "    <tr>\n",
       "      <th>2</th>\n",
       "      <td>BAR.NOED.15UP.FE.ZS</td>\n",
       "      <td>Attainment</td>\n",
       "      <td>Barro-Lee: Percentage of female population age...</td>\n",
       "      <td>Percentage of female population age 15+ with n...</td>\n",
       "      <td>Percentage of female population age 15+ with n...</td>\n",
       "      <td>NaN</td>\n",
       "      <td>NaN</td>\n",
       "      <td>NaN</td>\n",
       "      <td>NaN</td>\n",
       "      <td>NaN</td>\n",
       "      <td>...</td>\n",
       "      <td>NaN</td>\n",
       "      <td>NaN</td>\n",
       "      <td>Robert J. Barro and Jong-Wha Lee: http://www.b...</td>\n",
       "      <td>NaN</td>\n",
       "      <td>NaN</td>\n",
       "      <td>NaN</td>\n",
       "      <td>NaN</td>\n",
       "      <td>NaN</td>\n",
       "      <td>NaN</td>\n",
       "      <td>NaN</td>\n",
       "    </tr>\n",
       "    <tr>\n",
       "      <th>3</th>\n",
       "      <td>BAR.NOED.15UP.ZS</td>\n",
       "      <td>Attainment</td>\n",
       "      <td>Barro-Lee: Percentage of population age 15+ wi...</td>\n",
       "      <td>Percentage of population age 15+ with no educa...</td>\n",
       "      <td>Percentage of population age 15+ with no educa...</td>\n",
       "      <td>NaN</td>\n",
       "      <td>NaN</td>\n",
       "      <td>NaN</td>\n",
       "      <td>NaN</td>\n",
       "      <td>NaN</td>\n",
       "      <td>...</td>\n",
       "      <td>NaN</td>\n",
       "      <td>NaN</td>\n",
       "      <td>Robert J. Barro and Jong-Wha Lee: http://www.b...</td>\n",
       "      <td>NaN</td>\n",
       "      <td>NaN</td>\n",
       "      <td>NaN</td>\n",
       "      <td>NaN</td>\n",
       "      <td>NaN</td>\n",
       "      <td>NaN</td>\n",
       "      <td>NaN</td>\n",
       "    </tr>\n",
       "    <tr>\n",
       "      <th>4</th>\n",
       "      <td>BAR.NOED.2024.FE.ZS</td>\n",
       "      <td>Attainment</td>\n",
       "      <td>Barro-Lee: Percentage of female population age...</td>\n",
       "      <td>Percentage of female population age 20-24 with...</td>\n",
       "      <td>Percentage of female population age 20-24 with...</td>\n",
       "      <td>NaN</td>\n",
       "      <td>NaN</td>\n",
       "      <td>NaN</td>\n",
       "      <td>NaN</td>\n",
       "      <td>NaN</td>\n",
       "      <td>...</td>\n",
       "      <td>NaN</td>\n",
       "      <td>NaN</td>\n",
       "      <td>Robert J. Barro and Jong-Wha Lee: http://www.b...</td>\n",
       "      <td>NaN</td>\n",
       "      <td>NaN</td>\n",
       "      <td>NaN</td>\n",
       "      <td>NaN</td>\n",
       "      <td>NaN</td>\n",
       "      <td>NaN</td>\n",
       "      <td>NaN</td>\n",
       "    </tr>\n",
       "  </tbody>\n",
       "</table>\n",
       "<p>5 rows × 21 columns</p>\n",
       "</div>"
      ],
      "text/plain": [
       "           Series Code       Topic  \\\n",
       "0  BAR.NOED.1519.FE.ZS  Attainment   \n",
       "1     BAR.NOED.1519.ZS  Attainment   \n",
       "2  BAR.NOED.15UP.FE.ZS  Attainment   \n",
       "3     BAR.NOED.15UP.ZS  Attainment   \n",
       "4  BAR.NOED.2024.FE.ZS  Attainment   \n",
       "\n",
       "                                      Indicator Name  \\\n",
       "0  Barro-Lee: Percentage of female population age...   \n",
       "1  Barro-Lee: Percentage of population age 15-19 ...   \n",
       "2  Barro-Lee: Percentage of female population age...   \n",
       "3  Barro-Lee: Percentage of population age 15+ wi...   \n",
       "4  Barro-Lee: Percentage of female population age...   \n",
       "\n",
       "                                    Short definition  \\\n",
       "0  Percentage of female population age 15-19 with...   \n",
       "1  Percentage of population age 15-19 with no edu...   \n",
       "2  Percentage of female population age 15+ with n...   \n",
       "3  Percentage of population age 15+ with no educa...   \n",
       "4  Percentage of female population age 20-24 with...   \n",
       "\n",
       "                                     Long definition  Unit of measure  \\\n",
       "0  Percentage of female population age 15-19 with...              NaN   \n",
       "1  Percentage of population age 15-19 with no edu...              NaN   \n",
       "2  Percentage of female population age 15+ with n...              NaN   \n",
       "3  Percentage of population age 15+ with no educa...              NaN   \n",
       "4  Percentage of female population age 20-24 with...              NaN   \n",
       "\n",
       "  Periodicity Base Period Other notes Aggregation method  ...  \\\n",
       "0         NaN         NaN         NaN                NaN  ...   \n",
       "1         NaN         NaN         NaN                NaN  ...   \n",
       "2         NaN         NaN         NaN                NaN  ...   \n",
       "3         NaN         NaN         NaN                NaN  ...   \n",
       "4         NaN         NaN         NaN                NaN  ...   \n",
       "\n",
       "  Notes from original source  General comments  \\\n",
       "0                        NaN               NaN   \n",
       "1                        NaN               NaN   \n",
       "2                        NaN               NaN   \n",
       "3                        NaN               NaN   \n",
       "4                        NaN               NaN   \n",
       "\n",
       "                                              Source  \\\n",
       "0  Robert J. Barro and Jong-Wha Lee: http://www.b...   \n",
       "1  Robert J. Barro and Jong-Wha Lee: http://www.b...   \n",
       "2  Robert J. Barro and Jong-Wha Lee: http://www.b...   \n",
       "3  Robert J. Barro and Jong-Wha Lee: http://www.b...   \n",
       "4  Robert J. Barro and Jong-Wha Lee: http://www.b...   \n",
       "\n",
       "  Statistical concept and methodology Development relevance  \\\n",
       "0                                 NaN                   NaN   \n",
       "1                                 NaN                   NaN   \n",
       "2                                 NaN                   NaN   \n",
       "3                                 NaN                   NaN   \n",
       "4                                 NaN                   NaN   \n",
       "\n",
       "  Related source links Other web links  Related indicators  License Type  \\\n",
       "0                  NaN             NaN                 NaN           NaN   \n",
       "1                  NaN             NaN                 NaN           NaN   \n",
       "2                  NaN             NaN                 NaN           NaN   \n",
       "3                  NaN             NaN                 NaN           NaN   \n",
       "4                  NaN             NaN                 NaN           NaN   \n",
       "\n",
       "   Unnamed: 20  \n",
       "0          NaN  \n",
       "1          NaN  \n",
       "2          NaN  \n",
       "3          NaN  \n",
       "4          NaN  \n",
       "\n",
       "[5 rows x 21 columns]"
      ]
     },
     "execution_count": 104,
     "metadata": {},
     "output_type": "execute_result"
    }
   ],
   "source": [
    "df_series.head(5)"
   ]
  },
  {
   "cell_type": "code",
   "execution_count": 105,
   "id": "ac2b5e3f",
   "metadata": {},
   "outputs": [
    {
     "name": "stdout",
     "output_type": "stream",
     "text": [
      "<class 'pandas.core.frame.DataFrame'>\n",
      "RangeIndex: 3665 entries, 0 to 3664\n",
      "Data columns (total 21 columns):\n",
      " #   Column                               Non-Null Count  Dtype  \n",
      "---  ------                               --------------  -----  \n",
      " 0   Series Code                          3665 non-null   object \n",
      " 1   Topic                                3665 non-null   object \n",
      " 2   Indicator Name                       3665 non-null   object \n",
      " 3   Short definition                     2156 non-null   object \n",
      " 4   Long definition                      3665 non-null   object \n",
      " 5   Unit of measure                      0 non-null      float64\n",
      " 6   Periodicity                          99 non-null     object \n",
      " 7   Base Period                          314 non-null    object \n",
      " 8   Other notes                          552 non-null    object \n",
      " 9   Aggregation method                   47 non-null     object \n",
      " 10  Limitations and exceptions           14 non-null     object \n",
      " 11  Notes from original source           0 non-null      float64\n",
      " 12  General comments                     14 non-null     object \n",
      " 13  Source                               3665 non-null   object \n",
      " 14  Statistical concept and methodology  23 non-null     object \n",
      " 15  Development relevance                3 non-null      object \n",
      " 16  Related source links                 215 non-null    object \n",
      " 17  Other web links                      0 non-null      float64\n",
      " 18  Related indicators                   0 non-null      float64\n",
      " 19  License Type                         0 non-null      float64\n",
      " 20  Unnamed: 20                          0 non-null      float64\n",
      "dtypes: float64(6), object(15)\n",
      "memory usage: 601.4+ KB\n"
     ]
    }
   ],
   "source": [
    "df_series.info()"
   ]
  },
  {
   "cell_type": "markdown",
   "id": "97405e71",
   "metadata": {},
   "source": [
    "Le fichier est composé de **3665 lignes** et **21 colonnes**.\n",
    "\n",
    "Chaque ligne représente un indicateur identifié notamment par un code ainsi que des informations sur le périmètre et sur la construction de cet indicateur."
   ]
  },
  {
   "cell_type": "code",
   "execution_count": 106,
   "id": "208692cb",
   "metadata": {},
   "outputs": [
    {
     "name": "stdout",
     "output_type": "stream",
     "text": [
      "Series Code                              0.0\n",
      "Topic                                    0.0\n",
      "Indicator Name                           0.0\n",
      "Short definition                        41.0\n",
      "Long definition                          0.0\n",
      "Unit of measure                        100.0\n",
      "Periodicity                             97.0\n",
      "Base Period                             91.0\n",
      "Other notes                             85.0\n",
      "Aggregation method                      99.0\n",
      "Limitations and exceptions             100.0\n",
      "Notes from original source             100.0\n",
      "General comments                       100.0\n",
      "Source                                   0.0\n",
      "Statistical concept and methodology     99.0\n",
      "Development relevance                  100.0\n",
      "Related source links                    94.0\n",
      "Other web links                        100.0\n",
      "Related indicators                     100.0\n",
      "License Type                           100.0\n",
      "Unnamed: 20                            100.0\n",
      "dtype: float64\n",
      "Dans le fichier, 16 colonnes contiennent des valeurs nulles\n"
     ]
    }
   ],
   "source": [
    "#Proportion de valeurs manquantes par colonne\n",
    "print(df_series.isnull().sum().divide(len(df_series)).round(2)*100)\n",
    "\n",
    "#Nombre de colonnes contenant des valeurs nulles dans le fichier\n",
    "print(f\"Dans le fichier, {df_series.isnull().any().sum()} colonnes contiennent des valeurs nulles\")"
   ]
  },
  {
   "cell_type": "markdown",
   "id": "bebc9b28",
   "metadata": {},
   "source": [
    "Le fichier contient 16 colonnes avec des valeurs manquantes, souvent avec des proportions importantes (plus de 85%).\n",
    "\n",
    "Nous allons dans un premier temps supprimer seulement les colonnes entièrement vides ainsi que la colonne contenant une courte définition de l'indicateur faisant doublon avec celle contenant une longue définition et étant partielle vide."
   ]
  },
  {
   "cell_type": "code",
   "execution_count": 107,
   "id": "b9ae1f34",
   "metadata": {},
   "outputs": [],
   "source": [
    "df_series = df_series[['Series Code','Topic','Indicator Name','Long definition','Source']]"
   ]
  },
  {
   "cell_type": "code",
   "execution_count": 108,
   "id": "2beada79",
   "metadata": {},
   "outputs": [
    {
     "name": "stdout",
     "output_type": "stream",
     "text": [
      "Le fichier contient 0 ligne en doublon\n",
      "Le fichier contient 0 indicateur en doublon\n"
     ]
    }
   ],
   "source": [
    "#Nombre de doublons dans le fichier\n",
    "print(f\"Le fichier contient {df_series.duplicated().sum()} ligne en doublon\")\n",
    "print(f\"Le fichier contient {df_series['Series Code'].duplicated().sum()} indicateur en doublon\")"
   ]
  },
  {
   "cell_type": "markdown",
   "id": "15a28a72",
   "metadata": {},
   "source": [
    "Le fichier ne contient aucune ligne en doublon et chaque indicateur est unique."
   ]
  },
  {
   "cell_type": "markdown",
   "id": "702d9af5",
   "metadata": {},
   "source": [
    "# Réduction du périmètre des indicateurs"
   ]
  },
  {
   "cell_type": "markdown",
   "id": "300058b3",
   "metadata": {},
   "source": [
    "La seconde étape du travail consiste à réduire le périmètre des indicateurs présent dans les différents fichiers de données. "
   ]
  },
  {
   "cell_type": "markdown",
   "id": "081a6fe3",
   "metadata": {},
   "source": [
    "### Réduction du périmètre par une approche métier"
   ]
  },
  {
   "cell_type": "markdown",
   "id": "da463f8f",
   "metadata": {},
   "source": [
    "D'abord, nous allons utiliser une approche métier afin de réduire une première fois le périmètre des indicateurs.\n",
    "\n",
    "Pour cela, nous allons nous servir du fichier \"Series\" qui contient une colonne \"Topic\" référencant la catégorie de l'indicateur."
   ]
  },
  {
   "cell_type": "code",
   "execution_count": 109,
   "id": "e20f535c",
   "metadata": {},
   "outputs": [
    {
     "data": {
      "text/plain": [
       "array(['Attainment', 'Education Equality',\n",
       "       'Infrastructure: Communications', 'Learning Outcomes',\n",
       "       'Economic Policy & Debt: National accounts: US$ at current prices: Aggregate indicators',\n",
       "       'Economic Policy & Debt: National accounts: US$ at constant 2010 prices: Aggregate indicators',\n",
       "       'Economic Policy & Debt: Purchasing power parity',\n",
       "       'Economic Policy & Debt: National accounts: Atlas GNI & GNI per capita',\n",
       "       'Teachers', 'Education Management Information Systems (SABER)',\n",
       "       'Early Child Development (SABER)',\n",
       "       'Engaging the Private Sector (SABER)',\n",
       "       'School Health and School Feeding (SABER)',\n",
       "       'School Autonomy and Accountability (SABER)',\n",
       "       'School Finance (SABER)', 'Student Assessment (SABER)',\n",
       "       'Teachers (SABER)', 'Tertiary Education (SABER)',\n",
       "       'Workforce Development (SABER)', 'Literacy', 'Background',\n",
       "       'Primary', 'Secondary', 'Tertiary', 'Early Childhood Education',\n",
       "       'Pre-Primary', 'Expenditures', 'Health: Risk factors',\n",
       "       'Health: Mortality',\n",
       "       'Social Protection & Labor: Labor force structure', 'Laber',\n",
       "       'Social Protection & Labor: Unemployment',\n",
       "       'Health: Population: Structure', 'Population',\n",
       "       'Health: Population: Dynamics', 'EMIS',\n",
       "       'Post-Secondary/Non-Tertiary'], dtype=object)"
      ]
     },
     "execution_count": 109,
     "metadata": {},
     "output_type": "execute_result"
    }
   ],
   "source": [
    "df_series['Topic'].unique()"
   ]
  },
  {
   "cell_type": "markdown",
   "id": "f2a17f0e",
   "metadata": {},
   "source": [
    "Pour répondre à la problématique métier, nous allons sélectionner les catégories :\n",
    "\n",
    "- Secondary\n",
    "- Tertiary\n",
    "- Post-Secondary/Non-Tertiary\n",
    "- Economic Policy & Debt : Purchasing power parity\n",
    "- Infrastructure: Communications\n",
    "\n",
    "Ces catégories nous permettent de garder seulement les indicateurs relatifs aux nombres d'élèves en lycée et université, à la couverture internet dans le pays ainsi que le pouvoir d'achat."
   ]
  },
  {
   "cell_type": "code",
   "execution_count": 110,
   "id": "b123977f",
   "metadata": {},
   "outputs": [],
   "source": [
    "df_series_filtered = df_series[df_series['Topic'].isin(['Secondary',\n",
    "                                                        'Tertiary',\n",
    "                                                        'Post-Secondary/Non-Tertiary',\n",
    "                                                        'Economic Policy & Debt: Purchasing power parity',\n",
    "                                                        'Infrastructure: Communications'])]"
   ]
  },
  {
   "cell_type": "code",
   "execution_count": 111,
   "id": "cd28f2d8",
   "metadata": {},
   "outputs": [
    {
     "name": "stdout",
     "output_type": "stream",
     "text": [
      "<class 'pandas.core.frame.DataFrame'>\n",
      "Index: 441 entries, 610 to 3580\n",
      "Data columns (total 5 columns):\n",
      " #   Column           Non-Null Count  Dtype \n",
      "---  ------           --------------  ----- \n",
      " 0   Series Code      441 non-null    object\n",
      " 1   Topic            441 non-null    object\n",
      " 2   Indicator Name   441 non-null    object\n",
      " 3   Long definition  441 non-null    object\n",
      " 4   Source           441 non-null    object\n",
      "dtypes: object(5)\n",
      "memory usage: 20.7+ KB\n"
     ]
    }
   ],
   "source": [
    "df_series_filtered.info()"
   ]
  },
  {
   "cell_type": "markdown",
   "id": "e6012aee",
   "metadata": {},
   "source": [
    "Après avoir filtrer le fichier sur la base de ces catégories d'indicateurs, nous passons de **3665 indicateurs** à **441 indicateurs**.\n",
    "\n",
    "Nous récupérer la liste des indicateurs sélectionnés pour également filtrer les autres fichiers de données."
   ]
  },
  {
   "cell_type": "code",
   "execution_count": 112,
   "id": "83cc996f",
   "metadata": {},
   "outputs": [],
   "source": [
    "Liste_Indicateur = df_series_filtered['Series Code'].tolist()"
   ]
  },
  {
   "cell_type": "code",
   "execution_count": 113,
   "id": "1d87b6df",
   "metadata": {},
   "outputs": [],
   "source": [
    "df_country_series_filtered = df_country_series[df_country_series['SeriesCode'].isin(Liste_Indicateur)]\n",
    "\n",
    "df_data_filtered = df_data[df_data['Indicator Code'].isin(Liste_Indicateur)]\n",
    "\n",
    "df_footnote = df_footnote[df_footnote['SeriesCode'].isin(Liste_Indicateur)]"
   ]
  },
  {
   "cell_type": "code",
   "execution_count": 114,
   "id": "08a547f9",
   "metadata": {},
   "outputs": [
    {
     "name": "stdout",
     "output_type": "stream",
     "text": [
      "<class 'pandas.core.frame.DataFrame'>\n",
      "Index: 102366 entries, 0 to 886610\n",
      "Data columns (total 69 columns):\n",
      " #   Column          Non-Null Count   Dtype  \n",
      "---  ------          --------------   -----  \n",
      " 0   Country Name    102366 non-null  object \n",
      " 1   Country Code    102366 non-null  object \n",
      " 2   Indicator Name  102366 non-null  object \n",
      " 3   Indicator Code  102366 non-null  object \n",
      " 4   1970            4107 non-null    float64\n",
      " 5   1971            11311 non-null   float64\n",
      " 6   1972            11078 non-null   float64\n",
      " 7   1973            11097 non-null   float64\n",
      " 8   1974            11178 non-null   float64\n",
      " 9   1975            10622 non-null   float64\n",
      " 10  1976            11494 non-null   float64\n",
      " 11  1977            11840 non-null   float64\n",
      " 12  1978            11668 non-null   float64\n",
      " 13  1979            11385 non-null   float64\n",
      " 14  1980            11103 non-null   float64\n",
      " 15  1981            11385 non-null   float64\n",
      " 16  1982            10905 non-null   float64\n",
      " 17  1983            11598 non-null   float64\n",
      " 18  1984            11501 non-null   float64\n",
      " 19  1985            11529 non-null   float64\n",
      " 20  1986            11937 non-null   float64\n",
      " 21  1987            11522 non-null   float64\n",
      " 22  1988            11434 non-null   float64\n",
      " 23  1989            10926 non-null   float64\n",
      " 24  1990            12463 non-null   float64\n",
      " 25  1991            12410 non-null   float64\n",
      " 26  1992            12796 non-null   float64\n",
      " 27  1993            13500 non-null   float64\n",
      " 28  1994            14223 non-null   float64\n",
      " 29  1995            13725 non-null   float64\n",
      " 30  1996            13479 non-null   float64\n",
      " 31  1997            12760 non-null   float64\n",
      " 32  1998            17007 non-null   float64\n",
      " 33  1999            33799 non-null   float64\n",
      " 34  2000            34930 non-null   float64\n",
      " 35  2001            35932 non-null   float64\n",
      " 36  2002            36998 non-null   float64\n",
      " 37  2003            36443 non-null   float64\n",
      " 38  2004            38665 non-null   float64\n",
      " 39  2005            38476 non-null   float64\n",
      " 40  2006            37651 non-null   float64\n",
      " 41  2007            39386 non-null   float64\n",
      " 42  2008            40640 non-null   float64\n",
      " 43  2009            41073 non-null   float64\n",
      " 44  2010            40851 non-null   float64\n",
      " 45  2011            42060 non-null   float64\n",
      " 46  2012            42200 non-null   float64\n",
      " 47  2013            42716 non-null   float64\n",
      " 48  2014            36202 non-null   float64\n",
      " 49  2015            9700 non-null    float64\n",
      " 50  2016            2370 non-null    float64\n",
      " 51  2017            0 non-null       float64\n",
      " 52  2020            0 non-null       float64\n",
      " 53  2025            0 non-null       float64\n",
      " 54  2030            0 non-null       float64\n",
      " 55  2035            0 non-null       float64\n",
      " 56  2040            0 non-null       float64\n",
      " 57  2045            0 non-null       float64\n",
      " 58  2050            0 non-null       float64\n",
      " 59  2055            0 non-null       float64\n",
      " 60  2060            0 non-null       float64\n",
      " 61  2065            0 non-null       float64\n",
      " 62  2070            0 non-null       float64\n",
      " 63  2075            0 non-null       float64\n",
      " 64  2080            0 non-null       float64\n",
      " 65  2085            0 non-null       float64\n",
      " 66  2090            0 non-null       float64\n",
      " 67  2095            0 non-null       float64\n",
      " 68  2100            0 non-null       float64\n",
      "dtypes: float64(65), object(4)\n",
      "memory usage: 54.7+ MB\n"
     ]
    }
   ],
   "source": [
    "df_data_filtered.info()"
   ]
  },
  {
   "cell_type": "markdown",
   "id": "20a10c0c",
   "metadata": {},
   "source": [
    "Le fichier \"Data\", le plus conséquent des fichiers, passe ainsi de **886 610 lignes** à **102 366 lignes**"
   ]
  },
  {
   "cell_type": "markdown",
   "id": "68ca2b4f",
   "metadata": {},
   "source": [
    "### Réduction du périmètre par une approche par la données"
   ]
  },
  {
   "cell_type": "markdown",
   "id": "bd32fc50",
   "metadata": {},
   "source": [
    "Après avoir réduit le périmètre par une approche métier, nous allons continuer ce travail de réduction de périmètre par une approche par la données.\n",
    "\n",
    "Le fichier \"Data\" contient les valeurs d'indicateurs pour chaque pays pour une période de temps allant de 1970 à 2100. En observant la proportion de valeurs manquantes, on observe que des années ont une part importante de valeurs manquantes. Afin d'avoir une qualité de données suffisante nous allons garder seulement les années les plus fournies en valeurs renseignées sur une période de 5 ans permettant d'observer des tendances.\n",
    "\n",
    "Ces années sont celles allant de 2008 à 2013.\n",
    "\n",
    "Nous allons donc garder seulement ces années pour la suite de l'analyse."
   ]
  },
  {
   "cell_type": "code",
   "execution_count": 115,
   "id": "b50fd079",
   "metadata": {},
   "outputs": [],
   "source": [
    "df_data_filtered = df_data_filtered[['Country Name',\n",
    "                                     'Country Code',\n",
    "                                     'Indicator Name',\n",
    "                                     'Indicator Code',\n",
    "                                     '2008',\n",
    "                                     '2009',\n",
    "                                     '2010',\n",
    "                                     '2011',\n",
    "                                     '2012',\n",
    "                                     '2013']]"
   ]
  },
  {
   "cell_type": "code",
   "execution_count": 116,
   "id": "dc9f709c",
   "metadata": {},
   "outputs": [
    {
     "data": {
      "application/vnd.microsoft.datawrangler.viewer.v0+json": {
       "columns": [
        {
         "name": "index",
         "rawType": "object",
         "type": "string"
        },
        {
         "name": "0",
         "rawType": "float64",
         "type": "float"
        }
       ],
       "ref": "5fa779a3-bda1-4d6d-b314-389259d54a7f",
       "rows": [
        [
         "2008",
         "60.0"
        ],
        [
         "2009",
         "60.0"
        ],
        [
         "2010",
         "60.0"
        ],
        [
         "2011",
         "59.0"
        ],
        [
         "2012",
         "59.0"
        ],
        [
         "2013",
         "57.99999999999999"
        ]
       ],
       "shape": {
        "columns": 1,
        "rows": 6
       }
      },
      "text/plain": [
       "2008    60.0\n",
       "2009    60.0\n",
       "2010    60.0\n",
       "2011    59.0\n",
       "2012    59.0\n",
       "2013    58.0\n",
       "dtype: float64"
      ]
     },
     "execution_count": 116,
     "metadata": {},
     "output_type": "execute_result"
    }
   ],
   "source": [
    "#Liste des colonnes correspondant aux années\n",
    "year_columns = [col for col in df_data_filtered if col.isdigit()]\n",
    "\n",
    "#Calcul de la propotion de valeurs nulles pour chaque années\n",
    "proportion_nulles = df_data_filtered[year_columns].isna().sum()/len(df_data_filtered)\n",
    "\n",
    "proportion_nulles.sort_index().round(2)*100"
   ]
  },
  {
   "cell_type": "markdown",
   "id": "a41a3a1e",
   "metadata": {},
   "source": [
    "Toutes les années sélectionnées contiennent une proportion de valeurs manquantes assez proche, comprise entre 58% et 60%."
   ]
  },
  {
   "cell_type": "code",
   "execution_count": 117,
   "id": "c72269c3",
   "metadata": {},
   "outputs": [
    {
     "data": {
      "application/vnd.microsoft.datawrangler.viewer.v0+json": {
       "columns": [
        {
         "name": "Indicator Name",
         "rawType": "object",
         "type": "string"
        },
        {
         "name": "0",
         "rawType": "float64",
         "type": "float"
        }
       ],
       "ref": "a264b567-b18b-4887-9b70-ff734f93e4cd",
       "rows": [
        [
         "Adjusted net enrolment rate, lower secondary, both sexes (%)",
         "1.0"
        ],
        [
         "Adjusted net enrolment rate, lower secondary, female (%)",
         "1.0"
        ],
        [
         "Adjusted net enrolment rate, lower secondary, gender parity index (GPI)",
         "1.0"
        ],
        [
         "Adjusted net enrolment rate, lower secondary, male (%)",
         "1.0"
        ],
        [
         "Adjusted net enrolment rate, upper secondary, both sexes (%)",
         "1.0"
        ],
        [
         "Adjusted net enrolment rate, upper secondary, female (%)",
         "1.0"
        ],
        [
         "Adjusted net enrolment rate, upper secondary, gender parity index (GPI)",
         "1.0"
        ],
        [
         "Adjusted net enrolment rate, upper secondary, male (%)",
         "1.0"
        ],
        [
         "Africa Dataset: Percentage of lower secondary schools with access to electricity (%)",
         "1.0"
        ],
        [
         "Africa Dataset: Percentage of lower secondary schools with access to potable water (%)",
         "1.0"
        ],
        [
         "Africa Dataset: Percentage of lower secondary schools with mixed-sex toilets (%)",
         "0.8333333333333334"
        ],
        [
         "Africa Dataset: Percentage of lower secondary schools with no information on electricity (%)",
         "0.6666666666666666"
        ],
        [
         "Africa Dataset: Percentage of lower secondary schools with no information on potable water (%)",
         "0.6666666666666666"
        ],
        [
         "Africa Dataset: Percentage of lower secondary schools with no information on toilets (%)",
         "0.5"
        ],
        [
         "Africa Dataset: Percentage of lower secondary schools with single-sex toilets (%)",
         "0.8333333333333334"
        ],
        [
         "Africa Dataset: Percentage of lower secondary schools with toilets (%)",
         "0.8333333333333334"
        ],
        [
         "Africa Dataset: Percentage of lower secondary schools without access to electricity (%)",
         "1.0"
        ],
        [
         "Africa Dataset: Percentage of lower secondary schools without access to potable water (%)",
         "1.0"
        ],
        [
         "Africa Dataset: Percentage of lower secondary schools without toilets (%)",
         "0.8333333333333334"
        ],
        [
         "Cumulative drop-out rate to the last grade of lower secondary general education, both sexes (%)",
         "1.0"
        ],
        [
         "Cumulative drop-out rate to the last grade of lower secondary general education, female (%)",
         "1.0"
        ],
        [
         "Cumulative drop-out rate to the last grade of lower secondary general education, male (%)",
         "1.0"
        ],
        [
         "Drop-out rate from Grade 1 of lower secondary general education, both sexes (%)",
         "1.0"
        ],
        [
         "Drop-out rate from Grade 1 of lower secondary general education, female (%)",
         "1.0"
        ],
        [
         "Drop-out rate from Grade 1 of lower secondary general education, male (%)",
         "1.0"
        ],
        [
         "Drop-out rate from Grade 2 of lower secondary general education, both sexes (%)",
         "1.0"
        ],
        [
         "Drop-out rate from Grade 2 of lower secondary general education, female (%)",
         "1.0"
        ],
        [
         "Drop-out rate from Grade 2 of lower secondary general education, male (%)",
         "1.0"
        ],
        [
         "Drop-out rate from Grade 3 of lower secondary general education, both sexes (%)",
         "1.0"
        ],
        [
         "Drop-out rate from Grade 3 of lower secondary general education, female (%)",
         "1.0"
        ],
        [
         "Drop-out rate from Grade 3 of lower secondary general education, male (%)",
         "1.0"
        ],
        [
         "Drop-out rate from Grade 4 of lower secondary general education, both sexes (%)",
         "1.0"
        ],
        [
         "Drop-out rate from Grade 4 of lower secondary general education, female (%)",
         "1.0"
        ],
        [
         "Drop-out rate from Grade 4 of lower secondary general education, male (%)",
         "1.0"
        ],
        [
         "Drop-out rate from Grade 5 of lower secondary general education, both sexes (%)",
         "1.0"
        ],
        [
         "Drop-out rate from Grade 5 of lower secondary general education, female (%)",
         "1.0"
        ],
        [
         "Drop-out rate from Grade 5 of lower secondary general education, male (%)",
         "1.0"
        ],
        [
         "Effective transition rate from primary to lower secondary general education, both sexes (%)",
         "1.0"
        ],
        [
         "Effective transition rate from primary to lower secondary general education, female (%)",
         "1.0"
        ],
        [
         "Effective transition rate from primary to lower secondary general education, male (%)",
         "1.0"
        ],
        [
         "Enrolment in Grade 1 of lower secondary general education, both sexes (number)",
         "1.0"
        ],
        [
         "Enrolment in Grade 1 of lower secondary general education, female (number)",
         "1.0"
        ],
        [
         "Enrolment in Grade 2 of lower secondary general education, both sexes (number)",
         "1.0"
        ],
        [
         "Enrolment in Grade 2 of lower secondary general education, female (number)",
         "1.0"
        ],
        [
         "Enrolment in Grade 3 of lower secondary general education, both sexes (number)",
         "1.0"
        ],
        [
         "Enrolment in Grade 3 of lower secondary general education, female (number)",
         "1.0"
        ],
        [
         "Enrolment in Grade 4 of lower secondary general education, both sexes (number)",
         "1.0"
        ],
        [
         "Enrolment in Grade 4 of lower secondary general education, female (number)",
         "1.0"
        ],
        [
         "Enrolment in Grade 5 of lower secondary general education, both sexes (number)",
         "1.0"
        ],
        [
         "Enrolment in Grade 5 of lower secondary general education, female (number)",
         "1.0"
        ]
       ],
       "shape": {
        "columns": 1,
        "rows": 423
       }
      },
      "text/plain": [
       "Indicator Name\n",
       "Adjusted net enrolment rate, lower secondary, both sexes (%)               1.0\n",
       "Adjusted net enrolment rate, lower secondary, female (%)                   1.0\n",
       "Adjusted net enrolment rate, lower secondary, gender parity index (GPI)    1.0\n",
       "Adjusted net enrolment rate, lower secondary, male (%)                     1.0\n",
       "Adjusted net enrolment rate, upper secondary, both sexes (%)               1.0\n",
       "                                                                          ... \n",
       "Total net enrolment rate, lower secondary, gender parity index (GPI)       1.0\n",
       "Total net enrolment rate, lower secondary, male (%)                        1.0\n",
       "Under-age enrolment ratio in secondary education, both sexes (%)           1.0\n",
       "Under-age enrolment ratio in secondary education, female (%)               1.0\n",
       "Under-age enrolment ratio in secondary education, male (%)                 1.0\n",
       "Length: 423, dtype: float64"
      ]
     },
     "execution_count": 117,
     "metadata": {},
     "output_type": "execute_result"
    }
   ],
   "source": [
    "df_data_filtered.groupby('Indicator Name')[year_columns].apply(lambda x: x.notnull().any().sum())/len(year_columns)"
   ]
  },
  {
   "cell_type": "markdown",
   "id": "0a05d5f9",
   "metadata": {},
   "source": [
    "Ainsi, tous les indicateurs sélectionnés contiennent des valeurs manquantes."
   ]
  },
  {
   "cell_type": "markdown",
   "id": "443cc8a7",
   "metadata": {},
   "source": [
    "Nous allons maintenant utiliser **pivot_table** afin d'obtenir un Dataframe dont chaque ligne correspond à un indicateur, chaque colonne à une année et la valeur des cellules au nombre de valeurs renseignées. De plus, nous ajoutons une colonne \"Total\" qui est la somme du nombre de valeurs renseignées sur les années.\n",
    "\n",
    "Ceci nous permettra de réduire encore le périmètre des indicateurs en sélectionnant ceux qui sont les plus fournies."
   ]
  },
  {
   "cell_type": "code",
   "execution_count": 118,
   "id": "a50e965c",
   "metadata": {},
   "outputs": [],
   "source": [
    "df_indicateur_annees = df_data_filtered.pivot_table(index='Indicator Name', values=year_columns, aggfunc=lambda x: x.notna().sum(), fill_value=0)\n",
    "\n",
    "df_indicateur_annees['Total'] = df_indicateur_annees.sum(axis=1)"
   ]
  },
  {
   "cell_type": "code",
   "execution_count": 119,
   "id": "2ae9a7a8",
   "metadata": {},
   "outputs": [
    {
     "data": {
      "application/vnd.microsoft.datawrangler.viewer.v0+json": {
       "columns": [
        {
         "name": "Indicator Name",
         "rawType": "object",
         "type": "string"
        },
        {
         "name": "2008",
         "rawType": "int64",
         "type": "integer"
        },
        {
         "name": "2009",
         "rawType": "int64",
         "type": "integer"
        },
        {
         "name": "2010",
         "rawType": "int64",
         "type": "integer"
        },
        {
         "name": "2011",
         "rawType": "int64",
         "type": "integer"
        },
        {
         "name": "2012",
         "rawType": "int64",
         "type": "integer"
        },
        {
         "name": "2013",
         "rawType": "int64",
         "type": "integer"
        },
        {
         "name": "Total",
         "rawType": "int64",
         "type": "integer"
        }
       ],
       "ref": "d13dc9c1-16c3-4acd-b328-de4480cf4fb1",
       "rows": [
        [
         "Internet users (per 100 people)",
         "228",
         "227",
         "227",
         "229",
         "227",
         "226",
         "1364"
        ],
        [
         "GDP, PPP (current international $)",
         "215",
         "215",
         "215",
         "217",
         "213",
         "213",
         "1288"
        ],
        [
         "GDP, PPP (constant 2011 international $)",
         "215",
         "215",
         "215",
         "217",
         "213",
         "213",
         "1288"
        ],
        [
         "GDP per capita, PPP (constant 2011 international $)",
         "215",
         "215",
         "215",
         "217",
         "213",
         "213",
         "1288"
        ],
        [
         "GDP per capita, PPP (current international $)",
         "215",
         "215",
         "215",
         "217",
         "213",
         "213",
         "1288"
        ],
        [
         "GNI, PPP (current international $)",
         "213",
         "213",
         "213",
         "213",
         "211",
         "211",
         "1274"
        ],
        [
         "GNI per capita, PPP (current international $)",
         "213",
         "213",
         "213",
         "213",
         "211",
         "211",
         "1274"
        ],
        [
         "Official entrance age to lower secondary education (years)",
         "205",
         "205",
         "205",
         "204",
         "204",
         "205",
         "1228"
        ],
        [
         "Theoretical duration of upper secondary education (years)",
         "205",
         "205",
         "205",
         "204",
         "204",
         "205",
         "1228"
        ],
        [
         "Theoretical duration of secondary education (years)",
         "205",
         "205",
         "205",
         "204",
         "204",
         "205",
         "1228"
        ],
        [
         "Gross outbound enrolment ratio, all regions, both sexes (%)",
         "212",
         "212",
         "209",
         "189",
         "174",
         "153",
         "1149"
        ],
        [
         "Enrolment in lower secondary general, both sexes (number)",
         "196",
         "198",
         "186",
         "191",
         "193",
         "182",
         "1146"
        ],
        [
         "Enrolment in lower secondary general, female (number)",
         "196",
         "198",
         "186",
         "191",
         "193",
         "182",
         "1146"
        ],
        [
         "Enrolment in secondary general, both sexes (number)",
         "190",
         "191",
         "182",
         "188",
         "188",
         "181",
         "1120"
        ],
        [
         "Enrolment in secondary general, female (number)",
         "189",
         "191",
         "182",
         "188",
         "188",
         "180",
         "1118"
        ],
        [
         "Percentage of students in secondary general education who are female (%)",
         "189",
         "191",
         "182",
         "188",
         "188",
         "180",
         "1118"
        ],
        [
         "Enrolment in upper secondary general, both sexes (number)",
         "188",
         "190",
         "182",
         "186",
         "185",
         "178",
         "1109"
        ],
        [
         "Enrolment in upper secondary general, female (number)",
         "187",
         "190",
         "182",
         "186",
         "185",
         "178",
         "1108"
        ],
        [
         "Percentage of students in upper secondary general education who are female (%)",
         "187",
         "190",
         "182",
         "186",
         "185",
         "178",
         "1108"
        ],
        [
         "Enrolment in lower secondary education, both sexes (number)",
         "192",
         "192",
         "179",
         "187",
         "183",
         "173",
         "1106"
        ],
        [
         "Percentage of students in lower secondary education who are female (%)",
         "192",
         "192",
         "179",
         "185",
         "182",
         "172",
         "1102"
        ],
        [
         "Enrolment in lower secondary education, female (number)",
         "192",
         "192",
         "179",
         "185",
         "182",
         "172",
         "1102"
        ],
        [
         "Percentage of students in lower secondary education enrolled in general programmes, both sexes (%)",
         "190",
         "191",
         "176",
         "185",
         "183",
         "172",
         "1097"
        ],
        [
         "Percentage of female students in lower secondary education enrolled in general programmes, female (%)",
         "190",
         "191",
         "176",
         "184",
         "182",
         "172",
         "1095"
        ],
        [
         "Percentage of male students in lower secondary education enrolled in general programmes, male (%)",
         "190",
         "191",
         "176",
         "184",
         "182",
         "172",
         "1095"
        ],
        [
         "Gross enrolment ratio, lower secondary, both sexes (%)",
         "185",
         "188",
         "177",
         "185",
         "183",
         "174",
         "1092"
        ],
        [
         "Gross enrolment ratio, lower secondary, female (%)",
         "185",
         "187",
         "176",
         "182",
         "181",
         "172",
         "1083"
        ],
        [
         "Gross enrolment ratio, lower secondary, male (%)",
         "185",
         "187",
         "176",
         "182",
         "181",
         "172",
         "1083"
        ],
        [
         "Enrolment in secondary education, both sexes (number)",
         "179",
         "178",
         "176",
         "181",
         "175",
         "166",
         "1055"
        ],
        [
         "Gross enrolment ratio, lower secondary, gender parity index (GPI)",
         "183",
         "183",
         "171",
         "178",
         "173",
         "164",
         "1052"
        ],
        [
         "Enrolment in upper secondary education, both sexes (number)",
         "177",
         "177",
         "174",
         "179",
         "177",
         "165",
         "1049"
        ],
        [
         "Percentage of students in secondary education who are female (%)",
         "178",
         "177",
         "176",
         "180",
         "174",
         "163",
         "1048"
        ],
        [
         "Enrolment in secondary education, female (number)",
         "178",
         "177",
         "176",
         "180",
         "174",
         "163",
         "1048"
        ],
        [
         "Enrolment in upper secondary education, female (number)",
         "176",
         "176",
         "174",
         "177",
         "176",
         "165",
         "1044"
        ],
        [
         "Percentage of students in upper secondary education who are female (%)",
         "176",
         "176",
         "174",
         "177",
         "176",
         "164",
         "1043"
        ],
        [
         "Gross enrolment ratio, primary and lower secondary, both sexes (%)",
         "179",
         "177",
         "166",
         "175",
         "169",
         "158",
         "1024"
        ],
        [
         "School life expectancy, primary and lower secondary, both sexes (years)",
         "179",
         "177",
         "166",
         "175",
         "169",
         "158",
         "1024"
        ],
        [
         "Gross enrolment ratio, secondary, both sexes (%)",
         "172",
         "172",
         "171",
         "175",
         "169",
         "160",
         "1019"
        ],
        [
         "Gross enrolment ratio, upper secondary, both sexes (%)",
         "169",
         "170",
         "170",
         "175",
         "171",
         "162",
         "1017"
        ],
        [
         "School life expectancy, primary and lower secondary, male (years)",
         "177",
         "176",
         "164",
         "172",
         "167",
         "155",
         "1011"
        ],
        [
         "Percentage of students in secondary education enrolled in general programmes, both sexes (%)",
         "172",
         "173",
         "168",
         "172",
         "167",
         "159",
         "1011"
        ],
        [
         "Gross enrolment ratio, primary and lower secondary, male (%)",
         "177",
         "176",
         "164",
         "172",
         "167",
         "155",
         "1011"
        ],
        [
         "Gross enrolment ratio, primary and lower secondary, female (%)",
         "177",
         "176",
         "164",
         "172",
         "167",
         "155",
         "1011"
        ],
        [
         "Gross enrolment ratio, primary and lower secondary, gender parity index (GPI)",
         "177",
         "176",
         "164",
         "172",
         "167",
         "155",
         "1011"
        ],
        [
         "School life expectancy, primary and lower secondary, female (years)",
         "177",
         "176",
         "164",
         "172",
         "167",
         "155",
         "1011"
        ],
        [
         "Percentage of students in upper secondary education enrolled in general programmes, both sexes (%)",
         "170",
         "171",
         "167",
         "171",
         "169",
         "161",
         "1009"
        ],
        [
         "Gross enrolment ratio, secondary, female (%)",
         "171",
         "170",
         "170",
         "173",
         "167",
         "156",
         "1007"
        ],
        [
         "Gross enrolment ratio, secondary, gender parity index (GPI)",
         "171",
         "170",
         "170",
         "173",
         "167",
         "156",
         "1007"
        ],
        [
         "Gross enrolment ratio, secondary, male (%)",
         "171",
         "170",
         "170",
         "173",
         "167",
         "156",
         "1007"
        ],
        [
         "Percentage of male students in secondary education enrolled in general programmes, male (%)",
         "171",
         "172",
         "168",
         "171",
         "166",
         "158",
         "1006"
        ]
       ],
       "shape": {
        "columns": 7,
        "rows": 60
       }
      },
      "text/html": [
       "<div>\n",
       "<style scoped>\n",
       "    .dataframe tbody tr th:only-of-type {\n",
       "        vertical-align: middle;\n",
       "    }\n",
       "\n",
       "    .dataframe tbody tr th {\n",
       "        vertical-align: top;\n",
       "    }\n",
       "\n",
       "    .dataframe thead th {\n",
       "        text-align: right;\n",
       "    }\n",
       "</style>\n",
       "<table border=\"1\" class=\"dataframe\">\n",
       "  <thead>\n",
       "    <tr style=\"text-align: right;\">\n",
       "      <th></th>\n",
       "      <th>2008</th>\n",
       "      <th>2009</th>\n",
       "      <th>2010</th>\n",
       "      <th>2011</th>\n",
       "      <th>2012</th>\n",
       "      <th>2013</th>\n",
       "      <th>Total</th>\n",
       "    </tr>\n",
       "    <tr>\n",
       "      <th>Indicator Name</th>\n",
       "      <th></th>\n",
       "      <th></th>\n",
       "      <th></th>\n",
       "      <th></th>\n",
       "      <th></th>\n",
       "      <th></th>\n",
       "      <th></th>\n",
       "    </tr>\n",
       "  </thead>\n",
       "  <tbody>\n",
       "    <tr>\n",
       "      <th>Internet users (per 100 people)</th>\n",
       "      <td>228</td>\n",
       "      <td>227</td>\n",
       "      <td>227</td>\n",
       "      <td>229</td>\n",
       "      <td>227</td>\n",
       "      <td>226</td>\n",
       "      <td>1364</td>\n",
       "    </tr>\n",
       "    <tr>\n",
       "      <th>GDP, PPP (current international $)</th>\n",
       "      <td>215</td>\n",
       "      <td>215</td>\n",
       "      <td>215</td>\n",
       "      <td>217</td>\n",
       "      <td>213</td>\n",
       "      <td>213</td>\n",
       "      <td>1288</td>\n",
       "    </tr>\n",
       "    <tr>\n",
       "      <th>GDP, PPP (constant 2011 international $)</th>\n",
       "      <td>215</td>\n",
       "      <td>215</td>\n",
       "      <td>215</td>\n",
       "      <td>217</td>\n",
       "      <td>213</td>\n",
       "      <td>213</td>\n",
       "      <td>1288</td>\n",
       "    </tr>\n",
       "    <tr>\n",
       "      <th>GDP per capita, PPP (constant 2011 international $)</th>\n",
       "      <td>215</td>\n",
       "      <td>215</td>\n",
       "      <td>215</td>\n",
       "      <td>217</td>\n",
       "      <td>213</td>\n",
       "      <td>213</td>\n",
       "      <td>1288</td>\n",
       "    </tr>\n",
       "    <tr>\n",
       "      <th>GDP per capita, PPP (current international $)</th>\n",
       "      <td>215</td>\n",
       "      <td>215</td>\n",
       "      <td>215</td>\n",
       "      <td>217</td>\n",
       "      <td>213</td>\n",
       "      <td>213</td>\n",
       "      <td>1288</td>\n",
       "    </tr>\n",
       "    <tr>\n",
       "      <th>GNI, PPP (current international $)</th>\n",
       "      <td>213</td>\n",
       "      <td>213</td>\n",
       "      <td>213</td>\n",
       "      <td>213</td>\n",
       "      <td>211</td>\n",
       "      <td>211</td>\n",
       "      <td>1274</td>\n",
       "    </tr>\n",
       "    <tr>\n",
       "      <th>GNI per capita, PPP (current international $)</th>\n",
       "      <td>213</td>\n",
       "      <td>213</td>\n",
       "      <td>213</td>\n",
       "      <td>213</td>\n",
       "      <td>211</td>\n",
       "      <td>211</td>\n",
       "      <td>1274</td>\n",
       "    </tr>\n",
       "    <tr>\n",
       "      <th>Official entrance age to lower secondary education (years)</th>\n",
       "      <td>205</td>\n",
       "      <td>205</td>\n",
       "      <td>205</td>\n",
       "      <td>204</td>\n",
       "      <td>204</td>\n",
       "      <td>205</td>\n",
       "      <td>1228</td>\n",
       "    </tr>\n",
       "    <tr>\n",
       "      <th>Theoretical duration of upper secondary education (years)</th>\n",
       "      <td>205</td>\n",
       "      <td>205</td>\n",
       "      <td>205</td>\n",
       "      <td>204</td>\n",
       "      <td>204</td>\n",
       "      <td>205</td>\n",
       "      <td>1228</td>\n",
       "    </tr>\n",
       "    <tr>\n",
       "      <th>Theoretical duration of secondary education (years)</th>\n",
       "      <td>205</td>\n",
       "      <td>205</td>\n",
       "      <td>205</td>\n",
       "      <td>204</td>\n",
       "      <td>204</td>\n",
       "      <td>205</td>\n",
       "      <td>1228</td>\n",
       "    </tr>\n",
       "    <tr>\n",
       "      <th>Gross outbound enrolment ratio, all regions, both sexes (%)</th>\n",
       "      <td>212</td>\n",
       "      <td>212</td>\n",
       "      <td>209</td>\n",
       "      <td>189</td>\n",
       "      <td>174</td>\n",
       "      <td>153</td>\n",
       "      <td>1149</td>\n",
       "    </tr>\n",
       "    <tr>\n",
       "      <th>Enrolment in lower secondary general, both sexes (number)</th>\n",
       "      <td>196</td>\n",
       "      <td>198</td>\n",
       "      <td>186</td>\n",
       "      <td>191</td>\n",
       "      <td>193</td>\n",
       "      <td>182</td>\n",
       "      <td>1146</td>\n",
       "    </tr>\n",
       "    <tr>\n",
       "      <th>Enrolment in lower secondary general, female (number)</th>\n",
       "      <td>196</td>\n",
       "      <td>198</td>\n",
       "      <td>186</td>\n",
       "      <td>191</td>\n",
       "      <td>193</td>\n",
       "      <td>182</td>\n",
       "      <td>1146</td>\n",
       "    </tr>\n",
       "    <tr>\n",
       "      <th>Enrolment in secondary general, both sexes (number)</th>\n",
       "      <td>190</td>\n",
       "      <td>191</td>\n",
       "      <td>182</td>\n",
       "      <td>188</td>\n",
       "      <td>188</td>\n",
       "      <td>181</td>\n",
       "      <td>1120</td>\n",
       "    </tr>\n",
       "    <tr>\n",
       "      <th>Enrolment in secondary general, female (number)</th>\n",
       "      <td>189</td>\n",
       "      <td>191</td>\n",
       "      <td>182</td>\n",
       "      <td>188</td>\n",
       "      <td>188</td>\n",
       "      <td>180</td>\n",
       "      <td>1118</td>\n",
       "    </tr>\n",
       "    <tr>\n",
       "      <th>Percentage of students in secondary general education who are female (%)</th>\n",
       "      <td>189</td>\n",
       "      <td>191</td>\n",
       "      <td>182</td>\n",
       "      <td>188</td>\n",
       "      <td>188</td>\n",
       "      <td>180</td>\n",
       "      <td>1118</td>\n",
       "    </tr>\n",
       "    <tr>\n",
       "      <th>Enrolment in upper secondary general, both sexes (number)</th>\n",
       "      <td>188</td>\n",
       "      <td>190</td>\n",
       "      <td>182</td>\n",
       "      <td>186</td>\n",
       "      <td>185</td>\n",
       "      <td>178</td>\n",
       "      <td>1109</td>\n",
       "    </tr>\n",
       "    <tr>\n",
       "      <th>Enrolment in upper secondary general, female (number)</th>\n",
       "      <td>187</td>\n",
       "      <td>190</td>\n",
       "      <td>182</td>\n",
       "      <td>186</td>\n",
       "      <td>185</td>\n",
       "      <td>178</td>\n",
       "      <td>1108</td>\n",
       "    </tr>\n",
       "    <tr>\n",
       "      <th>Percentage of students in upper secondary general education who are female (%)</th>\n",
       "      <td>187</td>\n",
       "      <td>190</td>\n",
       "      <td>182</td>\n",
       "      <td>186</td>\n",
       "      <td>185</td>\n",
       "      <td>178</td>\n",
       "      <td>1108</td>\n",
       "    </tr>\n",
       "    <tr>\n",
       "      <th>Enrolment in lower secondary education, both sexes (number)</th>\n",
       "      <td>192</td>\n",
       "      <td>192</td>\n",
       "      <td>179</td>\n",
       "      <td>187</td>\n",
       "      <td>183</td>\n",
       "      <td>173</td>\n",
       "      <td>1106</td>\n",
       "    </tr>\n",
       "    <tr>\n",
       "      <th>Percentage of students in lower secondary education who are female (%)</th>\n",
       "      <td>192</td>\n",
       "      <td>192</td>\n",
       "      <td>179</td>\n",
       "      <td>185</td>\n",
       "      <td>182</td>\n",
       "      <td>172</td>\n",
       "      <td>1102</td>\n",
       "    </tr>\n",
       "    <tr>\n",
       "      <th>Enrolment in lower secondary education, female (number)</th>\n",
       "      <td>192</td>\n",
       "      <td>192</td>\n",
       "      <td>179</td>\n",
       "      <td>185</td>\n",
       "      <td>182</td>\n",
       "      <td>172</td>\n",
       "      <td>1102</td>\n",
       "    </tr>\n",
       "    <tr>\n",
       "      <th>Percentage of students in lower secondary education enrolled in general programmes, both sexes (%)</th>\n",
       "      <td>190</td>\n",
       "      <td>191</td>\n",
       "      <td>176</td>\n",
       "      <td>185</td>\n",
       "      <td>183</td>\n",
       "      <td>172</td>\n",
       "      <td>1097</td>\n",
       "    </tr>\n",
       "    <tr>\n",
       "      <th>Percentage of female students in lower secondary education enrolled in general programmes, female (%)</th>\n",
       "      <td>190</td>\n",
       "      <td>191</td>\n",
       "      <td>176</td>\n",
       "      <td>184</td>\n",
       "      <td>182</td>\n",
       "      <td>172</td>\n",
       "      <td>1095</td>\n",
       "    </tr>\n",
       "    <tr>\n",
       "      <th>Percentage of male students in lower secondary education enrolled in general programmes, male (%)</th>\n",
       "      <td>190</td>\n",
       "      <td>191</td>\n",
       "      <td>176</td>\n",
       "      <td>184</td>\n",
       "      <td>182</td>\n",
       "      <td>172</td>\n",
       "      <td>1095</td>\n",
       "    </tr>\n",
       "    <tr>\n",
       "      <th>Gross enrolment ratio, lower secondary, both sexes (%)</th>\n",
       "      <td>185</td>\n",
       "      <td>188</td>\n",
       "      <td>177</td>\n",
       "      <td>185</td>\n",
       "      <td>183</td>\n",
       "      <td>174</td>\n",
       "      <td>1092</td>\n",
       "    </tr>\n",
       "    <tr>\n",
       "      <th>Gross enrolment ratio, lower secondary, female (%)</th>\n",
       "      <td>185</td>\n",
       "      <td>187</td>\n",
       "      <td>176</td>\n",
       "      <td>182</td>\n",
       "      <td>181</td>\n",
       "      <td>172</td>\n",
       "      <td>1083</td>\n",
       "    </tr>\n",
       "    <tr>\n",
       "      <th>Gross enrolment ratio, lower secondary, male (%)</th>\n",
       "      <td>185</td>\n",
       "      <td>187</td>\n",
       "      <td>176</td>\n",
       "      <td>182</td>\n",
       "      <td>181</td>\n",
       "      <td>172</td>\n",
       "      <td>1083</td>\n",
       "    </tr>\n",
       "    <tr>\n",
       "      <th>Enrolment in secondary education, both sexes (number)</th>\n",
       "      <td>179</td>\n",
       "      <td>178</td>\n",
       "      <td>176</td>\n",
       "      <td>181</td>\n",
       "      <td>175</td>\n",
       "      <td>166</td>\n",
       "      <td>1055</td>\n",
       "    </tr>\n",
       "    <tr>\n",
       "      <th>Gross enrolment ratio, lower secondary, gender parity index (GPI)</th>\n",
       "      <td>183</td>\n",
       "      <td>183</td>\n",
       "      <td>171</td>\n",
       "      <td>178</td>\n",
       "      <td>173</td>\n",
       "      <td>164</td>\n",
       "      <td>1052</td>\n",
       "    </tr>\n",
       "    <tr>\n",
       "      <th>Enrolment in upper secondary education, both sexes (number)</th>\n",
       "      <td>177</td>\n",
       "      <td>177</td>\n",
       "      <td>174</td>\n",
       "      <td>179</td>\n",
       "      <td>177</td>\n",
       "      <td>165</td>\n",
       "      <td>1049</td>\n",
       "    </tr>\n",
       "    <tr>\n",
       "      <th>Percentage of students in secondary education who are female (%)</th>\n",
       "      <td>178</td>\n",
       "      <td>177</td>\n",
       "      <td>176</td>\n",
       "      <td>180</td>\n",
       "      <td>174</td>\n",
       "      <td>163</td>\n",
       "      <td>1048</td>\n",
       "    </tr>\n",
       "    <tr>\n",
       "      <th>Enrolment in secondary education, female (number)</th>\n",
       "      <td>178</td>\n",
       "      <td>177</td>\n",
       "      <td>176</td>\n",
       "      <td>180</td>\n",
       "      <td>174</td>\n",
       "      <td>163</td>\n",
       "      <td>1048</td>\n",
       "    </tr>\n",
       "    <tr>\n",
       "      <th>Enrolment in upper secondary education, female (number)</th>\n",
       "      <td>176</td>\n",
       "      <td>176</td>\n",
       "      <td>174</td>\n",
       "      <td>177</td>\n",
       "      <td>176</td>\n",
       "      <td>165</td>\n",
       "      <td>1044</td>\n",
       "    </tr>\n",
       "    <tr>\n",
       "      <th>Percentage of students in upper secondary education who are female (%)</th>\n",
       "      <td>176</td>\n",
       "      <td>176</td>\n",
       "      <td>174</td>\n",
       "      <td>177</td>\n",
       "      <td>176</td>\n",
       "      <td>164</td>\n",
       "      <td>1043</td>\n",
       "    </tr>\n",
       "    <tr>\n",
       "      <th>Gross enrolment ratio, primary and lower secondary, both sexes (%)</th>\n",
       "      <td>179</td>\n",
       "      <td>177</td>\n",
       "      <td>166</td>\n",
       "      <td>175</td>\n",
       "      <td>169</td>\n",
       "      <td>158</td>\n",
       "      <td>1024</td>\n",
       "    </tr>\n",
       "    <tr>\n",
       "      <th>School life expectancy, primary and lower secondary, both sexes (years)</th>\n",
       "      <td>179</td>\n",
       "      <td>177</td>\n",
       "      <td>166</td>\n",
       "      <td>175</td>\n",
       "      <td>169</td>\n",
       "      <td>158</td>\n",
       "      <td>1024</td>\n",
       "    </tr>\n",
       "    <tr>\n",
       "      <th>Gross enrolment ratio, secondary, both sexes (%)</th>\n",
       "      <td>172</td>\n",
       "      <td>172</td>\n",
       "      <td>171</td>\n",
       "      <td>175</td>\n",
       "      <td>169</td>\n",
       "      <td>160</td>\n",
       "      <td>1019</td>\n",
       "    </tr>\n",
       "    <tr>\n",
       "      <th>Gross enrolment ratio, upper secondary, both sexes (%)</th>\n",
       "      <td>169</td>\n",
       "      <td>170</td>\n",
       "      <td>170</td>\n",
       "      <td>175</td>\n",
       "      <td>171</td>\n",
       "      <td>162</td>\n",
       "      <td>1017</td>\n",
       "    </tr>\n",
       "    <tr>\n",
       "      <th>School life expectancy, primary and lower secondary, male (years)</th>\n",
       "      <td>177</td>\n",
       "      <td>176</td>\n",
       "      <td>164</td>\n",
       "      <td>172</td>\n",
       "      <td>167</td>\n",
       "      <td>155</td>\n",
       "      <td>1011</td>\n",
       "    </tr>\n",
       "    <tr>\n",
       "      <th>Percentage of students in secondary education enrolled in general programmes, both sexes (%)</th>\n",
       "      <td>172</td>\n",
       "      <td>173</td>\n",
       "      <td>168</td>\n",
       "      <td>172</td>\n",
       "      <td>167</td>\n",
       "      <td>159</td>\n",
       "      <td>1011</td>\n",
       "    </tr>\n",
       "    <tr>\n",
       "      <th>Gross enrolment ratio, primary and lower secondary, male (%)</th>\n",
       "      <td>177</td>\n",
       "      <td>176</td>\n",
       "      <td>164</td>\n",
       "      <td>172</td>\n",
       "      <td>167</td>\n",
       "      <td>155</td>\n",
       "      <td>1011</td>\n",
       "    </tr>\n",
       "    <tr>\n",
       "      <th>Gross enrolment ratio, primary and lower secondary, female (%)</th>\n",
       "      <td>177</td>\n",
       "      <td>176</td>\n",
       "      <td>164</td>\n",
       "      <td>172</td>\n",
       "      <td>167</td>\n",
       "      <td>155</td>\n",
       "      <td>1011</td>\n",
       "    </tr>\n",
       "    <tr>\n",
       "      <th>Gross enrolment ratio, primary and lower secondary, gender parity index (GPI)</th>\n",
       "      <td>177</td>\n",
       "      <td>176</td>\n",
       "      <td>164</td>\n",
       "      <td>172</td>\n",
       "      <td>167</td>\n",
       "      <td>155</td>\n",
       "      <td>1011</td>\n",
       "    </tr>\n",
       "    <tr>\n",
       "      <th>School life expectancy, primary and lower secondary, female (years)</th>\n",
       "      <td>177</td>\n",
       "      <td>176</td>\n",
       "      <td>164</td>\n",
       "      <td>172</td>\n",
       "      <td>167</td>\n",
       "      <td>155</td>\n",
       "      <td>1011</td>\n",
       "    </tr>\n",
       "    <tr>\n",
       "      <th>Percentage of students in upper secondary education enrolled in general programmes, both sexes (%)</th>\n",
       "      <td>170</td>\n",
       "      <td>171</td>\n",
       "      <td>167</td>\n",
       "      <td>171</td>\n",
       "      <td>169</td>\n",
       "      <td>161</td>\n",
       "      <td>1009</td>\n",
       "    </tr>\n",
       "    <tr>\n",
       "      <th>Gross enrolment ratio, secondary, female (%)</th>\n",
       "      <td>171</td>\n",
       "      <td>170</td>\n",
       "      <td>170</td>\n",
       "      <td>173</td>\n",
       "      <td>167</td>\n",
       "      <td>156</td>\n",
       "      <td>1007</td>\n",
       "    </tr>\n",
       "    <tr>\n",
       "      <th>Gross enrolment ratio, secondary, gender parity index (GPI)</th>\n",
       "      <td>171</td>\n",
       "      <td>170</td>\n",
       "      <td>170</td>\n",
       "      <td>173</td>\n",
       "      <td>167</td>\n",
       "      <td>156</td>\n",
       "      <td>1007</td>\n",
       "    </tr>\n",
       "    <tr>\n",
       "      <th>Gross enrolment ratio, secondary, male (%)</th>\n",
       "      <td>171</td>\n",
       "      <td>170</td>\n",
       "      <td>170</td>\n",
       "      <td>173</td>\n",
       "      <td>167</td>\n",
       "      <td>156</td>\n",
       "      <td>1007</td>\n",
       "    </tr>\n",
       "    <tr>\n",
       "      <th>Percentage of male students in secondary education enrolled in general programmes, male (%)</th>\n",
       "      <td>171</td>\n",
       "      <td>172</td>\n",
       "      <td>168</td>\n",
       "      <td>171</td>\n",
       "      <td>166</td>\n",
       "      <td>158</td>\n",
       "      <td>1006</td>\n",
       "    </tr>\n",
       "    <tr>\n",
       "      <th>Percentage of female students in secondary education enrolled in general programmes, female (%)</th>\n",
       "      <td>171</td>\n",
       "      <td>172</td>\n",
       "      <td>168</td>\n",
       "      <td>171</td>\n",
       "      <td>166</td>\n",
       "      <td>158</td>\n",
       "      <td>1006</td>\n",
       "    </tr>\n",
       "    <tr>\n",
       "      <th>Gross enrolment ratio, upper secondary, male (%)</th>\n",
       "      <td>168</td>\n",
       "      <td>168</td>\n",
       "      <td>169</td>\n",
       "      <td>172</td>\n",
       "      <td>169</td>\n",
       "      <td>159</td>\n",
       "      <td>1005</td>\n",
       "    </tr>\n",
       "    <tr>\n",
       "      <th>Percentage of female students in upper secondary education enrolled in general programmes, female (%)</th>\n",
       "      <td>169</td>\n",
       "      <td>170</td>\n",
       "      <td>167</td>\n",
       "      <td>170</td>\n",
       "      <td>168</td>\n",
       "      <td>160</td>\n",
       "      <td>1004</td>\n",
       "    </tr>\n",
       "    <tr>\n",
       "      <th>Percentage of male students in upper secondary education enrolled in general programmes, male (%)</th>\n",
       "      <td>169</td>\n",
       "      <td>170</td>\n",
       "      <td>167</td>\n",
       "      <td>170</td>\n",
       "      <td>168</td>\n",
       "      <td>160</td>\n",
       "      <td>1004</td>\n",
       "    </tr>\n",
       "    <tr>\n",
       "      <th>Gross enrolment ratio, upper secondary, gender parity index (GPI)</th>\n",
       "      <td>168</td>\n",
       "      <td>168</td>\n",
       "      <td>169</td>\n",
       "      <td>171</td>\n",
       "      <td>168</td>\n",
       "      <td>157</td>\n",
       "      <td>1001</td>\n",
       "    </tr>\n",
       "    <tr>\n",
       "      <th>Percentage of students in lower secondary general education who are female (%)</th>\n",
       "      <td>171</td>\n",
       "      <td>173</td>\n",
       "      <td>161</td>\n",
       "      <td>166</td>\n",
       "      <td>168</td>\n",
       "      <td>157</td>\n",
       "      <td>996</td>\n",
       "    </tr>\n",
       "    <tr>\n",
       "      <th>Gross enrolment ratio, primary and secondary, gender parity index (GPI)</th>\n",
       "      <td>167</td>\n",
       "      <td>166</td>\n",
       "      <td>165</td>\n",
       "      <td>170</td>\n",
       "      <td>164</td>\n",
       "      <td>150</td>\n",
       "      <td>982</td>\n",
       "    </tr>\n",
       "    <tr>\n",
       "      <th>Gross enrolment ratio, primary and secondary, both sexes (%)</th>\n",
       "      <td>169</td>\n",
       "      <td>166</td>\n",
       "      <td>165</td>\n",
       "      <td>170</td>\n",
       "      <td>162</td>\n",
       "      <td>149</td>\n",
       "      <td>981</td>\n",
       "    </tr>\n",
       "    <tr>\n",
       "      <th>School life expectancy, primary and secondary, both sexes (years)</th>\n",
       "      <td>169</td>\n",
       "      <td>166</td>\n",
       "      <td>165</td>\n",
       "      <td>170</td>\n",
       "      <td>162</td>\n",
       "      <td>149</td>\n",
       "      <td>981</td>\n",
       "    </tr>\n",
       "    <tr>\n",
       "      <th>Enrolment in tertiary education, all programmes, both sexes (number)</th>\n",
       "      <td>159</td>\n",
       "      <td>162</td>\n",
       "      <td>165</td>\n",
       "      <td>167</td>\n",
       "      <td>166</td>\n",
       "      <td>156</td>\n",
       "      <td>975</td>\n",
       "    </tr>\n",
       "  </tbody>\n",
       "</table>\n",
       "</div>"
      ],
      "text/plain": [
       "                                                    2008  2009  2010  2011  \\\n",
       "Indicator Name                                                               \n",
       "Internet users (per 100 people)                      228   227   227   229   \n",
       "GDP, PPP (current international $)                   215   215   215   217   \n",
       "GDP, PPP (constant 2011 international $)             215   215   215   217   \n",
       "GDP per capita, PPP (constant 2011 internationa...   215   215   215   217   \n",
       "GDP per capita, PPP (current international $)        215   215   215   217   \n",
       "GNI, PPP (current international $)                   213   213   213   213   \n",
       "GNI per capita, PPP (current international $)        213   213   213   213   \n",
       "Official entrance age to lower secondary educat...   205   205   205   204   \n",
       "Theoretical duration of upper secondary educati...   205   205   205   204   \n",
       "Theoretical duration of secondary education (ye...   205   205   205   204   \n",
       "Gross outbound enrolment ratio, all regions, bo...   212   212   209   189   \n",
       "Enrolment in lower secondary general, both sexe...   196   198   186   191   \n",
       "Enrolment in lower secondary general, female (n...   196   198   186   191   \n",
       "Enrolment in secondary general, both sexes (num...   190   191   182   188   \n",
       "Enrolment in secondary general, female (number)      189   191   182   188   \n",
       "Percentage of students in secondary general edu...   189   191   182   188   \n",
       "Enrolment in upper secondary general, both sexe...   188   190   182   186   \n",
       "Enrolment in upper secondary general, female (n...   187   190   182   186   \n",
       "Percentage of students in upper secondary gener...   187   190   182   186   \n",
       "Enrolment in lower secondary education, both se...   192   192   179   187   \n",
       "Percentage of students in lower secondary educa...   192   192   179   185   \n",
       "Enrolment in lower secondary education, female ...   192   192   179   185   \n",
       "Percentage of students in lower secondary educa...   190   191   176   185   \n",
       "Percentage of female students in lower secondar...   190   191   176   184   \n",
       "Percentage of male students in lower secondary ...   190   191   176   184   \n",
       "Gross enrolment ratio, lower secondary, both se...   185   188   177   185   \n",
       "Gross enrolment ratio, lower secondary, female (%)   185   187   176   182   \n",
       "Gross enrolment ratio, lower secondary, male (%)     185   187   176   182   \n",
       "Enrolment in secondary education, both sexes (n...   179   178   176   181   \n",
       "Gross enrolment ratio, lower secondary, gender ...   183   183   171   178   \n",
       "Enrolment in upper secondary education, both se...   177   177   174   179   \n",
       "Percentage of students in secondary education w...   178   177   176   180   \n",
       "Enrolment in secondary education, female (number)    178   177   176   180   \n",
       "Enrolment in upper secondary education, female ...   176   176   174   177   \n",
       "Percentage of students in upper secondary educa...   176   176   174   177   \n",
       "Gross enrolment ratio, primary and lower second...   179   177   166   175   \n",
       "School life expectancy, primary and lower secon...   179   177   166   175   \n",
       "Gross enrolment ratio, secondary, both sexes (%)     172   172   171   175   \n",
       "Gross enrolment ratio, upper secondary, both se...   169   170   170   175   \n",
       "School life expectancy, primary and lower secon...   177   176   164   172   \n",
       "Percentage of students in secondary education e...   172   173   168   172   \n",
       "Gross enrolment ratio, primary and lower second...   177   176   164   172   \n",
       "Gross enrolment ratio, primary and lower second...   177   176   164   172   \n",
       "Gross enrolment ratio, primary and lower second...   177   176   164   172   \n",
       "School life expectancy, primary and lower secon...   177   176   164   172   \n",
       "Percentage of students in upper secondary educa...   170   171   167   171   \n",
       "Gross enrolment ratio, secondary, female (%)         171   170   170   173   \n",
       "Gross enrolment ratio, secondary, gender parity...   171   170   170   173   \n",
       "Gross enrolment ratio, secondary, male (%)           171   170   170   173   \n",
       "Percentage of male students in secondary educat...   171   172   168   171   \n",
       "Percentage of female students in secondary educ...   171   172   168   171   \n",
       "Gross enrolment ratio, upper secondary, male (%)     168   168   169   172   \n",
       "Percentage of female students in upper secondar...   169   170   167   170   \n",
       "Percentage of male students in upper secondary ...   169   170   167   170   \n",
       "Gross enrolment ratio, upper secondary, gender ...   168   168   169   171   \n",
       "Percentage of students in lower secondary gener...   171   173   161   166   \n",
       "Gross enrolment ratio, primary and secondary, g...   167   166   165   170   \n",
       "Gross enrolment ratio, primary and secondary, b...   169   166   165   170   \n",
       "School life expectancy, primary and secondary, ...   169   166   165   170   \n",
       "Enrolment in tertiary education, all programmes...   159   162   165   167   \n",
       "\n",
       "                                                    2012  2013  Total  \n",
       "Indicator Name                                                         \n",
       "Internet users (per 100 people)                      227   226   1364  \n",
       "GDP, PPP (current international $)                   213   213   1288  \n",
       "GDP, PPP (constant 2011 international $)             213   213   1288  \n",
       "GDP per capita, PPP (constant 2011 internationa...   213   213   1288  \n",
       "GDP per capita, PPP (current international $)        213   213   1288  \n",
       "GNI, PPP (current international $)                   211   211   1274  \n",
       "GNI per capita, PPP (current international $)        211   211   1274  \n",
       "Official entrance age to lower secondary educat...   204   205   1228  \n",
       "Theoretical duration of upper secondary educati...   204   205   1228  \n",
       "Theoretical duration of secondary education (ye...   204   205   1228  \n",
       "Gross outbound enrolment ratio, all regions, bo...   174   153   1149  \n",
       "Enrolment in lower secondary general, both sexe...   193   182   1146  \n",
       "Enrolment in lower secondary general, female (n...   193   182   1146  \n",
       "Enrolment in secondary general, both sexes (num...   188   181   1120  \n",
       "Enrolment in secondary general, female (number)      188   180   1118  \n",
       "Percentage of students in secondary general edu...   188   180   1118  \n",
       "Enrolment in upper secondary general, both sexe...   185   178   1109  \n",
       "Enrolment in upper secondary general, female (n...   185   178   1108  \n",
       "Percentage of students in upper secondary gener...   185   178   1108  \n",
       "Enrolment in lower secondary education, both se...   183   173   1106  \n",
       "Percentage of students in lower secondary educa...   182   172   1102  \n",
       "Enrolment in lower secondary education, female ...   182   172   1102  \n",
       "Percentage of students in lower secondary educa...   183   172   1097  \n",
       "Percentage of female students in lower secondar...   182   172   1095  \n",
       "Percentage of male students in lower secondary ...   182   172   1095  \n",
       "Gross enrolment ratio, lower secondary, both se...   183   174   1092  \n",
       "Gross enrolment ratio, lower secondary, female (%)   181   172   1083  \n",
       "Gross enrolment ratio, lower secondary, male (%)     181   172   1083  \n",
       "Enrolment in secondary education, both sexes (n...   175   166   1055  \n",
       "Gross enrolment ratio, lower secondary, gender ...   173   164   1052  \n",
       "Enrolment in upper secondary education, both se...   177   165   1049  \n",
       "Percentage of students in secondary education w...   174   163   1048  \n",
       "Enrolment in secondary education, female (number)    174   163   1048  \n",
       "Enrolment in upper secondary education, female ...   176   165   1044  \n",
       "Percentage of students in upper secondary educa...   176   164   1043  \n",
       "Gross enrolment ratio, primary and lower second...   169   158   1024  \n",
       "School life expectancy, primary and lower secon...   169   158   1024  \n",
       "Gross enrolment ratio, secondary, both sexes (%)     169   160   1019  \n",
       "Gross enrolment ratio, upper secondary, both se...   171   162   1017  \n",
       "School life expectancy, primary and lower secon...   167   155   1011  \n",
       "Percentage of students in secondary education e...   167   159   1011  \n",
       "Gross enrolment ratio, primary and lower second...   167   155   1011  \n",
       "Gross enrolment ratio, primary and lower second...   167   155   1011  \n",
       "Gross enrolment ratio, primary and lower second...   167   155   1011  \n",
       "School life expectancy, primary and lower secon...   167   155   1011  \n",
       "Percentage of students in upper secondary educa...   169   161   1009  \n",
       "Gross enrolment ratio, secondary, female (%)         167   156   1007  \n",
       "Gross enrolment ratio, secondary, gender parity...   167   156   1007  \n",
       "Gross enrolment ratio, secondary, male (%)           167   156   1007  \n",
       "Percentage of male students in secondary educat...   166   158   1006  \n",
       "Percentage of female students in secondary educ...   166   158   1006  \n",
       "Gross enrolment ratio, upper secondary, male (%)     169   159   1005  \n",
       "Percentage of female students in upper secondar...   168   160   1004  \n",
       "Percentage of male students in upper secondary ...   168   160   1004  \n",
       "Gross enrolment ratio, upper secondary, gender ...   168   157   1001  \n",
       "Percentage of students in lower secondary gener...   168   157    996  \n",
       "Gross enrolment ratio, primary and secondary, g...   164   150    982  \n",
       "Gross enrolment ratio, primary and secondary, b...   162   149    981  \n",
       "School life expectancy, primary and secondary, ...   162   149    981  \n",
       "Enrolment in tertiary education, all programmes...   166   156    975  "
      ]
     },
     "execution_count": 119,
     "metadata": {},
     "output_type": "execute_result"
    }
   ],
   "source": [
    "df_indicateur_annees.sort_values('Total', ascending=False).head(60)"
   ]
  },
  {
   "cell_type": "markdown",
   "id": "438149e4",
   "metadata": {},
   "source": [
    "Nous gardons une quinzaine d'indicateurs que nous allons mettre dans une liste afin de filtrer le dataframe."
   ]
  },
  {
   "cell_type": "code",
   "execution_count": 120,
   "id": "8d04e796",
   "metadata": {},
   "outputs": [],
   "source": [
    "Liste_Indicateur_Final = ['Internet users (per 100 people)',\n",
    "                          'GDP per capita, PPP (constant 2011 international $)',\n",
    "                          'GNI per capita, PPP (current international $)',\n",
    "                          'Theoretical duration of upper secondary education (years)',\n",
    "                          'Theoretical duration of secondary education (years)',\n",
    "                          'Enrolment in lower secondary general, both sexes (number)',\n",
    "                          'Enrolment in secondary general, both sexes (number)',\n",
    "                          'Enrolment in upper secondary general, both sexes (number)',\n",
    "                          'Enrolment in lower secondary education, both sexes (number)',\n",
    "                          'Enrolment in secondary education, both sexes (number)',\n",
    "                          'Enrolment in upper secondary education, both sexes (number)',\n",
    "                          'Enrolment in tertiary education, all programmes, both sexes (number)',\n",
    "                          'Gross enrolment ratio, lower secondary, both sexes (%)',\n",
    "                          'Gross enrolment ratio, upper secondary, both sexes (%)',\n",
    "                          'Gross enrolment ratio, secondary, both sexes (%)'\n",
    "                          ]"
   ]
  },
  {
   "cell_type": "code",
   "execution_count": 121,
   "id": "bc97d54d",
   "metadata": {},
   "outputs": [],
   "source": [
    "df_data_filtered = df_data_filtered[df_data_filtered['Indicator Name'].isin(Liste_Indicateur_Final)]"
   ]
  },
  {
   "cell_type": "code",
   "execution_count": 122,
   "id": "3affc331",
   "metadata": {},
   "outputs": [
    {
     "name": "stdout",
     "output_type": "stream",
     "text": [
      "<class 'pandas.core.frame.DataFrame'>\n",
      "Index: 3630 entries, 1159 to 886252\n",
      "Data columns (total 10 columns):\n",
      " #   Column          Non-Null Count  Dtype  \n",
      "---  ------          --------------  -----  \n",
      " 0   Country Name    3630 non-null   object \n",
      " 1   Country Code    3630 non-null   object \n",
      " 2   Indicator Name  3630 non-null   object \n",
      " 3   Indicator Code  3630 non-null   object \n",
      " 4   2008            2873 non-null   float64\n",
      " 5   2009            2883 non-null   float64\n",
      " 6   2010            2827 non-null   float64\n",
      " 7   2011            2881 non-null   float64\n",
      " 8   2012            2849 non-null   float64\n",
      " 9   2013            2757 non-null   float64\n",
      "dtypes: float64(6), object(4)\n",
      "memory usage: 312.0+ KB\n"
     ]
    }
   ],
   "source": [
    "df_data_filtered.info()"
   ]
  },
  {
   "cell_type": "markdown",
   "id": "1f70e803",
   "metadata": {},
   "source": [
    "Après avoir filtrer les indicateurs, notre dataframe \"Data\" contient maintenant **3630 lignes**."
   ]
  },
  {
   "cell_type": "markdown",
   "id": "63e25270",
   "metadata": {},
   "source": [
    "Pour procéder à l'analyse statistiques et proposer des stratégies business, nous avons besoin d'avoir un dataframe avec, une ligne par pays et chaque colonne correspond à un indicateur sélectionné. La valeur des cellules est la moyenne des indicateurs sur les années sélectionnées."
   ]
  },
  {
   "cell_type": "code",
   "execution_count": 123,
   "id": "6f369808",
   "metadata": {},
   "outputs": [],
   "source": [
    "df_indicateur_pays = pd.melt(df_data_filtered,\n",
    "                             id_vars=['Country Name', 'Indicator Name'],\n",
    "                             value_vars=['2008', '2009', '2010', '2011', '2012', '2013'],\n",
    "                             var_name='Year',\n",
    "                             value_name='Value')\n",
    "\n",
    "df_indicateur_pays = df_indicateur_pays.pivot_table(index='Country Name',\n",
    "                                                    columns='Indicator Name',\n",
    "                                                    values='Value',\n",
    "                                                    aggfunc='mean')"
   ]
  },
  {
   "cell_type": "code",
   "execution_count": 124,
   "id": "0a994fb9",
   "metadata": {},
   "outputs": [
    {
     "data": {
      "application/vnd.microsoft.datawrangler.viewer.v0+json": {
       "columns": [
        {
         "name": "Country Name",
         "rawType": "object",
         "type": "string"
        },
        {
         "name": "Enrolment in lower secondary education, both sexes (number)",
         "rawType": "float64",
         "type": "float"
        },
        {
         "name": "Enrolment in lower secondary general, both sexes (number)",
         "rawType": "float64",
         "type": "float"
        },
        {
         "name": "Enrolment in secondary education, both sexes (number)",
         "rawType": "float64",
         "type": "float"
        },
        {
         "name": "Enrolment in secondary general, both sexes (number)",
         "rawType": "float64",
         "type": "float"
        },
        {
         "name": "Enrolment in tertiary education, all programmes, both sexes (number)",
         "rawType": "float64",
         "type": "float"
        },
        {
         "name": "Enrolment in upper secondary education, both sexes (number)",
         "rawType": "float64",
         "type": "float"
        },
        {
         "name": "Enrolment in upper secondary general, both sexes (number)",
         "rawType": "float64",
         "type": "float"
        },
        {
         "name": "GDP per capita, PPP (constant 2011 international $)",
         "rawType": "float64",
         "type": "float"
        },
        {
         "name": "GNI per capita, PPP (current international $)",
         "rawType": "float64",
         "type": "float"
        },
        {
         "name": "Gross enrolment ratio, lower secondary, both sexes (%)",
         "rawType": "float64",
         "type": "float"
        },
        {
         "name": "Gross enrolment ratio, secondary, both sexes (%)",
         "rawType": "float64",
         "type": "float"
        },
        {
         "name": "Gross enrolment ratio, upper secondary, both sexes (%)",
         "rawType": "float64",
         "type": "float"
        },
        {
         "name": "Internet users (per 100 people)",
         "rawType": "float64",
         "type": "float"
        },
        {
         "name": "Theoretical duration of secondary education (years)",
         "rawType": "float64",
         "type": "float"
        },
        {
         "name": "Theoretical duration of upper secondary education (years)",
         "rawType": "float64",
         "type": "float"
        }
       ],
       "ref": "9356c652-01c0-4c67-848e-992c450552d8",
       "rows": [
        [
         "Afghanistan",
         "1397166.1666666667",
         "1397166.1666666667",
         "2058103.8333333333",
         "2038955.6666666667",
         "96344.5",
         "660937.6666666666",
         "641789.5",
         "1626.2902356073384",
         "1635.0",
         "65.40892155965166",
         "51.364192326863616",
         "35.11312166849772",
         "4.290757575833333",
         "6.0",
         "3.0"
        ],
        [
         "Albania",
         "210005.0",
         "210005.0",
         "361300.5",
         "339053.6666666667",
         "129136.0",
         "151295.5",
         "129048.66666666667",
         "9945.93990260537",
         "9628.333333333334",
         "96.08257929484051",
         "89.48187637329102",
         "81.89989344278969",
         "45.152659840000005",
         "7.166666666666667",
         "3.1666666666666665"
        ],
        [
         "Algeria",
         "3233829.5",
         "2899988.0",
         "4437360.25",
         "4078202.8333333335",
         "1189070.0",
         "1203530.75",
         "1178214.8333333333",
         "12930.744735506634",
         "12701.666666666666",
         "123.15429496765151",
         "91.71449851989745",
         "54.44758033752443",
         "14.918333333333331",
         "7.0",
         "3.0"
        ],
        [
         "Andorra",
         "2900.1666666666665",
         "2900.1666666666665",
         "4071.6666666666665",
         "3746.0",
         "496.0",
         "1171.5",
         "845.8333333333334",
         null,
         null,
         null,
         null,
         null,
         "81.83407077",
         "6.0",
         "2.0"
        ],
        [
         "Angola",
         "502578.25",
         "369662.25",
         "773182.0",
         "443577.25",
         "180738.5",
         "270603.75",
         "73915.0",
         "5979.401191951932",
         "5338.333333333333",
         "32.565109729766824",
         "26.556767463684075",
         "19.788485050201423",
         "4.25",
         "6.0",
         "3.0"
        ]
       ],
       "shape": {
        "columns": 15,
        "rows": 5
       }
      },
      "text/html": [
       "<div>\n",
       "<style scoped>\n",
       "    .dataframe tbody tr th:only-of-type {\n",
       "        vertical-align: middle;\n",
       "    }\n",
       "\n",
       "    .dataframe tbody tr th {\n",
       "        vertical-align: top;\n",
       "    }\n",
       "\n",
       "    .dataframe thead th {\n",
       "        text-align: right;\n",
       "    }\n",
       "</style>\n",
       "<table border=\"1\" class=\"dataframe\">\n",
       "  <thead>\n",
       "    <tr style=\"text-align: right;\">\n",
       "      <th>Indicator Name</th>\n",
       "      <th>Enrolment in lower secondary education, both sexes (number)</th>\n",
       "      <th>Enrolment in lower secondary general, both sexes (number)</th>\n",
       "      <th>Enrolment in secondary education, both sexes (number)</th>\n",
       "      <th>Enrolment in secondary general, both sexes (number)</th>\n",
       "      <th>Enrolment in tertiary education, all programmes, both sexes (number)</th>\n",
       "      <th>Enrolment in upper secondary education, both sexes (number)</th>\n",
       "      <th>Enrolment in upper secondary general, both sexes (number)</th>\n",
       "      <th>GDP per capita, PPP (constant 2011 international $)</th>\n",
       "      <th>GNI per capita, PPP (current international $)</th>\n",
       "      <th>Gross enrolment ratio, lower secondary, both sexes (%)</th>\n",
       "      <th>Gross enrolment ratio, secondary, both sexes (%)</th>\n",
       "      <th>Gross enrolment ratio, upper secondary, both sexes (%)</th>\n",
       "      <th>Internet users (per 100 people)</th>\n",
       "      <th>Theoretical duration of secondary education (years)</th>\n",
       "      <th>Theoretical duration of upper secondary education (years)</th>\n",
       "    </tr>\n",
       "    <tr>\n",
       "      <th>Country Name</th>\n",
       "      <th></th>\n",
       "      <th></th>\n",
       "      <th></th>\n",
       "      <th></th>\n",
       "      <th></th>\n",
       "      <th></th>\n",
       "      <th></th>\n",
       "      <th></th>\n",
       "      <th></th>\n",
       "      <th></th>\n",
       "      <th></th>\n",
       "      <th></th>\n",
       "      <th></th>\n",
       "      <th></th>\n",
       "      <th></th>\n",
       "    </tr>\n",
       "  </thead>\n",
       "  <tbody>\n",
       "    <tr>\n",
       "      <th>Afghanistan</th>\n",
       "      <td>1.397166e+06</td>\n",
       "      <td>1.397166e+06</td>\n",
       "      <td>2.058104e+06</td>\n",
       "      <td>2.038956e+06</td>\n",
       "      <td>96344.5</td>\n",
       "      <td>6.609377e+05</td>\n",
       "      <td>6.417895e+05</td>\n",
       "      <td>1626.290236</td>\n",
       "      <td>1635.000000</td>\n",
       "      <td>65.408922</td>\n",
       "      <td>51.364192</td>\n",
       "      <td>35.113122</td>\n",
       "      <td>4.290758</td>\n",
       "      <td>6.000000</td>\n",
       "      <td>3.000000</td>\n",
       "    </tr>\n",
       "    <tr>\n",
       "      <th>Albania</th>\n",
       "      <td>2.100050e+05</td>\n",
       "      <td>2.100050e+05</td>\n",
       "      <td>3.613005e+05</td>\n",
       "      <td>3.390537e+05</td>\n",
       "      <td>129136.0</td>\n",
       "      <td>1.512955e+05</td>\n",
       "      <td>1.290487e+05</td>\n",
       "      <td>9945.939903</td>\n",
       "      <td>9628.333333</td>\n",
       "      <td>96.082579</td>\n",
       "      <td>89.481876</td>\n",
       "      <td>81.899893</td>\n",
       "      <td>45.152660</td>\n",
       "      <td>7.166667</td>\n",
       "      <td>3.166667</td>\n",
       "    </tr>\n",
       "    <tr>\n",
       "      <th>Algeria</th>\n",
       "      <td>3.233830e+06</td>\n",
       "      <td>2.899988e+06</td>\n",
       "      <td>4.437360e+06</td>\n",
       "      <td>4.078203e+06</td>\n",
       "      <td>1189070.0</td>\n",
       "      <td>1.203531e+06</td>\n",
       "      <td>1.178215e+06</td>\n",
       "      <td>12930.744736</td>\n",
       "      <td>12701.666667</td>\n",
       "      <td>123.154295</td>\n",
       "      <td>91.714499</td>\n",
       "      <td>54.447580</td>\n",
       "      <td>14.918333</td>\n",
       "      <td>7.000000</td>\n",
       "      <td>3.000000</td>\n",
       "    </tr>\n",
       "    <tr>\n",
       "      <th>Andorra</th>\n",
       "      <td>2.900167e+03</td>\n",
       "      <td>2.900167e+03</td>\n",
       "      <td>4.071667e+03</td>\n",
       "      <td>3.746000e+03</td>\n",
       "      <td>496.0</td>\n",
       "      <td>1.171500e+03</td>\n",
       "      <td>8.458333e+02</td>\n",
       "      <td>NaN</td>\n",
       "      <td>NaN</td>\n",
       "      <td>NaN</td>\n",
       "      <td>NaN</td>\n",
       "      <td>NaN</td>\n",
       "      <td>81.834071</td>\n",
       "      <td>6.000000</td>\n",
       "      <td>2.000000</td>\n",
       "    </tr>\n",
       "    <tr>\n",
       "      <th>Angola</th>\n",
       "      <td>5.025782e+05</td>\n",
       "      <td>3.696622e+05</td>\n",
       "      <td>7.731820e+05</td>\n",
       "      <td>4.435772e+05</td>\n",
       "      <td>180738.5</td>\n",
       "      <td>2.706038e+05</td>\n",
       "      <td>7.391500e+04</td>\n",
       "      <td>5979.401192</td>\n",
       "      <td>5338.333333</td>\n",
       "      <td>32.565110</td>\n",
       "      <td>26.556767</td>\n",
       "      <td>19.788485</td>\n",
       "      <td>4.250000</td>\n",
       "      <td>6.000000</td>\n",
       "      <td>3.000000</td>\n",
       "    </tr>\n",
       "  </tbody>\n",
       "</table>\n",
       "</div>"
      ],
      "text/plain": [
       "Indicator Name  Enrolment in lower secondary education, both sexes (number)  \\\n",
       "Country Name                                                                  \n",
       "Afghanistan                                          1.397166e+06             \n",
       "Albania                                              2.100050e+05             \n",
       "Algeria                                              3.233830e+06             \n",
       "Andorra                                              2.900167e+03             \n",
       "Angola                                               5.025782e+05             \n",
       "\n",
       "Indicator Name  Enrolment in lower secondary general, both sexes (number)  \\\n",
       "Country Name                                                                \n",
       "Afghanistan                                          1.397166e+06           \n",
       "Albania                                              2.100050e+05           \n",
       "Algeria                                              2.899988e+06           \n",
       "Andorra                                              2.900167e+03           \n",
       "Angola                                               3.696622e+05           \n",
       "\n",
       "Indicator Name  Enrolment in secondary education, both sexes (number)  \\\n",
       "Country Name                                                            \n",
       "Afghanistan                                          2.058104e+06       \n",
       "Albania                                              3.613005e+05       \n",
       "Algeria                                              4.437360e+06       \n",
       "Andorra                                              4.071667e+03       \n",
       "Angola                                               7.731820e+05       \n",
       "\n",
       "Indicator Name  Enrolment in secondary general, both sexes (number)  \\\n",
       "Country Name                                                          \n",
       "Afghanistan                                          2.038956e+06     \n",
       "Albania                                              3.390537e+05     \n",
       "Algeria                                              4.078203e+06     \n",
       "Andorra                                              3.746000e+03     \n",
       "Angola                                               4.435772e+05     \n",
       "\n",
       "Indicator Name  Enrolment in tertiary education, all programmes, both sexes (number)  \\\n",
       "Country Name                                                                           \n",
       "Afghanistan                                               96344.5                      \n",
       "Albania                                                  129136.0                      \n",
       "Algeria                                                 1189070.0                      \n",
       "Andorra                                                     496.0                      \n",
       "Angola                                                   180738.5                      \n",
       "\n",
       "Indicator Name  Enrolment in upper secondary education, both sexes (number)  \\\n",
       "Country Name                                                                  \n",
       "Afghanistan                                          6.609377e+05             \n",
       "Albania                                              1.512955e+05             \n",
       "Algeria                                              1.203531e+06             \n",
       "Andorra                                              1.171500e+03             \n",
       "Angola                                               2.706038e+05             \n",
       "\n",
       "Indicator Name  Enrolment in upper secondary general, both sexes (number)  \\\n",
       "Country Name                                                                \n",
       "Afghanistan                                          6.417895e+05           \n",
       "Albania                                              1.290487e+05           \n",
       "Algeria                                              1.178215e+06           \n",
       "Andorra                                              8.458333e+02           \n",
       "Angola                                               7.391500e+04           \n",
       "\n",
       "Indicator Name  GDP per capita, PPP (constant 2011 international $)  \\\n",
       "Country Name                                                          \n",
       "Afghanistan                                           1626.290236     \n",
       "Albania                                               9945.939903     \n",
       "Algeria                                              12930.744736     \n",
       "Andorra                                                       NaN     \n",
       "Angola                                                5979.401192     \n",
       "\n",
       "Indicator Name  GNI per capita, PPP (current international $)  \\\n",
       "Country Name                                                    \n",
       "Afghanistan                                       1635.000000   \n",
       "Albania                                           9628.333333   \n",
       "Algeria                                          12701.666667   \n",
       "Andorra                                                   NaN   \n",
       "Angola                                            5338.333333   \n",
       "\n",
       "Indicator Name  Gross enrolment ratio, lower secondary, both sexes (%)  \\\n",
       "Country Name                                                             \n",
       "Afghanistan                                             65.408922        \n",
       "Albania                                                 96.082579        \n",
       "Algeria                                                123.154295        \n",
       "Andorra                                                       NaN        \n",
       "Angola                                                  32.565110        \n",
       "\n",
       "Indicator Name  Gross enrolment ratio, secondary, both sexes (%)  \\\n",
       "Country Name                                                       \n",
       "Afghanistan                                            51.364192   \n",
       "Albania                                                89.481876   \n",
       "Algeria                                                91.714499   \n",
       "Andorra                                                      NaN   \n",
       "Angola                                                 26.556767   \n",
       "\n",
       "Indicator Name  Gross enrolment ratio, upper secondary, both sexes (%)  \\\n",
       "Country Name                                                             \n",
       "Afghanistan                                             35.113122        \n",
       "Albania                                                 81.899893        \n",
       "Algeria                                                 54.447580        \n",
       "Andorra                                                       NaN        \n",
       "Angola                                                  19.788485        \n",
       "\n",
       "Indicator Name  Internet users (per 100 people)  \\\n",
       "Country Name                                      \n",
       "Afghanistan                            4.290758   \n",
       "Albania                               45.152660   \n",
       "Algeria                               14.918333   \n",
       "Andorra                               81.834071   \n",
       "Angola                                 4.250000   \n",
       "\n",
       "Indicator Name  Theoretical duration of secondary education (years)  \\\n",
       "Country Name                                                          \n",
       "Afghanistan                                              6.000000     \n",
       "Albania                                                  7.166667     \n",
       "Algeria                                                  7.000000     \n",
       "Andorra                                                  6.000000     \n",
       "Angola                                                   6.000000     \n",
       "\n",
       "Indicator Name  Theoretical duration of upper secondary education (years)  \n",
       "Country Name                                                               \n",
       "Afghanistan                                              3.000000          \n",
       "Albania                                                  3.166667          \n",
       "Algeria                                                  3.000000          \n",
       "Andorra                                                  2.000000          \n",
       "Angola                                                   3.000000          "
      ]
     },
     "execution_count": 124,
     "metadata": {},
     "output_type": "execute_result"
    }
   ],
   "source": [
    "df_indicateur_pays.head(5)"
   ]
  },
  {
   "cell_type": "markdown",
   "id": "f6c023c6",
   "metadata": {},
   "source": [
    "### Analyse statistiques"
   ]
  },
  {
   "cell_type": "markdown",
   "id": "4ae5ab99",
   "metadata": {},
   "source": [
    "Parmi les indicateurs les plus fournis qui ont été sélectionnés, certains semble proche et pourraient donc être redondant. Pour s'assurer de cette redondance et pour éliminer les indicateurs qui le seraient, nous allons observer les matrices de corrélations."
   ]
  },
  {
   "cell_type": "code",
   "execution_count": 125,
   "id": "1fa360c0",
   "metadata": {},
   "outputs": [
    {
     "data": {
      "image/png": "[encoded data removed]",
      "text/plain": [
       "<Figure size 1400x1200 with 2 Axes>"
      ]
     },
     "metadata": {},
     "output_type": "display_data"
    }
   ],
   "source": [
    "plt.figure(figsize=(14, 12))\n",
    "sns.heatmap(df_indicateur_pays.corr(method='pearson'), annot=True, fmt=\".2f\", cmap=\"coolwarm\")\n",
    "plt.xticks(rotation=45, ha='right', fontsize=9)\n",
    "plt.yticks(fontsize=9)\n",
    "plt.tight_layout()\n",
    "plt.show()"
   ]
  },
  {
   "cell_type": "markdown",
   "id": "ca3803e8",
   "metadata": {},
   "source": [
    "La matrice de corrélation avec la méthode de Pearson montre des corrélations très importantes (>> 80%), pouvant indiquer une redondance importante entre des indicateurs.\n",
    "\n",
    "Ici, nous allons mobiliser pour l'analyse seulement la méthode de Pearson et non celle de Spearman car les variables ne sont pas des variables ordinales, ainsi le coefficient de Spearman n'est pas pertinent.\n",
    "\n",
    "Pour la suite, nous allons donc éliminer les indicteurs qui sont redondant entre eux, notamment ceux relatifs au nombre d'élèves au collège/lycée et université."
   ]
  },
  {
   "cell_type": "code",
   "execution_count": 128,
   "id": "9f6567d5",
   "metadata": {},
   "outputs": [],
   "source": [
    "df_indicateur_pays = df_indicateur_pays[['GDP per capita, PPP (constant 2011 international $)',\n",
    "                    'Internet users (per 100 people)',\n",
    "                    'Enrolment in secondary general, both sexes (number)',\n",
    "                    'Enrolment in tertiary education, all programmes, both sexes (number)',\n",
    "                    'Theoretical duration of secondary education (years)'\n",
    "                    ]]"
   ]
  },
  {
   "cell_type": "code",
   "execution_count": 145,
   "id": "362d3f43",
   "metadata": {},
   "outputs": [
    {
     "name": "stdout",
     "output_type": "stream",
     "text": [
      "<class 'pandas.core.frame.DataFrame'>\n",
      "Index: 237 entries, Afghanistan to Zimbabwe\n",
      "Data columns (total 5 columns):\n",
      " #   Column                                                                Non-Null Count  Dtype  \n",
      "---  ------                                                                --------------  -----  \n",
      " 0   GDP per capita, PPP (constant 2011 international $)                   217 non-null    float64\n",
      " 1   Internet users (per 100 people)                                       229 non-null    float64\n",
      " 2   Enrolment in secondary general, both sexes (number)                   221 non-null    float64\n",
      " 3   Enrolment in tertiary education, all programmes, both sexes (number)  200 non-null    float64\n",
      " 4   Theoretical duration of secondary education (years)                   205 non-null    float64\n",
      "dtypes: float64(5)\n",
      "memory usage: 19.2+ KB\n"
     ]
    }
   ],
   "source": [
    "df_indicateur_pays.info()"
   ]
  },
  {
   "cell_type": "markdown",
   "id": "1c2c83c3",
   "metadata": {},
   "source": [
    "### Analyse descriptive"
   ]
  },
  {
   "cell_type": "markdown",
   "id": "58aa4a91",
   "metadata": {},
   "source": [
    "Tout d'abord, nous allons regarder les statistiques descriptives des différents indicteurs."
   ]
  },
  {
   "cell_type": "code",
   "execution_count": null,
   "id": "e166a09c",
   "metadata": {},
   "outputs": [
    {
     "data": {
      "application/vnd.microsoft.datawrangler.viewer.v0+json": {
       "columns": [
        {
         "name": "index",
         "rawType": "object",
         "type": "string"
        },
        {
         "name": "GDP per capita, PPP (constant 2011 international $)",
         "rawType": "float64",
         "type": "float"
        },
        {
         "name": "Internet users (per 100 people)",
         "rawType": "float64",
         "type": "float"
        },
        {
         "name": "Enrolment in secondary general, both sexes (number)",
         "rawType": "float64",
         "type": "float"
        },
        {
         "name": "Enrolment in tertiary education, all programmes, both sexes (number)",
         "rawType": "float64",
         "type": "float"
        },
        {
         "name": "Theoretical duration of secondary education (years)",
         "rawType": "float64",
         "type": "float"
        }
       ],
       "ref": "c5164add-ea7b-4c3f-8ba4-3b0cb33c09f8",
       "rows": [
        [
         "count",
         "217.0",
         "229.0",
         "221.0",
         "200.0",
         "205.0"
        ],
        [
         "mean",
         "17757.31",
         "35.3",
         "14871853.85",
         "6026399.03",
         "6.34"
        ],
        [
         "std",
         "19767.47",
         "26.93",
         "56340181.61",
         "20932638.23",
         "0.92"
        ],
        [
         "min",
         "626.14",
         "0.0",
         "945.0",
         "3.5",
         "4.0"
        ],
        [
         "25%",
         "3491.73",
         "9.54",
         "102895.0",
         "42726.79",
         "6.0"
        ],
        [
         "50%",
         "11113.05",
         "31.35",
         "507839.8",
         "229913.83",
         "6.0"
        ],
        [
         "75%",
         "24560.43",
         "56.29",
         "2831393.67",
         "1741621.44",
         "7.0"
        ],
        [
         "max",
         "123202.95",
         "94.16",
         "490780522.67",
         "184110464.0",
         "9.0"
        ],
        [
         "IQR",
         "7.03",
         "5.9",
         "27.52",
         "40.76",
         "1.17"
        ],
        [
         "CV",
         "1.11",
         "0.76",
         "3.79",
         "3.47",
         "0.14"
        ]
       ],
       "shape": {
        "columns": 5,
        "rows": 10
       }
      },
      "text/html": [
       "<div>\n",
       "<style scoped>\n",
       "    .dataframe tbody tr th:only-of-type {\n",
       "        vertical-align: middle;\n",
       "    }\n",
       "\n",
       "    .dataframe tbody tr th {\n",
       "        vertical-align: top;\n",
       "    }\n",
       "\n",
       "    .dataframe thead th {\n",
       "        text-align: right;\n",
       "    }\n",
       "</style>\n",
       "<table border=\"1\" class=\"dataframe\">\n",
       "  <thead>\n",
       "    <tr style=\"text-align: right;\">\n",
       "      <th>Indicator Name</th>\n",
       "      <th>GDP per capita, PPP (constant 2011 international $)</th>\n",
       "      <th>Internet users (per 100 people)</th>\n",
       "      <th>Enrolment in secondary general, both sexes (number)</th>\n",
       "      <th>Enrolment in tertiary education, all programmes, both sexes (number)</th>\n",
       "      <th>Theoretical duration of secondary education (years)</th>\n",
       "    </tr>\n",
       "  </thead>\n",
       "  <tbody>\n",
       "    <tr>\n",
       "      <th>count</th>\n",
       "      <td>217.00</td>\n",
       "      <td>229.00</td>\n",
       "      <td>2.210000e+02</td>\n",
       "      <td>2.000000e+02</td>\n",
       "      <td>205.00</td>\n",
       "    </tr>\n",
       "    <tr>\n",
       "      <th>mean</th>\n",
       "      <td>17757.31</td>\n",
       "      <td>35.30</td>\n",
       "      <td>1.487185e+07</td>\n",
       "      <td>6.026399e+06</td>\n",
       "      <td>6.34</td>\n",
       "    </tr>\n",
       "    <tr>\n",
       "      <th>std</th>\n",
       "      <td>19767.47</td>\n",
       "      <td>26.93</td>\n",
       "      <td>5.634018e+07</td>\n",
       "      <td>2.093264e+07</td>\n",
       "      <td>0.92</td>\n",
       "    </tr>\n",
       "    <tr>\n",
       "      <th>min</th>\n",
       "      <td>626.14</td>\n",
       "      <td>0.00</td>\n",
       "      <td>9.450000e+02</td>\n",
       "      <td>3.500000e+00</td>\n",
       "      <td>4.00</td>\n",
       "    </tr>\n",
       "    <tr>\n",
       "      <th>25%</th>\n",
       "      <td>3491.73</td>\n",
       "      <td>9.54</td>\n",
       "      <td>1.028950e+05</td>\n",
       "      <td>4.272679e+04</td>\n",
       "      <td>6.00</td>\n",
       "    </tr>\n",
       "    <tr>\n",
       "      <th>50%</th>\n",
       "      <td>11113.05</td>\n",
       "      <td>31.35</td>\n",
       "      <td>5.078398e+05</td>\n",
       "      <td>2.299138e+05</td>\n",
       "      <td>6.00</td>\n",
       "    </tr>\n",
       "    <tr>\n",
       "      <th>75%</th>\n",
       "      <td>24560.43</td>\n",
       "      <td>56.29</td>\n",
       "      <td>2.831394e+06</td>\n",
       "      <td>1.741621e+06</td>\n",
       "      <td>7.00</td>\n",
       "    </tr>\n",
       "    <tr>\n",
       "      <th>max</th>\n",
       "      <td>123202.95</td>\n",
       "      <td>94.16</td>\n",
       "      <td>4.907805e+08</td>\n",
       "      <td>1.841105e+08</td>\n",
       "      <td>9.00</td>\n",
       "    </tr>\n",
       "    <tr>\n",
       "      <th>IQR</th>\n",
       "      <td>7.03</td>\n",
       "      <td>5.90</td>\n",
       "      <td>2.752000e+01</td>\n",
       "      <td>4.076000e+01</td>\n",
       "      <td>1.17</td>\n",
       "    </tr>\n",
       "    <tr>\n",
       "      <th>CV</th>\n",
       "      <td>1.11</td>\n",
       "      <td>0.76</td>\n",
       "      <td>3.790000e+00</td>\n",
       "      <td>3.470000e+00</td>\n",
       "      <td>0.14</td>\n",
       "    </tr>\n",
       "  </tbody>\n",
       "</table>\n",
       "</div>"
      ],
      "text/plain": [
       "Indicator Name  GDP per capita, PPP (constant 2011 international $)  \\\n",
       "count                                                      217.00     \n",
       "mean                                                     17757.31     \n",
       "std                                                      19767.47     \n",
       "min                                                        626.14     \n",
       "25%                                                       3491.73     \n",
       "50%                                                      11113.05     \n",
       "75%                                                      24560.43     \n",
       "max                                                     123202.95     \n",
       "IQR                                                          7.03     \n",
       "CV                                                           1.11     \n",
       "\n",
       "Indicator Name  Internet users (per 100 people)  \\\n",
       "count                                    229.00   \n",
       "mean                                      35.30   \n",
       "std                                       26.93   \n",
       "min                                        0.00   \n",
       "25%                                        9.54   \n",
       "50%                                       31.35   \n",
       "75%                                       56.29   \n",
       "max                                       94.16   \n",
       "IQR                                        5.90   \n",
       "CV                                         0.76   \n",
       "\n",
       "Indicator Name  Enrolment in secondary general, both sexes (number)  \\\n",
       "count                                                2.210000e+02     \n",
       "mean                                                 1.487185e+07     \n",
       "std                                                  5.634018e+07     \n",
       "min                                                  9.450000e+02     \n",
       "25%                                                  1.028950e+05     \n",
       "50%                                                  5.078398e+05     \n",
       "75%                                                  2.831394e+06     \n",
       "max                                                  4.907805e+08     \n",
       "IQR                                                  2.752000e+01     \n",
       "CV                                                   3.790000e+00     \n",
       "\n",
       "Indicator Name  Enrolment in tertiary education, all programmes, both sexes (number)  \\\n",
       "count                                                2.000000e+02                      \n",
       "mean                                                 6.026399e+06                      \n",
       "std                                                  2.093264e+07                      \n",
       "min                                                  3.500000e+00                      \n",
       "25%                                                  4.272679e+04                      \n",
       "50%                                                  2.299138e+05                      \n",
       "75%                                                  1.741621e+06                      \n",
       "max                                                  1.841105e+08                      \n",
       "IQR                                                  4.076000e+01                      \n",
       "CV                                                   3.470000e+00                      \n",
       "\n",
       "Indicator Name  Theoretical duration of secondary education (years)  \n",
       "count                                                      205.00    \n",
       "mean                                                         6.34    \n",
       "std                                                          0.92    \n",
       "min                                                          4.00    \n",
       "25%                                                          6.00    \n",
       "50%                                                          6.00    \n",
       "75%                                                          7.00    \n",
       "max                                                          9.00    \n",
       "IQR                                                          1.17    \n",
       "CV                                                           0.14    "
      ]
     },
     "execution_count": 154,
     "metadata": {},
     "output_type": "execute_result"
    }
   ],
   "source": [
    "stat_descrip = df_indicateur_pays.describe()\n",
    "\n",
    "#Calcul du rapport interquartile\n",
    "iqr = df_indicateur_pays.quantile(0.75)/df_indicateur_pays.quantile(0.25)\n",
    "iqr.name = \"IQR\"\n",
    "\n",
    "#Calcul du coefficient de variation\n",
    "cv = df_indicateur_pays.std()/df_indicateur_pays.mean()\n",
    "cv.name = \"CV\"\n",
    "\n",
    "#Ajout du rapport interquartile et du coefficient de variation au dataframe describe\n",
    "stat_descrip = pd.concat([stat_descrip,iqr.to_frame().T]).round(2)\n",
    "stat_descrip = pd.concat([stat_descrip,cv.to_frame().T]).round(2)\n",
    "\n",
    "stat_descrip"
   ]
  },
  {
   "cell_type": "markdown",
   "id": "c7621088",
   "metadata": {},
   "source": [
    "##### PIB par habitant :\n",
    "Le PIB par habitant est très hétérogène, on observe un coefficient de variation entre l'écart-type et la moyenne de 1,11 indiquant une dispersion très importante. De plus, le rapport interquartile égal à 7 montre des disparités importantes entre les pays les plus pauvres et ceux les plus riches en termes de PIB par habitant. La moyenne est nettement supérieur à la médiane indiquant qu'un petit nombre de pays tire la moyenne vers le haut. \n",
    "\n",
    "##### Internet users :\n",
    "La couverture internet est elle aussi très disparate entre les pays. Le coefficient de variation entre l'écart-type et la moyenne est de 0,76 montrant une forte dispersion. Ceci est confirmé par le rapport interquartile presque égal à 6. Nous pouvons supposer que des pays sont encore très peu connectés alors que d'autres sont proches des 100% de personnes connectées à Internet.\n",
    "\n",
    "##### Effectifs dans l'enseignement secondaire\n"
   ]
  },
  {
   "cell_type": "code",
   "execution_count": 131,
   "id": "e22bf452",
   "metadata": {},
   "outputs": [
    {
     "data": {
      "text/plain": [
       "<seaborn.axisgrid.FacetGrid at 0x7e8ba0bd68d0>"
      ]
     },
     "execution_count": 131,
     "metadata": {},
     "output_type": "execute_result"
    },
    {
     "data": {
      "image/png": "[encoded data removed]",
      "text/plain": [
       "<Figure size 500x500 with 1 Axes>"
      ]
     },
     "metadata": {},
     "output_type": "display_data"
    }
   ],
   "source": [
    "sns.displot(df_indicateur_pays['Internet users (per 100 people)'])"
   ]
  },
  {
   "cell_type": "code",
   "execution_count": 132,
   "id": "325c4ab7",
   "metadata": {},
   "outputs": [
    {
     "data": {
      "image/png": "[encoded data removed]",
      "text/plain": [
       "<Figure size 1600x800 with 1 Axes>"
      ]
     },
     "metadata": {},
     "output_type": "display_data"
    },
    {
     "data": {
      "image/png": "[encoded data removed]",
      "text/plain": [
       "<Figure size 1600x800 with 1 Axes>"
      ]
     },
     "metadata": {},
     "output_type": "display_data"
    },
    {
     "data": {
      "image/png": "[encoded data removed]",
      "text/plain": [
       "<Figure size 1600x800 with 1 Axes>"
      ]
     },
     "metadata": {},
     "output_type": "display_data"
    },
    {
     "data": {
      "image/png": "[encoded data removed]",
      "text/plain": [
       "<Figure size 1600x800 with 1 Axes>"
      ]
     },
     "metadata": {},
     "output_type": "display_data"
    },
    {
     "data": {
      "image/png": "[encoded data removed]",
      "text/plain": [
       "<Figure size 1600x800 with 1 Axes>"
      ]
     },
     "metadata": {},
     "output_type": "display_data"
    }
   ],
   "source": [
    "for col in df_indicateur_pays.columns:\n",
    "    sns.displot(df_indicateur_pays[col], height=8, aspect=2)"
   ]
  },
  {
   "cell_type": "code",
   "execution_count": 133,
   "id": "720b76cd",
   "metadata": {},
   "outputs": [],
   "source": [
    "from sklearn.preprocessing import StandardScaler\n",
    "from sklearn.decomposition import PCA\n",
    "from sklearn.cluster import KMeans"
   ]
  },
  {
   "cell_type": "code",
   "execution_count": 134,
   "id": "3fe39a60",
   "metadata": {},
   "outputs": [],
   "source": [
    "df_ACP = df_indicateur_pays.dropna()"
   ]
  },
  {
   "cell_type": "code",
   "execution_count": 135,
   "id": "007e96cf",
   "metadata": {},
   "outputs": [],
   "source": [
    "X = StandardScaler().fit_transform(df_ACP)"
   ]
  },
  {
   "cell_type": "code",
   "execution_count": 136,
   "id": "e484cc0a",
   "metadata": {},
   "outputs": [
    {
     "name": "stdout",
     "output_type": "stream",
     "text": [
      "Variance expliquée : [0.38276566 0.35245612 0.19732471 0.04891857 0.01853494]\n"
     ]
    }
   ],
   "source": [
    "pca = PCA(n_components=5)\n",
    "X_pca = pca.fit_transform(X)\n",
    "print(f\"Variance expliquée : {pca.explained_variance_ratio_}\")"
   ]
  },
  {
   "cell_type": "code",
   "execution_count": 137,
   "id": "78b61b75",
   "metadata": {},
   "outputs": [
    {
     "data": {
      "image/png": "[encoded data removed]",
      "text/plain": [
       "<Figure size 640x480 with 1 Axes>"
      ]
     },
     "metadata": {},
     "output_type": "display_data"
    }
   ],
   "source": [
    "distortions = []\n",
    "for k in range(1, 11):\n",
    "    km = KMeans(n_clusters=k, random_state=42)\n",
    "    km.fit(X_pca)\n",
    "    distortions.append(km.inertia_)\n",
    "\n",
    "plt.plot(range(1, 11), distortions, marker='o')\n",
    "plt.title('Méthode du coude')\n",
    "plt.xlabel('Nombre de clusters')\n",
    "plt.ylabel('Inertie intra-cluster')\n",
    "plt.show()"
   ]
  },
  {
   "cell_type": "code",
   "execution_count": 138,
   "id": "7fde99cc",
   "metadata": {},
   "outputs": [],
   "source": [
    "kmeans = KMeans(n_clusters=3, random_state=42)\n",
    "clusters = kmeans.fit_predict(X_pca)"
   ]
  },
  {
   "cell_type": "code",
   "execution_count": 139,
   "id": "015dd578",
   "metadata": {},
   "outputs": [
    {
     "name": "stderr",
     "output_type": "stream",
     "text": [
      "/tmp/ipykernel_775/3952134462.py:1: SettingWithCopyWarning: \n",
      "A value is trying to be set on a copy of a slice from a DataFrame.\n",
      "Try using .loc[row_indexer,col_indexer] = value instead\n",
      "\n",
      "See the caveats in the documentation: https://pandas.pydata.org/pandas-docs/stable/user_guide/indexing.html#returning-a-view-versus-a-copy\n",
      "  df_ACP['Cluster'] = clusters\n"
     ]
    }
   ],
   "source": [
    "df_ACP['Cluster'] = clusters"
   ]
  },
  {
   "cell_type": "code",
   "execution_count": 140,
   "id": "0b440db0",
   "metadata": {},
   "outputs": [
    {
     "data": {
      "image/png": "[encoded data removed]",
      "text/plain": [
       "<Figure size 1000x600 with 1 Axes>"
      ]
     },
     "metadata": {},
     "output_type": "display_data"
    }
   ],
   "source": [
    "plt.figure(figsize=(10, 6))\n",
    "sns.scatterplot(x=X_pca[:, 0], y=X_pca[:, 1], hue=clusters, palette='Set2')\n",
    "plt.xlabel('Composante principale 1')\n",
    "plt.ylabel('Composante principale 2')\n",
    "plt.title('ACP + Clustering des pays')\n",
    "plt.legend(title='Cluster')\n",
    "plt.grid(True)\n",
    "plt.tight_layout()\n",
    "plt.show()"
   ]
  },
  {
   "cell_type": "code",
   "execution_count": 141,
   "id": "b1490e10",
   "metadata": {},
   "outputs": [
    {
     "name": "stdout",
     "output_type": "stream",
     "text": [
      "Contributions des variables aux axes (en %):\n",
      "                                                    Axe 1  Axe 2  Axe 3  \\\n",
      "GDP per capita, PPP (constant 2011 internationa...   4.64  43.91   1.57   \n",
      "Internet users (per 100 people)                      3.97  45.37   0.40   \n",
      "Enrolment in secondary general, both sexes (num...  47.16   2.82   0.00   \n",
      "Enrolment in tertiary education, all programmes...  44.23   5.92   0.25   \n",
      "Theoretical duration of secondary education (ye...   0.00   1.98  97.77   \n",
      "\n",
      "                                                    Axe 4  Axe 5  \n",
      "GDP per capita, PPP (constant 2011 internationa...  49.71   0.16  \n",
      "Internet users (per 100 people)                     48.76   1.51  \n",
      "Enrolment in secondary general, both sexes (num...   0.81  49.20  \n",
      "Enrolment in tertiary education, all programmes...   0.54  49.06  \n",
      "Theoretical duration of secondary education (ye...   0.17   0.08  \n"
     ]
    }
   ],
   "source": [
    "features = [\n",
    "    'GDP per capita, PPP (constant 2011 international $)', \n",
    "    'Internet users (per 100 people)', \n",
    "    'Enrolment in secondary general, both sexes (number)', \n",
    "    'Enrolment in tertiary education, all programmes, both sexes (number)', \n",
    "    'Theoretical duration of secondary education (years)'\n",
    "]\n",
    "\n",
    "loadings = pca.components_.T \n",
    "explained_variance = pca.explained_variance_ratio_\n",
    "\n",
    "contributions = pd.DataFrame(\n",
    "    (loadings ** 2),\n",
    "    index=features,\n",
    "    columns=[f'Axe {i+1}' for i in range(5)]\n",
    ")\n",
    "\n",
    "\n",
    "contributions = contributions.divide(contributions.sum(axis=0), axis=1) * 100\n",
    "\n",
    "print(\"Contributions des variables aux axes (en %):\")\n",
    "print(contributions.round(2))"
   ]
  },
  {
   "cell_type": "code",
   "execution_count": 142,
   "id": "e88a7be8",
   "metadata": {},
   "outputs": [
    {
     "data": {
      "application/vnd.microsoft.datawrangler.viewer.v0+json": {
       "columns": [
        {
         "name": "Cluster",
         "rawType": "int32",
         "type": "integer"
        },
        {
         "name": "GDP per capita, PPP (constant 2011 international $)",
         "rawType": "float64",
         "type": "float"
        },
        {
         "name": "Internet users (per 100 people)",
         "rawType": "float64",
         "type": "float"
        },
        {
         "name": "Enrolment in secondary general, both sexes (number)",
         "rawType": "float64",
         "type": "float"
        },
        {
         "name": "Enrolment in tertiary education, all programmes, both sexes (number)",
         "rawType": "float64",
         "type": "float"
        },
        {
         "name": "Theoretical duration of secondary education (years)",
         "rawType": "float64",
         "type": "float"
        }
       ],
       "ref": "76de1e39-4e5e-4821-bc52-a852b82a4394",
       "rows": [
        [
         "0",
         "6427.74",
         "17.55",
         "1826815.92",
         "529513.32",
         "6.17"
        ],
        [
         "1",
         "37645.09",
         "64.74",
         "1450376.68",
         "843562.74",
         "6.7"
        ],
        [
         "2",
         "21445.44",
         "38.86",
         "70555758.11",
         "24701565.67",
         "6.33"
        ]
       ],
       "shape": {
        "columns": 5,
        "rows": 3
       }
      },
      "text/html": [
       "<div>\n",
       "<style scoped>\n",
       "    .dataframe tbody tr th:only-of-type {\n",
       "        vertical-align: middle;\n",
       "    }\n",
       "\n",
       "    .dataframe tbody tr th {\n",
       "        vertical-align: top;\n",
       "    }\n",
       "\n",
       "    .dataframe thead th {\n",
       "        text-align: right;\n",
       "    }\n",
       "</style>\n",
       "<table border=\"1\" class=\"dataframe\">\n",
       "  <thead>\n",
       "    <tr style=\"text-align: right;\">\n",
       "      <th>Indicator Name</th>\n",
       "      <th>GDP per capita, PPP (constant 2011 international $)</th>\n",
       "      <th>Internet users (per 100 people)</th>\n",
       "      <th>Enrolment in secondary general, both sexes (number)</th>\n",
       "      <th>Enrolment in tertiary education, all programmes, both sexes (number)</th>\n",
       "      <th>Theoretical duration of secondary education (years)</th>\n",
       "    </tr>\n",
       "    <tr>\n",
       "      <th>Cluster</th>\n",
       "      <th></th>\n",
       "      <th></th>\n",
       "      <th></th>\n",
       "      <th></th>\n",
       "      <th></th>\n",
       "    </tr>\n",
       "  </thead>\n",
       "  <tbody>\n",
       "    <tr>\n",
       "      <th>0</th>\n",
       "      <td>6427.74</td>\n",
       "      <td>17.55</td>\n",
       "      <td>1826815.92</td>\n",
       "      <td>529513.32</td>\n",
       "      <td>6.17</td>\n",
       "    </tr>\n",
       "    <tr>\n",
       "      <th>1</th>\n",
       "      <td>37645.09</td>\n",
       "      <td>64.74</td>\n",
       "      <td>1450376.68</td>\n",
       "      <td>843562.74</td>\n",
       "      <td>6.70</td>\n",
       "    </tr>\n",
       "    <tr>\n",
       "      <th>2</th>\n",
       "      <td>21445.44</td>\n",
       "      <td>38.86</td>\n",
       "      <td>70555758.11</td>\n",
       "      <td>24701565.67</td>\n",
       "      <td>6.33</td>\n",
       "    </tr>\n",
       "  </tbody>\n",
       "</table>\n",
       "</div>"
      ],
      "text/plain": [
       "Indicator Name  GDP per capita, PPP (constant 2011 international $)  \\\n",
       "Cluster                                                               \n",
       "0                                                         6427.74     \n",
       "1                                                        37645.09     \n",
       "2                                                        21445.44     \n",
       "\n",
       "Indicator Name  Internet users (per 100 people)  \\\n",
       "Cluster                                           \n",
       "0                                         17.55   \n",
       "1                                         64.74   \n",
       "2                                         38.86   \n",
       "\n",
       "Indicator Name  Enrolment in secondary general, both sexes (number)  \\\n",
       "Cluster                                                               \n",
       "0                                                      1826815.92     \n",
       "1                                                      1450376.68     \n",
       "2                                                     70555758.11     \n",
       "\n",
       "Indicator Name  Enrolment in tertiary education, all programmes, both sexes (number)  \\\n",
       "Cluster                                                                                \n",
       "0                                                       529513.32                      \n",
       "1                                                       843562.74                      \n",
       "2                                                     24701565.67                      \n",
       "\n",
       "Indicator Name  Theoretical duration of secondary education (years)  \n",
       "Cluster                                                              \n",
       "0                                                            6.17    \n",
       "1                                                            6.70    \n",
       "2                                                            6.33    "
      ]
     },
     "execution_count": 142,
     "metadata": {},
     "output_type": "execute_result"
    }
   ],
   "source": [
    "df_ACP.groupby('Cluster').mean().round(2)"
   ]
  },
  {
   "cell_type": "code",
   "execution_count": 143,
   "id": "9494f1af",
   "metadata": {},
   "outputs": [],
   "source": [
    "top_indicateur = df_ACP[df_ACP['Cluster']==1].copy()\n",
    "\n",
    "for col in df_ACP.columns:\n",
    "    if (col != 'Cluster')&(col !='Theoretical duration of secondary education (years)'):\n",
    "        top_indicateur[col + '_score'] = df_ACP[df_ACP['Cluster']==1][col].rank(ascending=True, method='min')\n",
    "        top_indicateur[col + '_score'] = len(df_ACP) + 1 - top_indicateur[col + '_score']\n",
    "\n",
    "score_cols = [col for col in top_indicateur.columns if col.endswith('_score')]\n",
    "\n",
    "top_indicateur['Rang moyen'] = top_indicateur[score_cols].mean(axis=1)"
   ]
  },
  {
   "cell_type": "code",
   "execution_count": 144,
   "id": "e232bdc8",
   "metadata": {},
   "outputs": [
    {
     "data": {
      "application/vnd.microsoft.datawrangler.viewer.v0+json": {
       "columns": [
        {
         "name": "Country Name",
         "rawType": "object",
         "type": "string"
        },
        {
         "name": "GDP per capita, PPP (constant 2011 international $)",
         "rawType": "float64",
         "type": "float"
        },
        {
         "name": "Internet users (per 100 people)",
         "rawType": "float64",
         "type": "float"
        },
        {
         "name": "Enrolment in secondary general, both sexes (number)",
         "rawType": "float64",
         "type": "float"
        },
        {
         "name": "Enrolment in tertiary education, all programmes, both sexes (number)",
         "rawType": "float64",
         "type": "float"
        },
        {
         "name": "Theoretical duration of secondary education (years)",
         "rawType": "float64",
         "type": "float"
        },
        {
         "name": "Cluster",
         "rawType": "int32",
         "type": "integer"
        },
        {
         "name": "GDP per capita, PPP (constant 2011 international $)_score",
         "rawType": "float64",
         "type": "float"
        },
        {
         "name": "Internet users (per 100 people)_score",
         "rawType": "float64",
         "type": "float"
        },
        {
         "name": "Enrolment in secondary general, both sexes (number)_score",
         "rawType": "float64",
         "type": "float"
        },
        {
         "name": "Enrolment in tertiary education, all programmes, both sexes (number)_score",
         "rawType": "float64",
         "type": "float"
        },
        {
         "name": "Rang moyen",
         "rawType": "float64",
         "type": "float"
        }
       ],
       "ref": "15c87ca2-9942-420d-86da-761c2e6310f5",
       "rows": [
        [
         "Germany",
         "41438.62",
         "81.13",
         "6074760.17",
         "2780012.75",
         "9.0",
         "1",
         "120.0",
         "111.0",
         "104.0",
         "105.0",
         "110.0"
        ],
        [
         "Japan",
         "35939.45",
         "79.73",
         "6438681.83",
         "3879516.83",
         "6.0",
         "1",
         "129.0",
         "112.0",
         "102.0",
         "102.0",
         "111.25"
        ],
        [
         "United Kingdom",
         "36868.74",
         "84.94",
         "4589438.67",
         "2433029.17",
         "7.0",
         "1",
         "126.0",
         "108.0",
         "106.0",
         "106.0",
         "111.5"
        ],
        [
         "Netherlands",
         "45742.38",
         "91.0",
         "783607.6",
         "689077.0",
         "6.0",
         "1",
         "113.0",
         "103.0",
         "118.0",
         "117.0",
         "112.75"
        ],
        [
         "France",
         "37169.4",
         "76.79",
         "4731632.67",
         "2246063.17",
         "7.0",
         "1",
         "125.0",
         "116.0",
         "105.0",
         "107.0",
         "113.25"
        ],
        [
         "Korea, Rep.",
         "30522.91",
         "83.15",
         "3456107.33",
         "3291841.5",
         "6.0",
         "1",
         "134.0",
         "110.0",
         "107.0",
         "104.0",
         "113.75"
        ],
        [
         "Australia",
         "41862.03",
         "77.31",
         "1538748.5",
         "1278845.83",
         "6.0",
         "1",
         "119.0",
         "114.0",
         "114.0",
         "111.0",
         "114.5"
        ],
        [
         "Sweden",
         "42968.46",
         "91.96",
         "516834.67",
         "439657.5",
         "6.0",
         "1",
         "118.0",
         "102.0",
         "123.0",
         "120.0",
         "115.75"
        ],
        [
         "Norway",
         "62946.6",
         "93.21",
         "303432.33",
         "230007.17",
         "6.0",
         "1",
         "107.0",
         "101.0",
         "135.0",
         "134.0",
         "119.25"
        ],
        [
         "Switzerland",
         "56049.49",
         "83.52",
         "396123.33",
         "252282.83",
         "7.0",
         "1",
         "108.0",
         "109.0",
         "129.0",
         "131.0",
         "119.25"
        ],
        [
         "Denmark",
         "44425.25",
         "89.55",
         "380459.83",
         "255150.83",
         "6.0",
         "1",
         "115.0",
         "104.0",
         "130.0",
         "130.0",
         "119.75"
        ],
        [
         "Belgium",
         "41047.36",
         "75.92",
         "509193.5",
         "450133.17",
         "6.0",
         "1",
         "122.0",
         "117.0",
         "124.0",
         "119.0",
         "120.5"
        ],
        [
         "Austria",
         "43987.88",
         "76.81",
         "449672.76",
         "350700.2",
         "8.0",
         "1",
         "116.0",
         "115.0",
         "127.0",
         "125.0",
         "120.75"
        ],
        [
         "Spain",
         "32196.65",
         "66.06",
         "2658967.83",
         "1891091.67",
         "6.0",
         "1",
         "133.0",
         "131.0",
         "110.0",
         "110.0",
         "121.0"
        ],
        [
         "Hong Kong SAR, China",
         "48706.09",
         "71.23",
         "485177.83",
         "268732.34",
         "6.67",
         "1",
         "111.0",
         "122.0",
         "126.0",
         "128.0",
         "121.75"
        ],
        [
         "Saudi Arabia",
         "47383.69",
         "46.17",
         "3004442.0",
         "993351.83",
         "6.0",
         "1",
         "112.0",
         "153.0",
         "108.0",
         "114.0",
         "121.75"
        ],
        [
         "Italy",
         "35943.42",
         "52.62",
         "2918008.67",
         "1962026.67",
         "8.0",
         "1",
         "128.0",
         "147.0",
         "109.0",
         "109.0",
         "123.25"
        ],
        [
         "Finland",
         "40219.23",
         "87.19",
         "293303.83",
         "306027.0",
         "6.0",
         "1",
         "124.0",
         "107.0",
         "137.0",
         "126.0",
         "123.5"
        ],
        [
         "Russian Federation",
         "23888.91",
         "46.6",
         "7851598.0",
         "8588080.8",
         "7.0",
         "1",
         "143.0",
         "152.0",
         "101.0",
         "100.0",
         "124.0"
        ],
        [
         "New Zealand",
         "32797.14",
         "79.64",
         "426541.0",
         "258673.54",
         "7.0",
         "1",
         "132.0",
         "113.0",
         "128.0",
         "129.0",
         "125.5"
        ],
        [
         "Poland",
         "22123.27",
         "60.25",
         "2035971.33",
         "2075819.67",
         "6.0",
         "1",
         "146.0",
         "137.0",
         "112.0",
         "108.0",
         "125.75"
        ],
        [
         "Singapore",
         "71903.53",
         "72.15",
         "204658.5",
         "221915.33",
         "4.0",
         "1",
         "105.0",
         "120.0",
         "143.0",
         "136.0",
         "126.0"
        ],
        [
         "Israel",
         "30000.65",
         "66.66",
         "580557.33",
         "357793.17",
         "6.0",
         "1",
         "135.0",
         "129.0",
         "121.0",
         "124.0",
         "127.25"
        ],
        [
         "Czech Republic",
         "28538.99",
         "69.04",
         "504334.0",
         "426761.67",
         "8.0",
         "1",
         "138.0",
         "125.0",
         "125.0",
         "121.0",
         "127.25"
        ],
        [
         "Ireland",
         "44929.98",
         "72.1",
         "274708.0",
         "190588.67",
         "5.0",
         "1",
         "114.0",
         "121.0",
         "138.0",
         "137.0",
         "127.5"
        ],
        [
         "Malaysia",
         "21637.01",
         "58.64",
         "2442807.0",
         "1035686.0",
         "7.0",
         "1",
         "149.0",
         "139.0",
         "111.0",
         "112.0",
         "127.75"
        ],
        [
         "Hungary",
         "22813.82",
         "66.54",
         "761396.67",
         "387011.33",
         "8.0",
         "1",
         "145.0",
         "130.0",
         "119.0",
         "122.0",
         "129.0"
        ],
        [
         "Brazil",
         "14586.6",
         "43.16",
         "22457048.33",
         "6722970.17",
         "7.0",
         "1",
         "159.0",
         "157.0",
         "100.0",
         "101.0",
         "129.25"
        ],
        [
         "Luxembourg",
         "91318.16",
         "89.32",
         "29852.6",
         "4824.0",
         "7.0",
         "1",
         "102.0",
         "105.0",
         "155.0",
         "157.0",
         "129.75"
        ],
        [
         "Turkey",
         "19028.86",
         "40.84",
         "6241781.0",
         "3688759.17",
         "7.0",
         "1",
         "154.0",
         "161.0",
         "103.0",
         "103.0",
         "130.25"
        ],
        [
         "Kuwait",
         "79997.87",
         "60.98",
         "259879.0",
         "71786.0",
         "7.0",
         "1",
         "104.0",
         "136.0",
         "140.0",
         "145.0",
         "131.25"
        ],
        [
         "Greece",
         "27548.31",
         "48.6",
         "580689.5",
         "656391.75",
         "6.0",
         "1",
         "139.0",
         "149.0",
         "120.0",
         "118.0",
         "131.5"
        ],
        [
         "Slovak Republic",
         "25524.88",
         "73.47",
         "352669.17",
         "226012.5",
         "9.0",
         "1",
         "141.0",
         "119.0",
         "133.0",
         "135.0",
         "132.0"
        ],
        [
         "Portugal",
         "26635.45",
         "53.9",
         "546571.83",
         "381847.83",
         "6.0",
         "1",
         "140.0",
         "145.0",
         "122.0",
         "123.0",
         "132.5"
        ],
        [
         "Iceland",
         "40439.87",
         "94.16",
         "28269.67",
         "18107.0",
         "7.0",
         "1",
         "123.0",
         "100.0",
         "156.0",
         "152.0",
         "132.75"
        ],
        [
         "Chile",
         "20131.23",
         "48.19",
         "1172594.83",
         "1003863.0",
         "6.0",
         "1",
         "152.0",
         "150.0",
         "116.0",
         "113.0",
         "132.75"
        ],
        [
         "Bermuda",
         "55335.67",
         "87.45",
         "4284.25",
         "1254.17",
         "7.0",
         "1",
         "109.0",
         "106.0",
         "161.0",
         "159.0",
         "133.75"
        ],
        [
         "Qatar",
         "123202.95",
         "65.0",
         "71110.33",
         "15507.33",
         "6.0",
         "1",
         "100.0",
         "133.0",
         "149.0",
         "153.0",
         "133.75"
        ],
        [
         "Bahrain",
         "41218.5",
         "69.16",
         "74058.83",
         "39255.67",
         "6.0",
         "1",
         "121.0",
         "124.0",
         "148.0",
         "148.0",
         "135.25"
        ],
        [
         "Kazakhstan",
         "20767.14",
         "37.95",
         "1582795.67",
         "789256.5",
         "7.0",
         "1",
         "150.0",
         "163.0",
         "113.0",
         "116.0",
         "135.5"
        ],
        [
         "Macao SAR, China",
         "105951.29",
         "57.63",
         "36225.17",
         "27972.5",
         "6.0",
         "1",
         "101.0",
         "140.0",
         "153.0",
         "150.0",
         "136.0"
        ],
        [
         "Romania",
         "18353.69",
         "40.77",
         "1207551.83",
         "891610.83",
         "8.0",
         "1",
         "155.0",
         "162.0",
         "115.0",
         "115.0",
         "136.75"
        ],
        [
         "Puerto Rico",
         "34533.21",
         "51.8",
         "262147.75",
         "243039.0",
         "6.0",
         "1",
         "130.0",
         "148.0",
         "139.0",
         "132.0",
         "137.25"
        ],
        [
         "Slovenia",
         "28778.67",
         "66.73",
         "88619.67",
         "108925.33",
         "7.0",
         "1",
         "136.0",
         "128.0",
         "146.0",
         "142.0",
         "138.0"
        ],
        [
         "Estonia",
         "24569.31",
         "75.35",
         "75289.67",
         "67846.33",
         "6.0",
         "1",
         "142.0",
         "118.0",
         "147.0",
         "146.0",
         "138.25"
        ],
        [
         "Brunei Darussalam",
         "80911.72",
         "54.8",
         "44919.33",
         "6874.83",
         "7.0",
         "1",
         "103.0",
         "143.0",
         "151.0",
         "156.0",
         "138.25"
        ],
        [
         "Lithuania",
         "22831.28",
         "62.74",
         "298380.33",
         "189793.67",
         "8.0",
         "1",
         "144.0",
         "135.0",
         "136.0",
         "138.0",
         "138.25"
        ],
        [
         "Oman",
         "43830.7",
         "42.85",
         "306274.6",
         "82273.4",
         "6.0",
         "1",
         "117.0",
         "160.0",
         "134.0",
         "144.0",
         "138.75"
        ],
        [
         "Cayman Islands",
         "49903.03",
         "67.01",
         "3283.25",
         "912.0",
         "6.0",
         "1",
         "110.0",
         "126.0",
         "162.0",
         "161.0",
         "139.75"
        ],
        [
         "Latvia",
         "20073.55",
         "69.46",
         "112790.33",
         "110176.33",
         "6.0",
         "1",
         "153.0",
         "123.0",
         "145.0",
         "141.0",
         "140.5"
        ]
       ],
       "shape": {
        "columns": 11,
        "rows": 64
       }
      },
      "text/html": [
       "<div>\n",
       "<style scoped>\n",
       "    .dataframe tbody tr th:only-of-type {\n",
       "        vertical-align: middle;\n",
       "    }\n",
       "\n",
       "    .dataframe tbody tr th {\n",
       "        vertical-align: top;\n",
       "    }\n",
       "\n",
       "    .dataframe thead th {\n",
       "        text-align: right;\n",
       "    }\n",
       "</style>\n",
       "<table border=\"1\" class=\"dataframe\">\n",
       "  <thead>\n",
       "    <tr style=\"text-align: right;\">\n",
       "      <th>Indicator Name</th>\n",
       "      <th>GDP per capita, PPP (constant 2011 international $)</th>\n",
       "      <th>Internet users (per 100 people)</th>\n",
       "      <th>Enrolment in secondary general, both sexes (number)</th>\n",
       "      <th>Enrolment in tertiary education, all programmes, both sexes (number)</th>\n",
       "      <th>Theoretical duration of secondary education (years)</th>\n",
       "      <th>Cluster</th>\n",
       "      <th>GDP per capita, PPP (constant 2011 international $)_score</th>\n",
       "      <th>Internet users (per 100 people)_score</th>\n",
       "      <th>Enrolment in secondary general, both sexes (number)_score</th>\n",
       "      <th>Enrolment in tertiary education, all programmes, both sexes (number)_score</th>\n",
       "      <th>Rang moyen</th>\n",
       "    </tr>\n",
       "    <tr>\n",
       "      <th>Country Name</th>\n",
       "      <th></th>\n",
       "      <th></th>\n",
       "      <th></th>\n",
       "      <th></th>\n",
       "      <th></th>\n",
       "      <th></th>\n",
       "      <th></th>\n",
       "      <th></th>\n",
       "      <th></th>\n",
       "      <th></th>\n",
       "      <th></th>\n",
       "    </tr>\n",
       "  </thead>\n",
       "  <tbody>\n",
       "    <tr>\n",
       "      <th>Germany</th>\n",
       "      <td>41438.62</td>\n",
       "      <td>81.13</td>\n",
       "      <td>6074760.17</td>\n",
       "      <td>2780012.75</td>\n",
       "      <td>9.0</td>\n",
       "      <td>1</td>\n",
       "      <td>120.0</td>\n",
       "      <td>111.0</td>\n",
       "      <td>104.0</td>\n",
       "      <td>105.0</td>\n",
       "      <td>110.00</td>\n",
       "    </tr>\n",
       "    <tr>\n",
       "      <th>Japan</th>\n",
       "      <td>35939.45</td>\n",
       "      <td>79.73</td>\n",
       "      <td>6438681.83</td>\n",
       "      <td>3879516.83</td>\n",
       "      <td>6.0</td>\n",
       "      <td>1</td>\n",
       "      <td>129.0</td>\n",
       "      <td>112.0</td>\n",
       "      <td>102.0</td>\n",
       "      <td>102.0</td>\n",
       "      <td>111.25</td>\n",
       "    </tr>\n",
       "    <tr>\n",
       "      <th>United Kingdom</th>\n",
       "      <td>36868.74</td>\n",
       "      <td>84.94</td>\n",
       "      <td>4589438.67</td>\n",
       "      <td>2433029.17</td>\n",
       "      <td>7.0</td>\n",
       "      <td>1</td>\n",
       "      <td>126.0</td>\n",
       "      <td>108.0</td>\n",
       "      <td>106.0</td>\n",
       "      <td>106.0</td>\n",
       "      <td>111.50</td>\n",
       "    </tr>\n",
       "    <tr>\n",
       "      <th>Netherlands</th>\n",
       "      <td>45742.38</td>\n",
       "      <td>91.00</td>\n",
       "      <td>783607.60</td>\n",
       "      <td>689077.00</td>\n",
       "      <td>6.0</td>\n",
       "      <td>1</td>\n",
       "      <td>113.0</td>\n",
       "      <td>103.0</td>\n",
       "      <td>118.0</td>\n",
       "      <td>117.0</td>\n",
       "      <td>112.75</td>\n",
       "    </tr>\n",
       "    <tr>\n",
       "      <th>France</th>\n",
       "      <td>37169.40</td>\n",
       "      <td>76.79</td>\n",
       "      <td>4731632.67</td>\n",
       "      <td>2246063.17</td>\n",
       "      <td>7.0</td>\n",
       "      <td>1</td>\n",
       "      <td>125.0</td>\n",
       "      <td>116.0</td>\n",
       "      <td>105.0</td>\n",
       "      <td>107.0</td>\n",
       "      <td>113.25</td>\n",
       "    </tr>\n",
       "    <tr>\n",
       "      <th>...</th>\n",
       "      <td>...</td>\n",
       "      <td>...</td>\n",
       "      <td>...</td>\n",
       "      <td>...</td>\n",
       "      <td>...</td>\n",
       "      <td>...</td>\n",
       "      <td>...</td>\n",
       "      <td>...</td>\n",
       "      <td>...</td>\n",
       "      <td>...</td>\n",
       "      <td>...</td>\n",
       "    </tr>\n",
       "    <tr>\n",
       "      <th>Macedonia, FYR</th>\n",
       "      <td>11405.50</td>\n",
       "      <td>54.85</td>\n",
       "      <td>136483.00</td>\n",
       "      <td>63293.60</td>\n",
       "      <td>8.0</td>\n",
       "      <td>1</td>\n",
       "      <td>162.0</td>\n",
       "      <td>142.0</td>\n",
       "      <td>144.0</td>\n",
       "      <td>147.0</td>\n",
       "      <td>148.75</td>\n",
       "    </tr>\n",
       "    <tr>\n",
       "      <th>Bosnia and Herzegovina</th>\n",
       "      <td>9872.26</td>\n",
       "      <td>45.58</td>\n",
       "      <td>206477.33</td>\n",
       "      <td>107131.67</td>\n",
       "      <td>8.0</td>\n",
       "      <td>1</td>\n",
       "      <td>163.0</td>\n",
       "      <td>154.0</td>\n",
       "      <td>142.0</td>\n",
       "      <td>143.0</td>\n",
       "      <td>150.50</td>\n",
       "    </tr>\n",
       "    <tr>\n",
       "      <th>St. Kitts and Nevis</th>\n",
       "      <td>22008.63</td>\n",
       "      <td>59.95</td>\n",
       "      <td>4289.50</td>\n",
       "      <td>859.00</td>\n",
       "      <td>5.0</td>\n",
       "      <td>1</td>\n",
       "      <td>147.0</td>\n",
       "      <td>138.0</td>\n",
       "      <td>160.0</td>\n",
       "      <td>162.0</td>\n",
       "      <td>151.75</td>\n",
       "    </tr>\n",
       "    <tr>\n",
       "      <th>Montenegro</th>\n",
       "      <td>14228.30</td>\n",
       "      <td>43.04</td>\n",
       "      <td>44774.20</td>\n",
       "      <td>21973.00</td>\n",
       "      <td>8.0</td>\n",
       "      <td>1</td>\n",
       "      <td>160.0</td>\n",
       "      <td>159.0</td>\n",
       "      <td>152.0</td>\n",
       "      <td>151.0</td>\n",
       "      <td>155.50</td>\n",
       "    </tr>\n",
       "    <tr>\n",
       "      <th>Seychelles</th>\n",
       "      <td>21892.51</td>\n",
       "      <td>44.42</td>\n",
       "      <td>7507.67</td>\n",
       "      <td>175.67</td>\n",
       "      <td>7.0</td>\n",
       "      <td>1</td>\n",
       "      <td>148.0</td>\n",
       "      <td>156.0</td>\n",
       "      <td>158.0</td>\n",
       "      <td>163.0</td>\n",
       "      <td>156.25</td>\n",
       "    </tr>\n",
       "  </tbody>\n",
       "</table>\n",
       "<p>64 rows × 11 columns</p>\n",
       "</div>"
      ],
      "text/plain": [
       "Indicator Name          GDP per capita, PPP (constant 2011 international $)  \\\n",
       "Country Name                                                                  \n",
       "Germany                                                          41438.62     \n",
       "Japan                                                            35939.45     \n",
       "United Kingdom                                                   36868.74     \n",
       "Netherlands                                                      45742.38     \n",
       "France                                                           37169.40     \n",
       "...                                                                   ...     \n",
       "Macedonia, FYR                                                   11405.50     \n",
       "Bosnia and Herzegovina                                            9872.26     \n",
       "St. Kitts and Nevis                                              22008.63     \n",
       "Montenegro                                                       14228.30     \n",
       "Seychelles                                                       21892.51     \n",
       "\n",
       "Indicator Name          Internet users (per 100 people)  \\\n",
       "Country Name                                              \n",
       "Germany                                           81.13   \n",
       "Japan                                             79.73   \n",
       "United Kingdom                                    84.94   \n",
       "Netherlands                                       91.00   \n",
       "France                                            76.79   \n",
       "...                                                 ...   \n",
       "Macedonia, FYR                                    54.85   \n",
       "Bosnia and Herzegovina                            45.58   \n",
       "St. Kitts and Nevis                               59.95   \n",
       "Montenegro                                        43.04   \n",
       "Seychelles                                        44.42   \n",
       "\n",
       "Indicator Name          Enrolment in secondary general, both sexes (number)  \\\n",
       "Country Name                                                                  \n",
       "Germany                                                        6074760.17     \n",
       "Japan                                                          6438681.83     \n",
       "United Kingdom                                                 4589438.67     \n",
       "Netherlands                                                     783607.60     \n",
       "France                                                         4731632.67     \n",
       "...                                                                   ...     \n",
       "Macedonia, FYR                                                  136483.00     \n",
       "Bosnia and Herzegovina                                          206477.33     \n",
       "St. Kitts and Nevis                                               4289.50     \n",
       "Montenegro                                                       44774.20     \n",
       "Seychelles                                                        7507.67     \n",
       "\n",
       "Indicator Name          Enrolment in tertiary education, all programmes, both sexes (number)  \\\n",
       "Country Name                                                                                   \n",
       "Germany                                                        2780012.75                      \n",
       "Japan                                                          3879516.83                      \n",
       "United Kingdom                                                 2433029.17                      \n",
       "Netherlands                                                     689077.00                      \n",
       "France                                                         2246063.17                      \n",
       "...                                                                   ...                      \n",
       "Macedonia, FYR                                                   63293.60                      \n",
       "Bosnia and Herzegovina                                          107131.67                      \n",
       "St. Kitts and Nevis                                                859.00                      \n",
       "Montenegro                                                       21973.00                      \n",
       "Seychelles                                                         175.67                      \n",
       "\n",
       "Indicator Name          Theoretical duration of secondary education (years)  \\\n",
       "Country Name                                                                  \n",
       "Germany                                                               9.0     \n",
       "Japan                                                                 6.0     \n",
       "United Kingdom                                                        7.0     \n",
       "Netherlands                                                           6.0     \n",
       "France                                                                7.0     \n",
       "...                                                                   ...     \n",
       "Macedonia, FYR                                                        8.0     \n",
       "Bosnia and Herzegovina                                                8.0     \n",
       "St. Kitts and Nevis                                                   5.0     \n",
       "Montenegro                                                            8.0     \n",
       "Seychelles                                                            7.0     \n",
       "\n",
       "Indicator Name          Cluster  \\\n",
       "Country Name                      \n",
       "Germany                       1   \n",
       "Japan                         1   \n",
       "United Kingdom                1   \n",
       "Netherlands                   1   \n",
       "France                        1   \n",
       "...                         ...   \n",
       "Macedonia, FYR                1   \n",
       "Bosnia and Herzegovina        1   \n",
       "St. Kitts and Nevis           1   \n",
       "Montenegro                    1   \n",
       "Seychelles                    1   \n",
       "\n",
       "Indicator Name          GDP per capita, PPP (constant 2011 international $)_score  \\\n",
       "Country Name                                                                        \n",
       "Germany                                                             120.0           \n",
       "Japan                                                               129.0           \n",
       "United Kingdom                                                      126.0           \n",
       "Netherlands                                                         113.0           \n",
       "France                                                              125.0           \n",
       "...                                                                   ...           \n",
       "Macedonia, FYR                                                      162.0           \n",
       "Bosnia and Herzegovina                                              163.0           \n",
       "St. Kitts and Nevis                                                 147.0           \n",
       "Montenegro                                                          160.0           \n",
       "Seychelles                                                          148.0           \n",
       "\n",
       "Indicator Name          Internet users (per 100 people)_score  \\\n",
       "Country Name                                                    \n",
       "Germany                                                 111.0   \n",
       "Japan                                                   112.0   \n",
       "United Kingdom                                          108.0   \n",
       "Netherlands                                             103.0   \n",
       "France                                                  116.0   \n",
       "...                                                       ...   \n",
       "Macedonia, FYR                                          142.0   \n",
       "Bosnia and Herzegovina                                  154.0   \n",
       "St. Kitts and Nevis                                     138.0   \n",
       "Montenegro                                              159.0   \n",
       "Seychelles                                              156.0   \n",
       "\n",
       "Indicator Name          Enrolment in secondary general, both sexes (number)_score  \\\n",
       "Country Name                                                                        \n",
       "Germany                                                             104.0           \n",
       "Japan                                                               102.0           \n",
       "United Kingdom                                                      106.0           \n",
       "Netherlands                                                         118.0           \n",
       "France                                                              105.0           \n",
       "...                                                                   ...           \n",
       "Macedonia, FYR                                                      144.0           \n",
       "Bosnia and Herzegovina                                              142.0           \n",
       "St. Kitts and Nevis                                                 160.0           \n",
       "Montenegro                                                          152.0           \n",
       "Seychelles                                                          158.0           \n",
       "\n",
       "Indicator Name          Enrolment in tertiary education, all programmes, both sexes (number)_score  \\\n",
       "Country Name                                                                                         \n",
       "Germany                                                             105.0                            \n",
       "Japan                                                               102.0                            \n",
       "United Kingdom                                                      106.0                            \n",
       "Netherlands                                                         117.0                            \n",
       "France                                                              107.0                            \n",
       "...                                                                   ...                            \n",
       "Macedonia, FYR                                                      147.0                            \n",
       "Bosnia and Herzegovina                                              143.0                            \n",
       "St. Kitts and Nevis                                                 162.0                            \n",
       "Montenegro                                                          151.0                            \n",
       "Seychelles                                                          163.0                            \n",
       "\n",
       "Indicator Name          Rang moyen  \n",
       "Country Name                        \n",
       "Germany                     110.00  \n",
       "Japan                       111.25  \n",
       "United Kingdom              111.50  \n",
       "Netherlands                 112.75  \n",
       "France                      113.25  \n",
       "...                            ...  \n",
       "Macedonia, FYR              148.75  \n",
       "Bosnia and Herzegovina      150.50  \n",
       "St. Kitts and Nevis         151.75  \n",
       "Montenegro                  155.50  \n",
       "Seychelles                  156.25  \n",
       "\n",
       "[64 rows x 11 columns]"
      ]
     },
     "execution_count": 144,
     "metadata": {},
     "output_type": "execute_result"
    }
   ],
   "source": [
    "top_indicateur.sort_values('Rang moyen').round(2)"
   ]
  },
  {
   "cell_type": "code",
   "execution_count": null,
   "id": "c0888f7e",
   "metadata": {},
   "outputs": [],
   "source": []
  }
 ],
 "metadata": {
  "kernelspec": {
   "display_name": "venv",
   "language": "python",
   "name": "python3"
  },
  "language_info": {
   "codemirror_mode": {
    "name": "ipython",
    "version": 3
   },
   "file_extension": ".py",
   "mimetype": "text/x-python",
   "name": "python",
   "nbconvert_exporter": "python",
   "pygments_lexer": "ipython3",
   "version": "3.12.3"
  }
 },
 "nbformat": 4,
 "nbformat_minor": 5
}
